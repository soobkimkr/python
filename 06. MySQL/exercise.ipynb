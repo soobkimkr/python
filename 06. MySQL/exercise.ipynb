{
 "metadata": {
  "language_info": {
   "codemirror_mode": {
    "name": "ipython",
    "version": 3
   },
   "file_extension": ".py",
   "mimetype": "text/x-python",
   "name": "python",
   "nbconvert_exporter": "python",
   "pygments_lexer": "ipython3",
   "version": "3.8.5"
  },
  "orig_nbformat": 2,
  "kernelspec": {
   "name": "python385jvsc74a57bd08c1eae21719a0790335dcb83aad72b63b602cfe5cdb2bda0f60bc11d4f154e4b",
   "display_name": "Python 3.8.5 64-bit ('base': conda)"
  }
 },
 "nbformat": 4,
 "nbformat_minor": 2,
 "cells": [
  {
   "cell_type": "code",
   "execution_count": 1,
   "metadata": {},
   "outputs": [],
   "source": [
    "sql = '''\n",
    "SELECT r.continent, COUNT(*), round(AVG(l.Population)) FROM city AS l\n",
    "\tJOIN country AS r ON l.countrycode=r.code\n",
    "\t\tGROUP BY r.continent\n",
    "\t\t\tORDER BY AVG(l.population) desc;\n",
    "'''"
   ]
  }
 ]
}