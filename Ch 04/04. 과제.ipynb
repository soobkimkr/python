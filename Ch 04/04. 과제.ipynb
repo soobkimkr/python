{
 "metadata": {
  "language_info": {
   "codemirror_mode": {
    "name": "ipython",
    "version": 3
   },
   "file_extension": ".py",
   "mimetype": "text/x-python",
   "name": "python",
   "nbconvert_exporter": "python",
   "pygments_lexer": "ipython3",
   "version": "3.8.5"
  },
  "orig_nbformat": 2,
  "kernelspec": {
   "name": "python385jvsc74a57bd08c1eae21719a0790335dcb83aad72b63b602cfe5cdb2bda0f60bc11d4f154e4b",
   "display_name": "Python 3.8.5 64-bit ('base': conda)"
  }
 },
 "nbformat": 4,
 "nbformat_minor": 2,
 "cells": [
  {
   "source": [
    "# 20210524 조건문/반복문 연습문제"
   ],
   "cell_type": "markdown",
   "metadata": {}
  },
  {
   "source": [
    "# 1. 조건문"
   ],
   "cell_type": "markdown",
   "metadata": {}
  },
  {
   "cell_type": "code",
   "execution_count": 4,
   "metadata": {},
   "outputs": [
    {
     "output_type": "stream",
     "name": "stdout",
     "text": [
      "2021년은 평년입니다.\n"
     ]
    }
   ],
   "source": [
    "# 1) \n",
    "year = int(input('연도'))\n",
    "if year % 4 == 0 and year % 100 != 0 or year % 400 == 0:\n",
    "    print(f'{year}년은 윤년입니다.')\n",
    "else:\n",
    "    print(f'{year}년은 평년입니다.')"
   ]
  },
  {
   "cell_type": "code",
   "execution_count": 21,
   "metadata": {},
   "outputs": [
    {
     "output_type": "stream",
     "name": "stdout",
     "text": [
      "29\n"
     ]
    }
   ],
   "source": [
    "# 2)\n",
    "from datetime import date\n",
    "today = date.today()\n",
    "today.year\n",
    "birth = input('생년월일')\n",
    "y, m, d = map(int, birth.split())\n",
    "if today.month > m and today.day > d:\n",
    "    print(today.year - y + 1)\n",
    "else:\n",
    "    print(today.year - y)"
   ]
  },
  {
   "cell_type": "code",
   "execution_count": 37,
   "metadata": {},
   "outputs": [
    {
     "output_type": "stream",
     "name": "stdout",
     "text": [
      "200 375 425\n"
     ]
    }
   ],
   "source": [
    "# 3)\n",
    "for a in range(1, 1001):\n",
    "    for b in range(1, 1001):\n",
    "        c = 1000 - a - b\n",
    "        if a * a + b * b == c * c and a < b < c:\n",
    "            print(a, b, c)"
   ]
  },
  {
   "source": [
    "# 2. 반복문"
   ],
   "cell_type": "markdown",
   "metadata": {}
  },
  {
   "cell_type": "code",
   "execution_count": 43,
   "metadata": {},
   "outputs": [
    {
     "output_type": "stream",
     "name": "stdout",
     "text": [
      "+\n+++\n+++++\n+++++++\n+++++\n+++\n+\n"
     ]
    }
   ],
   "source": [
    "# 1)\n",
    "y = int(input('줄을 홀수로 입력하세요.'))\n",
    "x = int(y / 2)+1\n",
    "for i in range(1, 2 * x):\n",
    "    if (i <= x):\n",
    "        for k in range(x - i):\n",
    "            print('', end='')\n",
    "        for k in range(2 * i - 1):\n",
    "            print('+', end='')\n",
    "        print()\n",
    "    else:\n",
    "        for k in range(i-x):\n",
    "            print('', end='')\n",
    "        for k in range((2 * x - i) * 2 -1):\n",
    "            print('+', end='')\n",
    "        print()"
   ]
  },
  {
   "cell_type": "code",
   "execution_count": 49,
   "metadata": {},
   "outputs": [
    {
     "output_type": "stream",
     "name": "stdout",
     "text": [
      "29700\n"
     ]
    }
   ],
   "source": [
    "# 2)\n",
    "sumSec = 0\n",
    "for hour in range(24):\n",
    "    for minute in range(60):\n",
    "        if '3' in str(hour) or '3' in str(minute):\n",
    "            sumSec += 60\n",
    "print(sumSec)"
   ]
  },
  {
   "cell_type": "code",
   "execution_count": 68,
   "metadata": {},
   "outputs": [
    {
     "output_type": "stream",
     "name": "stdout",
     "text": [
      "0 : 192 개\n1 : 301 개\n2 : 300 개\n3 : 300 개\n4 : 300 개\n5 : 300 개\n6 : 300 개\n7 : 300 개\n8 : 300 개\n9 : 300 개\n"
     ]
    }
   ],
   "source": [
    "# 3)\n",
    "c = [0, 0, 0, 0, 0, 0, 0, 0, 0, 0]\n",
    "for i in range(1, 1001):\n",
    "    for k in str(i):\n",
    "            c[int(k)] += 1\n",
    "for x in range(10):\n",
    "    print(x, ':', c[x], '개')"
   ]
  },
  {
   "cell_type": "code",
   "execution_count": 64,
   "metadata": {
    "tags": []
   },
   "outputs": [
    {
     "output_type": "stream",
     "name": "stdout",
     "text": [
      "[1]\n"
     ]
    }
   ],
   "source": [
    "# 4)\n",
    "result = list()\n",
    "for i in range(1, 10001):\n",
    "    sum = 0\n",
    "    for k in range(1, 10000):\n",
    "        if i % k == 0:\n",
    "            sum += k\n",
    "    if sum == i:\n",
    "        result.append(i)\n",
    "print(result)"
   ]
  },
  {
   "cell_type": "code",
   "execution_count": 51,
   "metadata": {},
   "outputs": [
    {
     "output_type": "stream",
     "name": "stdout",
     "text": [
      "2640\n"
     ]
    }
   ],
   "source": [
    "# 5)\n",
    "num = int(input('자연수를 입력하십시오.'))\n",
    "x = 0\n",
    "y = 0\n",
    "for i in range(1, num+1):\n",
    "    x += i ** 2\n",
    "    y += i\n",
    "print((y ** 2) - x)"
   ]
  }
 ]
}