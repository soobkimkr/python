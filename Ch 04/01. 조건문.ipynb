{
 "metadata": {
  "language_info": {
   "codemirror_mode": {
    "name": "ipython",
    "version": 3
   },
   "file_extension": ".py",
   "mimetype": "text/x-python",
   "name": "python",
   "nbconvert_exporter": "python",
   "pygments_lexer": "ipython3",
   "version": "3.8.5"
  },
  "orig_nbformat": 2,
  "kernelspec": {
   "name": "python385jvsc74a57bd08c1eae21719a0790335dcb83aad72b63b602cfe5cdb2bda0f60bc11d4f154e4b",
   "display_name": "Python 3.8.5 64-bit ('base': conda)"
  }
 },
 "nbformat": 4,
 "nbformat_minor": 2,
 "cells": [
  {
   "source": [
    "# 조건문"
   ],
   "cell_type": "markdown",
   "metadata": {}
  },
  {
   "source": [
    "if -else"
   ],
   "cell_type": "markdown",
   "metadata": {}
  },
  {
   "cell_type": "code",
   "execution_count": 2,
   "metadata": {},
   "outputs": [
    {
     "output_type": "stream",
     "name": "stdout",
     "text": [
      "You are not accepted.\n"
     ]
    }
   ],
   "source": [
    "age = int(input('Tell me your age'))\n",
    "if age < 30: # if <조건>:\n",
    "    print('Welcome to the Club!') # <조건명령 1-1>\n",
    "else: # else:\n",
    "    print('You are not accepted.') # <조건명령 2-1>"
   ]
  },
  {
   "cell_type": "code",
   "execution_count": 7,
   "metadata": {},
   "outputs": [
    {
     "output_type": "stream",
     "name": "stdout",
     "text": [
      "Welcome to the Club!\n"
     ]
    }
   ],
   "source": [
    "age = int(input('Tell me your age'))\n",
    "if age > 15 and age < 30:\n",
    "    print('Welcome to the Club!')\n",
    "else:\n",
    "    print('You are not accepted.')"
   ]
  },
  {
   "cell_type": "code",
   "execution_count": 9,
   "metadata": {},
   "outputs": [
    {
     "output_type": "stream",
     "name": "stdout",
     "text": [
      "***\n"
     ]
    }
   ],
   "source": [
    "print('***')"
   ]
  },
  {
   "cell_type": "code",
   "execution_count": 10,
   "metadata": {},
   "outputs": [
    {
     "output_type": "stream",
     "name": "stdout",
     "text": [
      "You are not accepted.\n"
     ]
    }
   ],
   "source": [
    "age = int(input('Tell me your age'))\n",
    "if age > 15 and age < 30: print('Welcome to the Club!') # 문장이 짧은 경우 indentation 꼭 필요하진 않음.\n",
    "else: print('You are not accepted.')"
   ]
  },
  {
   "cell_type": "code",
   "execution_count": 11,
   "metadata": {},
   "outputs": [
    {
     "output_type": "stream",
     "name": "stdout",
     "text": [
      "Welcome to the Club!\n"
     ]
    }
   ],
   "source": [
    "age = int(input('Tell me your age'))\n",
    "if 15 < age < 30: print('Welcome to the Club!') # between 개념으로도 부등호 조건을 표현 가능.\n",
    "else: print('You are not accepted.')"
   ]
  },
  {
   "source": [
    "# - 3항 연산자"
   ],
   "cell_type": "markdown",
   "metadata": {}
  },
  {
   "cell_type": "code",
   "execution_count": 12,
   "metadata": {},
   "outputs": [
    {
     "output_type": "stream",
     "name": "stdout",
     "text": [
      "Welcome to the Club!\n"
     ]
    }
   ],
   "source": [
    "age = int(input('Tell me your age.'))\n",
    "msg = 'Welcome to the Club!' if 15 < age < 30 else 'Your are not accepted.' # 조건명령이 앞서 나올 경우 (:을 사용하지 않음)\n",
    "print(msg)"
   ]
  },
  {
   "source": [
    "# - 조건의 판단"
   ],
   "cell_type": "markdown",
   "metadata": {}
  },
  {
   "cell_type": "code",
   "execution_count": 14,
   "metadata": {},
   "outputs": [
    {
     "output_type": "execute_result",
     "data": {
      "text/plain": [
       "99998"
      ]
     },
     "metadata": {},
     "execution_count": 14
    }
   ],
   "source": [
    "3 == 3 or 99998 # 앞의 조건이 참이면 뒤의 조건은 상관이 없음.\n",
    "3 == 4 or 99998 # 앞의 조건이 거짓이면 뒤의 조건(0이 아닌 값은 참)을 만족해야 함."
   ]
  },
  {
   "source": [
    "if-elif-else 문"
   ],
   "cell_type": "markdown",
   "metadata": {}
  },
  {
   "cell_type": "code",
   "execution_count": 15,
   "metadata": {},
   "outputs": [
    {
     "output_type": "stream",
     "name": "stdout",
     "text": [
      "D\n"
     ]
    }
   ],
   "source": [
    "# 높은 조건의 점수에서 잘못된 결과를 출력\n",
    "score = int(input('Enter your score.'))\n",
    "if score >= 90:\n",
    "    grade = 'A'\n",
    "if score >= 80:\n",
    "    grade = 'B'\n",
    "if score >= 70:\n",
    "    grade = 'C'\n",
    "if score >= 60:\n",
    "    grade = 'D'\n",
    "if score < 60:\n",
    "    grade = 'F'\n",
    "print(grade)"
   ]
  },
  {
   "cell_type": "code",
   "execution_count": 17,
   "metadata": {},
   "outputs": [
    {
     "output_type": "stream",
     "name": "stdout",
     "text": [
      "A\n"
     ]
    }
   ],
   "source": [
    "# 해결책1 - 포함 범위가 줄어드는 방향으로\n",
    "score = int(input('Enter your score.'))\n",
    "if score < 60:\n",
    "    grade = 'F'\n",
    "if score >= 60:\n",
    "    grade = 'D'\n",
    "if score >= 70:\n",
    "    grade = 'C'\n",
    "if score >= 80:\n",
    "    grade = 'B'\n",
    "if score >= 90:\n",
    "    grade = 'A'\n",
    "print(grade)"
   ]
  },
  {
   "cell_type": "code",
   "execution_count": 18,
   "metadata": {},
   "outputs": [
    {
     "output_type": "stream",
     "name": "stdout",
     "text": [
      "A\n"
     ]
    }
   ],
   "source": [
    "# 해결책2 - if-elif-else 문\n",
    "score = int(input('Enter your score.'))\n",
    "if score >= 90:\n",
    "    grade = 'A'\n",
    "elif score >= 80:\n",
    "    grade = 'B'\n",
    "elif score >= 70:\n",
    "    grade = 'C'\n",
    "elif score >= 60:\n",
    "    grade = 'D'\n",
    "else:\n",
    "    grade = 'F'\n",
    "print(grade)"
   ]
  },
  {
   "cell_type": "code",
   "execution_count": 23,
   "metadata": {},
   "outputs": [
    {
     "output_type": "error",
     "ename": "SyntaxError",
     "evalue": "unexpected character after line continuation character (<ipython-input-23-41fb6df9a1e3>, line 3)",
     "traceback": [
      "\u001b[1;36m  File \u001b[1;32m\"<ipython-input-23-41fb6df9a1e3>\"\u001b[1;36m, line \u001b[1;32m3\u001b[0m\n\u001b[1;33m    grade = 'A' if score >= 90 else \\\u001b[0m\n\u001b[1;37m                                      ^\u001b[0m\n\u001b[1;31mSyntaxError\u001b[0m\u001b[1;31m:\u001b[0m unexpected character after line continuation character\n"
     ]
    }
   ],
   "source": [
    "# 해결책3 - 3항 연산자\n",
    "score = int(input('Enter your score.'))\n",
    "grade = 'A' if score >= 90 else \\ \n",
    "            'B' if score >= 80 else \\\n",
    "                'C' if score >=70 else \\\n",
    "                    'D' if score >= 60 else 'F'\n",
    "print(grade)"
   ]
  },
  {
   "source": [
    "if 응용"
   ],
   "cell_type": "markdown",
   "metadata": {}
  },
  {
   "cell_type": "code",
   "execution_count": 24,
   "metadata": {},
   "outputs": [
    {
     "output_type": "execute_result",
     "data": {
      "text/plain": [
       "datetime.date(2021, 5, 24)"
      ]
     },
     "metadata": {},
     "execution_count": 24
    }
   ],
   "source": [
    "from datetime import date\n",
    "date.today()"
   ]
  },
  {
   "cell_type": "code",
   "execution_count": 25,
   "metadata": {},
   "outputs": [
    {
     "output_type": "execute_result",
     "data": {
      "text/plain": [
       "(2021, 5, 24)"
      ]
     },
     "metadata": {},
     "execution_count": 25
    }
   ],
   "source": [
    "today = date.today()\n",
    "today.year, today.month, today.day"
   ]
  },
  {
   "cell_type": "code",
   "execution_count": 26,
   "metadata": {},
   "outputs": [
    {
     "output_type": "stream",
     "name": "stdout",
     "text": [
      "30\n"
     ]
    }
   ],
   "source": [
    "birth_year = int(input('태어난 연도를 입력하세요.'))\n",
    "age = today.year - birth_year + 1\n",
    "print(age)"
   ]
  },
  {
   "cell_type": "code",
   "execution_count": 27,
   "metadata": {},
   "outputs": [
    {
     "output_type": "stream",
     "name": "stdout",
     "text": [
      "학생이 아님\n"
     ]
    }
   ],
   "source": [
    "birth_year = int(input('태어난 연도를 입력하세요.'))\n",
    "age = today.year - birth_year + 1\n",
    "\n",
    "if 20 <= age <= 26: print('대학생')\n",
    "elif 17 <= age <20: print('고등학생')\n",
    "elif 14 <= age < 17: print('중학생')\n",
    "elif 8 <= age < 14: print('초등학생')\n",
    "else: print('학생이 아님')"
   ]
  },
  {
   "cell_type": "code",
   "execution_count": 34,
   "metadata": {},
   "outputs": [
    {
     "output_type": "stream",
     "name": "stdout",
     "text": [
      "1\n2\nFizzBuzz\n4\nBuzz\nFizzBuzz\n7\n8\nFizzBuzz\nBuzz\n11\nFizzBuzz\n13\n14\nFizz\n16\n17\nFizzBuzz\n19\nBuzz\nFizzBuzz\n22\n23\nFizzBuzz\nBuzz\n26\nFizzBuzz\n28\n29\nFizz\n31\n32\nFizzBuzz\n34\nBuzz\nFizzBuzz\n37\n38\nFizzBuzz\nBuzz\n41\nFizzBuzz\n43\n44\nFizz\n46\n47\nFizzBuzz\n49\nBuzz\nFizzBuzz\n52\n53\nFizzBuzz\nBuzz\n56\nFizzBuzz\n58\n59\nFizz\n61\n62\nFizzBuzz\n64\nBuzz\nFizzBuzz\n67\n68\nFizzBuzz\nBuzz\n71\nFizzBuzz\n73\n74\nFizz\n76\n77\nFizzBuzz\n79\nBuzz\nFizzBuzz\n82\n83\nFizzBuzz\nBuzz\n86\nFizzBuzz\n88\n89\nFizz\n91\n92\nFizzBuzz\n94\nBuzz\nFizzBuzz\n97\n98\nFizzBuzz\nBuzz\n"
     ]
    }
   ],
   "source": [
    "for i in range(1, 101):\n",
    "    if i % 3 == 0 and i % 5: print('FizzBuzz')\n",
    "    elif i % 3 == 0: print('Fizz')\n",
    "    elif i % 5 == 0: print('Buzz')\n",
    "    else: print(i) "
   ]
  },
  {
   "cell_type": "code",
   "execution_count": 38,
   "metadata": {},
   "outputs": [
    {
     "output_type": "stream",
     "name": "stdout",
     "text": [
      "1\n2\nFizz\n4\nBuzz\nFizz\n7\n8\nFizz\nBuzz\n11\nFizz\n13\n14\nFizzBuzz\n16\n17\nFizz\n19\nBuzz\nFizz\n22\n23\nFizz\nBuzz\n26\nFizz\n28\n29\nFizzBuzz\n31\n32\nFizz\n34\nBuzz\nFizz\n37\n38\nFizz\nBuzz\n41\nFizz\n43\n44\nFizzBuzz\n46\n47\nFizz\n49\nBuzz\nFizz\n52\n53\nFizz\nBuzz\n56\nFizz\n58\n59\nFizzBuzz\n61\n62\nFizz\n64\nBuzz\nFizz\n67\n68\nFizz\nBuzz\n71\nFizz\n73\n74\nFizzBuzz\n76\n77\nFizz\n79\nBuzz\nFizz\n82\n83\nFizz\nBuzz\n86\nFizz\n88\n89\nFizzBuzz\n91\n92\nFizz\n94\nBuzz\nFizz\n97\n98\nFizz\nBuzz\n"
     ]
    }
   ],
   "source": [
    "for i in range(1, 101):\n",
    "    print('Fizz' * (i % 3 == 0) + 'Buzz' * (i % 5 == 0) or i) # 논리값으로 연산"
   ]
  },
  {
   "cell_type": "code",
   "execution_count": null,
   "metadata": {},
   "outputs": [],
   "source": []
  }
 ]
}