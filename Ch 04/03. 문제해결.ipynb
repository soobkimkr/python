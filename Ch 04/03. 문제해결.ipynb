{
 "metadata": {
  "language_info": {
   "codemirror_mode": {
    "name": "ipython",
    "version": 3
   },
   "file_extension": ".py",
   "mimetype": "text/x-python",
   "name": "python",
   "nbconvert_exporter": "python",
   "pygments_lexer": "ipython3",
   "version": "3.8.5"
  },
  "orig_nbformat": 2,
  "kernelspec": {
   "name": "python385jvsc74a57bd08c1eae21719a0790335dcb83aad72b63b602cfe5cdb2bda0f60bc11d4f154e4b",
   "display_name": "Python 3.8.5 64-bit ('base': conda)"
  }
 },
 "nbformat": 4,
 "nbformat_minor": 2,
 "cells": [
  {
   "source": [
    "1. 구구단 계산기"
   ],
   "cell_type": "markdown",
   "metadata": {}
  },
  {
   "cell_type": "code",
   "execution_count": 1,
   "metadata": {},
   "outputs": [
    {
     "output_type": "stream",
     "name": "stdout",
     "text": [
      "6 x 1 = 6\n6 x 2 = 12\n6 x 3 = 18\n6 x 4 = 24\n6 x 5 = 30\n6 x 6 = 36\n6 x 7 = 42\n6 x 8 = 48\n6 x 9 = 54\n"
     ]
    }
   ],
   "source": [
    "# 구구단 6단\n",
    "n = 6\n",
    "for i in range(1,10):\n",
    "    print(f'{n} x {i} = {n*i}')"
   ]
  },
  {
   "cell_type": "code",
   "execution_count": 2,
   "metadata": {},
   "outputs": [
    {
     "output_type": "stream",
     "name": "stdout",
     "text": [
      "8 x 1 = 8\n8 x 2 = 16\n8 x 3 = 24\n8 x 4 = 32\n8 x 5 = 40\n8 x 6 = 48\n8 x 7 = 56\n8 x 8 = 64\n8 x 9 = 72\n"
     ]
    }
   ],
   "source": [
    "n = int(input('구구단 단수를 입력하세요.'))\n",
    "for i in range(1,10):\n",
    "  print(f'{n} x {i} = {n*i}') # formatted string"
   ]
  },
  {
   "source": [
    "# 문자열 역순 출력"
   ],
   "cell_type": "markdown",
   "metadata": {}
  },
  {
   "cell_type": "code",
   "execution_count": 4,
   "metadata": {},
   "outputs": [
    {
     "output_type": "stream",
     "name": "stdout",
     "text": [
      "Hello World - H\nHello World - eH\nHello World - leH\nHello World - lleH\nHello World - olleH\nHello World -  olleH\nHello World - W olleH\nHello World - oW olleH\nHello World - roW olleH\nHello World - lroW olleH\nHello World - dlroW olleH\n"
     ]
    }
   ],
   "source": [
    "sentence = input('문자열')\n",
    "reverse_sentence = ''\n",
    "for char in sentence:\n",
    "    reverse_sentence = char + reverse_sentence\n",
    "    print(sentence, '-', reverse_sentence)"
   ]
  },
  {
   "source": [
    "# 십진수를 이진수로 변환"
   ],
   "cell_type": "markdown",
   "metadata": {}
  },
  {
   "cell_type": "code",
   "execution_count": 7,
   "metadata": {},
   "outputs": [
    {
     "output_type": "stream",
     "name": "stdout",
     "text": [
      "1010\n"
     ]
    }
   ],
   "source": [
    "num = int(input('십진수')) # 십진수\n",
    "result = '' # 이진수\n",
    "while num > 0:\n",
    "    remainder = num % 2 # 2로 나눈 나머지\n",
    "    num = num // 2 # 2로 나눈 몫\n",
    "    result = str(remainder) + result # 나머지 + \n",
    "print(result) "
   ]
  },
  {
   "source": [
    "# Lab: 숫자 찾기 게임"
   ],
   "cell_type": "markdown",
   "metadata": {}
  },
  {
   "cell_type": "code",
   "execution_count": 8,
   "metadata": {},
   "outputs": [],
   "source": [
    "import random # 난수 생성\n",
    "random_number = random.randint(1, 100) # 1부터 99까지 난수 생성"
   ]
  },
  {
   "cell_type": "code",
   "execution_count": 9,
   "metadata": {},
   "outputs": [
    {
     "output_type": "stream",
     "name": "stdout",
     "text": [
      "숫자가 큽니다.\n",
      "숫자가 작습니다\n",
      "숫자가 작습니다\n",
      "숫자가 큽니다.\n",
      "숫자가 큽니다.\n",
      "숫자가 큽니다.\n",
      "숫자가 큽니다.\n",
      "숫자가 큽니다.\n",
      "숫자가 큽니다.\n",
      "숫자가 큽니다.\n",
      "빙고. 정답은 34!!!\n"
     ]
    }
   ],
   "source": [
    "while True:\n",
    "    guess = int(input('1~100 사이의 정수를 찾아보세요.')) # 추측값 입력\n",
    "    if guess == random_number: # 추측값 = 난수 일 경우\n",
    "        print(f'빙고. 정답은 {guess}!!!')\n",
    "        break # 게임 중단\n",
    "    if guess > random_number: # 추측값 > 난수 일 경우\n",
    "        print('숫자가 큽니다.')\n",
    "    else: # 추측값 < 난수 일 경우\n",
    "        print('숫자가 작습니다')"
   ]
  },
  {
   "source": [
    "# 별표 그리기"
   ],
   "cell_type": "markdown",
   "metadata": {}
  },
  {
   "cell_type": "code",
   "execution_count": 11,
   "metadata": {},
   "outputs": [
    {
     "output_type": "stream",
     "name": "stdout",
     "text": [
      "+\n++\n+++\n++++\n+++++\n"
     ]
    }
   ],
   "source": [
    "for i in range(1, 6): # 행은 1~5\n",
    "    for k in range(i): # 각 행에 들어갈 +의 수\n",
    "        print('+', sep='', end='')\n",
    "    print()"
   ]
  },
  {
   "cell_type": "code",
   "execution_count": 12,
   "metadata": {},
   "outputs": [
    {
     "output_type": "stream",
     "name": "stdout",
     "text": [
      "+++++\n++++\n+++\n++\n+\n"
     ]
    }
   ],
   "source": [
    "for i in range(1, 6): # 1~5 행\n",
    "    for k in range(1, i): # 각 행의 빈칸\n",
    "        print('', sep='', end='')\n",
    "    for k in range(5-i+1): # 5~0\n",
    "        print('+', sep='', end='')\n",
    "    print()"
   ]
  },
  {
   "source": [
    "4의 배수: 윤년\n",
    "100의 배수: 윤년 X\n",
    "400의 배수: 윤년"
   ],
   "cell_type": "markdown",
   "metadata": {}
  }
 ]
}