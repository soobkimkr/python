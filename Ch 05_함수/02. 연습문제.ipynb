{
 "metadata": {
  "language_info": {
   "codemirror_mode": {
    "name": "ipython",
    "version": 3
   },
   "file_extension": ".py",
   "mimetype": "text/x-python",
   "name": "python",
   "nbconvert_exporter": "python",
   "pygments_lexer": "ipython3",
   "version": "3.8.5"
  },
  "orig_nbformat": 2,
  "kernelspec": {
   "name": "python385jvsc74a57bd08c1eae21719a0790335dcb83aad72b63b602cfe5cdb2bda0f60bc11d4f154e4b",
   "display_name": "Python 3.8.5 64-bit ('base': conda)"
  }
 },
 "nbformat": 4,
 "nbformat_minor": 2,
 "cells": [
  {
   "source": [
    "# palindrome"
   ],
   "cell_type": "markdown",
   "metadata": {}
  },
  {
   "cell_type": "code",
   "execution_count": 1,
   "metadata": {},
   "outputs": [],
   "source": [
    "#1\n",
    "def is_palindrome(s):\n",
    "    return s == s[::-1]"
   ]
  },
  {
   "cell_type": "code",
   "execution_count": 2,
   "metadata": {},
   "outputs": [
    {
     "output_type": "stream",
     "name": "stdout",
     "text": [
      "906609 913 993\n"
     ]
    }
   ],
   "source": [
    "max_num, max_i, max_k = 0, 0, 0\n",
    "for i in range(100, 1000):\n",
    "    for k in range(100, 1000):\n",
    "        if is_palindrome(str(i * k)): # 두 정수의 곱이 palindrome이라면,\n",
    "            if max_num < i * k:\n",
    "                max_num = i * k\n",
    "                max_i, max_k = i, k\n",
    "print(max_num, max_i, max_k)    "
   ]
  },
  {
   "source": [
    "# min, max, average 구하기"
   ],
   "cell_type": "markdown",
   "metadata": {}
  },
  {
   "cell_type": "code",
   "execution_count": null,
   "metadata": {},
   "outputs": [],
   "source": [
    "def get_min_max_score(kor, eng, mat, sci):\n",
    "    min, max = 100., 0.\n",
    "    for score in [kor, eng, mat, sci]:\n",
    "        if min > score:\n",
    "            min = score\n",
    "        if max < score:\n",
    "            max = score\n",
    "    return min, max"
   ]
  },
  {
   "cell_type": "code",
   "execution_count": 3,
   "metadata": {},
   "outputs": [],
   "source": [
    "def get_min_max_score1(*args):\n",
    "    min, max = 100., 0.\n",
    "    for score in args:\n",
    "        if min > score:\n",
    "            min = score\n",
    "        if max < score:\n",
    "            max = score\n",
    "    return min, max"
   ]
  },
  {
   "cell_type": "code",
   "execution_count": 4,
   "metadata": {},
   "outputs": [],
   "source": [
    "def get_min_max_score2(*args):\n",
    "    return min(args), max(args) # 최소값과 최대값을 출력"
   ]
  },
  {
   "cell_type": "code",
   "execution_count": 5,
   "metadata": {},
   "outputs": [],
   "source": [
    "def get_average(**kwargs):\n",
    "    sum = 0\n",
    "    for key, value in kwargs.items():\n",
    "        sum += value\n",
    "    return sum / len(kwargs)"
   ]
  },
  {
   "cell_type": "code",
   "execution_count": 6,
   "metadata": {},
   "outputs": [],
   "source": [
    "def get_average2(**kwargs):\n",
    "    return sum(kwargs.values()) / len(kwargs)"
   ]
  },
  {
   "cell_type": "code",
   "execution_count": 7,
   "metadata": {},
   "outputs": [
    {
     "output_type": "error",
     "ename": "TypeError",
     "evalue": "'builtin_function_or_method' object is not iterable",
     "traceback": [
      "\u001b[1;31m---------------------------------------------------------------------------\u001b[0m",
      "\u001b[1;31mTypeError\u001b[0m                                 Traceback (most recent call last)",
      "\u001b[1;32m<ipython-input-7-2fa42b561a88>\u001b[0m in \u001b[0;36m<module>\u001b[1;34m\u001b[0m\n\u001b[1;32m----> 1\u001b[1;33m \u001b[0mkor\u001b[0m\u001b[1;33m,\u001b[0m \u001b[0meng\u001b[0m\u001b[1;33m,\u001b[0m \u001b[0mmat\u001b[0m\u001b[1;33m,\u001b[0m \u001b[0msci\u001b[0m \u001b[1;33m=\u001b[0m \u001b[0mmap\u001b[0m\u001b[1;33m(\u001b[0m\u001b[0mfloat\u001b[0m\u001b[1;33m,\u001b[0m \u001b[0minput\u001b[0m\u001b[1;33m(\u001b[0m\u001b[1;33m)\u001b[0m\u001b[1;33m.\u001b[0m\u001b[0msplit\u001b[0m\u001b[1;33m)\u001b[0m\u001b[1;33m\u001b[0m\u001b[1;33m\u001b[0m\u001b[0m\n\u001b[0m",
      "\u001b[1;31mTypeError\u001b[0m: 'builtin_function_or_method' object is not iterable"
     ]
    }
   ],
   "source": [
    "kor, eng, mat, sci = map(float, input().split)"
   ]
  },
  {
   "cell_type": "code",
   "execution_count": null,
   "metadata": {},
   "outputs": [],
   "source": [
    "min_score, max_score = get_min_max_score(kor, eng, mat, sci)\n",
    "avg_score = get_average(kor=kor, eng=eng, mat=mat, sci=sci)\n",
    "print(f'국어: {kor}, 영어: {eng}, 수학: {mat}, 과학 {sci}')\n",
    "print(f'최하점수: {min_score}, 최고점수: {max_score}, 평균점수: {avg_score:.1f}')"
   ]
  },
  {
   "cell_type": "code",
   "execution_count": null,
   "metadata": {},
   "outputs": [],
   "source": [
    "min_score, max_score = get_min_max_score2(kor, eng, mat, sci)\n",
    "avg_score = get_average2(kor=kor, eng=eng, mat=mat, sci=sci)\n",
    "print(f'국어: {kor}, 영어: {eng}, 수학: {mat}, 과학 {sci}')\n",
    "print(f'최하점수: {min_score}, 최고점수: {max_score}, 평균점수: {avg_score:.1f}')"
   ]
  }
 ]
}