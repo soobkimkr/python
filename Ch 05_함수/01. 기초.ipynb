{
 "metadata": {
  "language_info": {
   "codemirror_mode": {
    "name": "ipython",
    "version": 3
   },
   "file_extension": ".py",
   "mimetype": "text/x-python",
   "name": "python",
   "nbconvert_exporter": "python",
   "pygments_lexer": "ipython3",
   "version": "3.8.5"
  },
  "orig_nbformat": 2,
  "kernelspec": {
   "name": "python385jvsc74a57bd08c1eae21719a0790335dcb83aad72b63b602cfe5cdb2bda0f60bc11d4f154e4b",
   "display_name": "Python 3.8.5 64-bit ('base': conda)"
  }
 },
 "nbformat": 4,
 "nbformat_minor": 2,
 "cells": [
  {
   "source": [
    "# 5장. 함수\n",
    "### 함수 기초"
   ],
   "cell_type": "markdown",
   "metadata": {}
  },
  {
   "cell_type": "code",
   "execution_count": 2,
   "metadata": {},
   "outputs": [],
   "source": [
    "def calculate_rectangle_area(x, y):\n",
    "    return x*y"
   ]
  },
  {
   "cell_type": "code",
   "execution_count": 4,
   "metadata": {},
   "outputs": [
    {
     "output_type": "execute_result",
     "data": {
      "text/plain": [
       "80"
      ]
     },
     "metadata": {},
     "execution_count": 4
    }
   ],
   "source": [
    "calculate_rectangle_area(10, 8)"
   ]
  },
  {
   "cell_type": "code",
   "execution_count": 5,
   "metadata": {},
   "outputs": [],
   "source": [
    "import math\n",
    "def calcuate_circle_area(radius):\n",
    "    return math.pi * radius * radius"
   ]
  },
  {
   "cell_type": "code",
   "execution_count": 8,
   "metadata": {},
   "outputs": [
    {
     "output_type": "stream",
     "name": "stdout",
     "text": [
      "반지름이 10 인 원의 넓이는 314.16 입니다.\n"
     ]
    }
   ],
   "source": [
    "r=10\n",
    "area = calcuate_circle_area(r)\n",
    "print(f'반지름이 {r} 인 원의 넓이는 {area:.2f} 입니다.')"
   ]
  },
  {
   "cell_type": "code",
   "execution_count": 10,
   "metadata": {},
   "outputs": [],
   "source": [
    "def is_palindrome(number):\n",
    "    s = str(number)\n",
    "    return s == s[::-1]"
   ]
  },
  {
   "cell_type": "code",
   "execution_count": 11,
   "metadata": {},
   "outputs": [
    {
     "output_type": "execute_result",
     "data": {
      "text/plain": [
       "(True, False)"
      ]
     },
     "metadata": {},
     "execution_count": 11
    }
   ],
   "source": [
    "is_palindrome(12321), is_palindrome(45645)"
   ]
  },
  {
   "cell_type": "code",
   "execution_count": 12,
   "metadata": {},
   "outputs": [],
   "source": [
    "def is_palindrome(s):\n",
    "    return s == s[::-1]"
   ]
  },
  {
   "cell_type": "code",
   "execution_count": 14,
   "metadata": {},
   "outputs": [
    {
     "output_type": "execute_result",
     "data": {
      "text/plain": [
       "(True, True)"
      ]
     },
     "metadata": {},
     "execution_count": 14
    }
   ],
   "source": [
    "is_palindrome('madam'), is_palindrome('소주 만병만 주소')"
   ]
  },
  {
   "source": [
    "### 함수 심화\n",
    "- scope rule"
   ],
   "cell_type": "markdown",
   "metadata": {}
  },
  {
   "cell_type": "code",
   "execution_count": 15,
   "metadata": {},
   "outputs": [
    {
     "output_type": "stream",
     "name": "stdout",
     "text": [
      "I love London!\nI love Paris!\n"
     ]
    }
   ],
   "source": [
    "def f():\n",
    "    s = 'I love London!' # f() 함수 안에 있는 변수는 지역(local) 변수임.\n",
    "    print(s)\n",
    "\n",
    "s = 'I love Paris!' # 함수 밖에 있는 변수는 전역(global) 변수임.\n",
    "f()\n",
    "print(s)"
   ]
  },
  {
   "cell_type": "code",
   "execution_count": 16,
   "metadata": {},
   "outputs": [
    {
     "output_type": "stream",
     "name": "stdout",
     "text": [
      "I love Paris!\nI love Paris!\n"
     ]
    }
   ],
   "source": [
    "def f():\n",
    "    print(s) # 아래 있는 전역변수를 출력\n",
    "\n",
    "s = 'I love Paris!'\n",
    "f()\n",
    "print(s)"
   ]
  },
  {
   "cell_type": "code",
   "execution_count": 17,
   "metadata": {},
   "outputs": [
    {
     "output_type": "stream",
     "name": "stdout",
     "text": [
      "I love London!\nI love London!\n"
     ]
    }
   ],
   "source": [
    "def f():\n",
    "    global s # 전역변수도 지역변수로 출력 \n",
    "    s = 'I love London!'\n",
    "    print(s)\n",
    "\n",
    "s = 'I love Paris!' \n",
    "f()\n",
    "print(s)"
   ]
  },
  {
   "source": [
    "- 재귀 함수(recursive function)"
   ],
   "cell_type": "markdown",
   "metadata": {}
  },
  {
   "cell_type": "code",
   "execution_count": 18,
   "metadata": {},
   "outputs": [],
   "source": [
    "def factorial(n):\n",
    "    if n == 0:\n",
    "        return 1 # 반환을 했으므로 else를 안써도 됨.\n",
    "    return n * factorial(n-1) # 함수 안에서 함수를 불러올 수 있음 (재귀호출)."
   ]
  },
  {
   "cell_type": "code",
   "execution_count": 19,
   "metadata": {},
   "outputs": [
    {
     "output_type": "execute_result",
     "data": {
      "text/plain": [
       "120"
      ]
     },
     "metadata": {},
     "execution_count": 19
    }
   ],
   "source": [
    "factorial(5)"
   ]
  },
  {
   "cell_type": "code",
   "execution_count": 20,
   "metadata": {},
   "outputs": [],
   "source": [
    "def fibo(n):\n",
    "    if n == 2 or n ==1:\n",
    "        return 1\n",
    "    return fibo(n-1) + fibo(n-2)"
   ]
  },
  {
   "cell_type": "code",
   "execution_count": 22,
   "metadata": {},
   "outputs": [
    {
     "output_type": "stream",
     "name": "stdout",
     "text": [
      "fibo(1) = 1\nfibo(2) = 1\nfibo(3) = 2\nfibo(4) = 3\nfibo(5) = 5\nfibo(6) = 8\nfibo(7) = 13\nfibo(8) = 21\nfibo(9) = 34\nfibo(10) = 55\n"
     ]
    }
   ],
   "source": [
    "for i in range(1, 11):\n",
    "    print(f'fibo({i}) = {fibo(i)}')"
   ]
  },
  {
   "source": [
    "- 리턴값이 여러개인 경우"
   ],
   "cell_type": "markdown",
   "metadata": {}
  },
  {
   "cell_type": "code",
   "execution_count": 23,
   "metadata": {},
   "outputs": [],
   "source": [
    "def about_circle(radius):\n",
    "    return math.pi * radius ** 2, 2 * math.pi * radius"
   ]
  },
  {
   "cell_type": "code",
   "execution_count": 25,
   "metadata": {},
   "outputs": [
    {
     "output_type": "stream",
     "name": "stdout",
     "text": [
      "면적 = 314.16, 둘레 = 62.83\n"
     ]
    }
   ],
   "source": [
    "area, circumference = about_circle(10)\n",
    "print(f'면적 = {area:.2f}, 둘레 = {circumference:.2f}')"
   ]
  },
  {
   "cell_type": "code",
   "execution_count": 26,
   "metadata": {},
   "outputs": [
    {
     "output_type": "stream",
     "name": "stdout",
     "text": [
      "반지름이 5일때 둘레는 31.42 입니다.\n"
     ]
    }
   ],
   "source": [
    "_, circumference = about_circle(5) # 하나의 리턴값(면적)을 무시함 \n",
    "print(f'반지름이 5일때 둘레는 {circumference:.2f} 입니다.')"
   ]
  },
  {
   "source": [
    "### 함수의 인수\n",
    "- 위치 인수 (positional arguments)\n",
    "- 키워드 인수 (keyword arguments)\n",
    "- 디폴트 인수 (default arguments)\n",
    "- 가변 인수 (varialble-length arguments)\n",
    "- 키워드 가변 인수 (keyword varialble-length arguments)"
   ],
   "cell_type": "markdown",
   "metadata": {}
  },
  {
   "cell_type": "code",
   "execution_count": 28,
   "metadata": {},
   "outputs": [],
   "source": [
    "# 키워드 인수\n",
    "def print_something(my_name, your_name): # 두변수를 키워드로 지정\n",
    "    print(f'Hello {your_name}, my name is {my_name}')"
   ]
  },
  {
   "cell_type": "code",
   "execution_count": 30,
   "metadata": {},
   "outputs": [
    {
     "output_type": "stream",
     "name": "stdout",
     "text": [
      "Hello Everyone, my name is Sungchul\nHello Everyone, my name is Sungchul\n"
     ]
    }
   ],
   "source": [
    "print_something('Sungchul', 'Everyone') # 함수 파라미터 설정과 같은 위치로 출력\n",
    "print_something(your_name='Everyone', my_name='Sungchul') # 파라미터 위치가 다르지만 키워드를 입력하여 출력"
   ]
  },
  {
   "cell_type": "code",
   "execution_count": 31,
   "metadata": {},
   "outputs": [],
   "source": [
    "# 디폴트 인수\n",
    "def print_something2(my_name, your_name='Everyone'): # 두번째 파라미터를 특정 변수로 지정함.\n",
    "    print(f'Hello {your_name}, my name is {my_name}')"
   ]
  },
  {
   "cell_type": "code",
   "execution_count": 32,
   "metadata": {},
   "outputs": [
    {
     "output_type": "stream",
     "name": "stdout",
     "text": [
      "Hello Everyone, my name is Kildong\nHello Everyone, my name is Kildong\n"
     ]
    }
   ],
   "source": [
    "print_something2('Kildong', 'Everyone')\n",
    "print_something2('Kildong') # 두번째 파라미터를 디폴트로 해도 출력됨."
   ]
  },
  {
   "cell_type": "code",
   "execution_count": 33,
   "metadata": {},
   "outputs": [],
   "source": [
    "# 가변 인수\n",
    "def summation(*args): # *을 붙혀주면 가변 인수로 출력 가능\n",
    "    return sum(args)"
   ]
  },
  {
   "cell_type": "code",
   "execution_count": 34,
   "metadata": {},
   "outputs": [
    {
     "output_type": "stream",
     "name": "stdout",
     "text": [
      "1\n3\n6\n"
     ]
    }
   ],
   "source": [
    "print(summation(1))\n",
    "print(summation(1, 2))\n",
    "print(summation(1, 2, 3)) # 함수 내에 여러개의 파라미터를 입력 가능"
   ]
  },
  {
   "cell_type": "code",
   "execution_count": 35,
   "metadata": {},
   "outputs": [],
   "source": [
    "def summation2(a, b, *args):\n",
    "    return a + b + sum(args)"
   ]
  },
  {
   "cell_type": "code",
   "execution_count": 36,
   "metadata": {},
   "outputs": [
    {
     "output_type": "stream",
     "name": "stdout",
     "text": [
      "3\n10\n15\n"
     ]
    }
   ],
   "source": [
    "print(summation2(1, 2))\n",
    "print(summation2(1, 2, 3, 4))\n",
    "print(summation2(1, 2, 3, 4, 5))"
   ]
  },
  {
   "cell_type": "code",
   "execution_count": 37,
   "metadata": {},
   "outputs": [],
   "source": [
    "def summation2(*args, c): # 위치인수, 가변인수 순으로 나열해야함\n",
    "    return sum(args) + c "
   ]
  },
  {
   "cell_type": "code",
   "execution_count": 39,
   "metadata": {},
   "outputs": [],
   "source": [
    "# 키워드 가변인수\n",
    "def kwargs_test(**kwargs):\n",
    "    print(kwargs)"
   ]
  },
  {
   "cell_type": "code",
   "execution_count": 40,
   "metadata": {},
   "outputs": [
    {
     "output_type": "stream",
     "name": "stdout",
     "text": [
      "{'first': 3, 'second': 4, 'third': 5}\n"
     ]
    }
   ],
   "source": [
    "kwargs_test(first=3, second=4, third=5) # 'key': value 형태로 출력 (dictionary {})"
   ]
  },
  {
   "cell_type": "code",
   "execution_count": 41,
   "metadata": {},
   "outputs": [
    {
     "output_type": "stream",
     "name": "stdout",
     "text": [
      "3\n"
     ]
    }
   ],
   "source": [
    "my_dict = {'first': 3, 'second': 4, 'third': 5}\n",
    "print(my_dict['first']) # 키워드로 해당 값을 출력 / my_dic.first는 지원하지 않음."
   ]
  },
  {
   "cell_type": "code",
   "execution_count": 48,
   "metadata": {},
   "outputs": [],
   "source": [
    "def kwargs_test2(**kwargs):\n",
    "    print(kwargs)\n",
    "    print(f\"First value is {kwargs['first']}\")\n",
    "    print(f\"First value is {kwargs['second']}\")\n",
    "    print('First value is {third}'.format(**kwargs)) # 버전 수정 전 formatted 형태"
   ]
  },
  {
   "cell_type": "code",
   "execution_count": 49,
   "metadata": {},
   "outputs": [
    {
     "output_type": "stream",
     "name": "stdout",
     "text": [
      "{'first': 3, 'second': 4, 'third': 5}\nFirst value is 3\nFirst value is 4\nFirst value is 5\n"
     ]
    }
   ],
   "source": [
    "kwargs_test2(first=3, second=4, third=5)"
   ]
  },
  {
   "cell_type": "code",
   "execution_count": 55,
   "metadata": {},
   "outputs": [],
   "source": [
    "def kwargs_test3(first, second=4, **kwargs):\n",
    "    print(f'First value is {first}')\n",
    "    print(f'First value is {second}')\n",
    "    print(kwargs)"
   ]
  },
  {
   "cell_type": "code",
   "execution_count": 56,
   "metadata": {},
   "outputs": [
    {
     "output_type": "stream",
     "name": "stdout",
     "text": [
      "First value is 3\nFirst value is 4\n{'third': 5}\n"
     ]
    }
   ],
   "source": [
    "kwargs_test3(first=3, second=4, third=5)"
   ]
  },
  {
   "source": [
    "- 딕셔너리 반복문"
   ],
   "cell_type": "markdown",
   "metadata": {}
  },
  {
   "cell_type": "code",
   "execution_count": null,
   "metadata": {},
   "outputs": [],
   "source": [
    "my_dict = {'kor':90., 'eng':80.}\n",
    "my_dict.items()"
   ]
  },
  {
   "cell_type": "code",
   "execution_count": null,
   "metadata": {},
   "outputs": [],
   "source": [
    "item = my_dict.items()\n",
    "dir(items)"
   ]
  },
  {
   "cell_type": "code",
   "execution_count": null,
   "metadata": {},
   "outputs": [],
   "source": [
    "for key, value in my_dict.items():\n",
    "    print(key, my_dic[key], value)"
   ]
  },
  {
   "source": [
    "- 딕셔너리의 key/value 만 뽑고 싶은 경우"
   ],
   "cell_type": "markdown",
   "metadata": {}
  },
  {
   "cell_type": "code",
   "execution_count": 1,
   "metadata": {},
   "outputs": [
    {
     "output_type": "error",
     "ename": "NameError",
     "evalue": "name 'my_dict' is not defined",
     "traceback": [
      "\u001b[1;31m---------------------------------------------------------------------------\u001b[0m",
      "\u001b[1;31mNameError\u001b[0m                                 Traceback (most recent call last)",
      "\u001b[1;32m<ipython-input-1-8dd2dc4e5864>\u001b[0m in \u001b[0;36m<module>\u001b[1;34m\u001b[0m\n\u001b[1;32m----> 1\u001b[1;33m \u001b[0mmy_dict\u001b[0m\u001b[1;33m.\u001b[0m\u001b[0mkeys\u001b[0m\u001b[1;33m(\u001b[0m\u001b[1;33m)\u001b[0m\u001b[1;33m\u001b[0m\u001b[1;33m\u001b[0m\u001b[0m\n\u001b[0m",
      "\u001b[1;31mNameError\u001b[0m: name 'my_dict' is not defined"
     ]
    }
   ],
   "source": [
    "my_dict.keys()"
   ]
  },
  {
   "cell_type": "code",
   "execution_count": null,
   "metadata": {},
   "outputs": [],
   "source": [
    "my_dict.values()"
   ]
  }
 ]
}