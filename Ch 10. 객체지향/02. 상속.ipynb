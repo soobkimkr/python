{
 "metadata": {
  "language_info": {
   "codemirror_mode": {
    "name": "ipython",
    "version": 3
   },
   "file_extension": ".py",
   "mimetype": "text/x-python",
   "name": "python",
   "nbconvert_exporter": "python",
   "pygments_lexer": "ipython3",
   "version": "3.8.5"
  },
  "orig_nbformat": 2,
  "kernelspec": {
   "name": "python385jvsc74a57bd08c1eae21719a0790335dcb83aad72b63b602cfe5cdb2bda0f60bc11d4f154e4b",
   "display_name": "Python 3.8.5 64-bit ('base': conda)"
  }
 },
 "nbformat": 4,
 "nbformat_minor": 2,
 "cells": [
  {
   "source": [
    "### 4. 상속"
   ],
   "cell_type": "markdown",
   "metadata": {}
  },
  {
   "cell_type": "code",
   "execution_count": null,
   "metadata": {},
   "outputs": [],
   "source": [
    "class Person:\n",
    "    def greeting(self):\n",
    "        print('안녕하세요?')\n",
    "\n",
    "class Student(Person):   # Student가 Person을 상속받음\n",
    "    def study(self):\n",
    "        print('공부하기')"
   ]
  },
  {
   "cell_type": "code",
   "execution_count": null,
   "metadata": {},
   "outputs": [],
   "source": [
    "james = Student() # Student 객체 생성\n",
    "james.greeting() # 부모의 클래스 메소드도 사용할 수 있음\n",
    "james.study()"
   ]
  },
  {
   "source": [
    "- 기반 클래스의 속성값 사용하기"
   ],
   "cell_type": "markdown",
   "metadata": {}
  },
  {
   "cell_type": "code",
   "execution_count": null,
   "metadata": {},
   "outputs": [],
   "source": [
    "class Person2:\n",
    "    def __init__(self):\n",
    "        print('Person2 __init__ method')\n",
    "        self.hello = '안녕하세요?'\n",
    "\n",
    "class Student2(Person2):\n",
    "      def __init__(self):\n",
    "        print('Student2 __init__ method')\n",
    "        self.school = '파이썬'"
   ]
  },
  {
   "cell_type": "code",
   "execution_count": null,
   "metadata": {},
   "outputs": [],
   "source": [
    "maria = Student2() # Student2 객체 생성\n",
    "maria.school"
   ]
  },
  {
   "source": [],
   "cell_type": "markdown",
   "metadata": {}
  },
  {
   "cell_type": "code",
   "execution_count": 1,
   "metadata": {},
   "outputs": [],
   "source": [
    "class Person3:\n",
    "    def __init__(self):\n",
    "        print('Person3 __init__ method')\n",
    "        self.hello = '안녕하세요?'\n",
    "\n",
    "class Student3(Person3):\n",
    "      def __init__(self):\n",
    "        super().__init__() # 부모와 자식 둘다 __init__ 메소드가 있을 경우 사용\n",
    "        print('Student3 __init__ method')\n",
    "        self.school = '파이썬'"
   ]
  },
  {
   "cell_type": "code",
   "execution_count": 2,
   "metadata": {},
   "outputs": [
    {
     "output_type": "stream",
     "name": "stdout",
     "text": [
      "Person3 __init__ method\nStudent3 __init__ method\n"
     ]
    },
    {
     "output_type": "execute_result",
     "data": {
      "text/plain": [
       "'안녕하세요?'"
      ]
     },
     "metadata": {},
     "execution_count": 2
    }
   ],
   "source": [
    "james = Student3()\n",
    "james.hello"
   ]
  },
  {
   "cell_type": "code",
   "execution_count": 3,
   "metadata": {},
   "outputs": [],
   "source": [
    "class Student4(Person3):\n",
    "    def greeting(self): # 자식에서는 __init__ 메소드가 없는 경우\n",
    "        print(self.hello)"
   ]
  },
  {
   "cell_type": "code",
   "execution_count": 4,
   "metadata": {},
   "outputs": [
    {
     "output_type": "stream",
     "name": "stdout",
     "text": [
      "Person3 __init__ method\n안녕하세요?\n"
     ]
    }
   ],
   "source": [
    "maria = Student4()\n",
    "maria.greeting()"
   ]
  },
  {
   "source": [
    "### 5. Method Overriding"
   ],
   "cell_type": "markdown",
   "metadata": {}
  },
  {
   "cell_type": "code",
   "execution_count": null,
   "metadata": {},
   "outputs": [],
   "source": [
    "class Person5:\n",
    "    def greeting(self):\n",
    "        print('안녕하세요?')\n",
    "\n",
    "class Student5(Person5):\n",
    "    def greeting(self):\n",
    "        print('안녕하세요? 저는 학생입니다.')"
   ]
  },
  {
   "cell_type": "code",
   "execution_count": null,
   "metadata": {},
   "outputs": [],
   "source": [
    "james = Student5()\n",
    "james.greeting() # 부모가 아닌 자식의 메소드를 사용"
   ]
  },
  {
   "cell_type": "code",
   "execution_count": null,
   "metadata": {},
   "outputs": [],
   "source": [
    "class Student6(Person5):\n",
    "    def greeting(self):\n",
    "        super().greeting() # 부모의 메소드를 이용하고 싶을 경우 사용\n",
    "        print('저는 학생입니다.')"
   ]
  },
  {
   "cell_type": "code",
   "execution_count": null,
   "metadata": {},
   "outputs": [],
   "source": [
    "maria = Student6()\n",
    "maria.greeting()"
   ]
  }
 ]
}