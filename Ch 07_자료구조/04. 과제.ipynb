{
 "metadata": {
  "language_info": {
   "codemirror_mode": {
    "name": "ipython",
    "version": 3
   },
   "file_extension": ".py",
   "mimetype": "text/x-python",
   "name": "python",
   "nbconvert_exporter": "python",
   "pygments_lexer": "ipython3",
   "version": "3.8.5"
  },
  "orig_nbformat": 2,
  "kernelspec": {
   "name": "python385jvsc74a57bd08c1eae21719a0790335dcb83aad72b63b602cfe5cdb2bda0f60bc11d4f154e4b",
   "display_name": "Python 3.8.5 64-bit ('base': conda)"
  }
 },
 "nbformat": 4,
 "nbformat_minor": 2,
 "cells": [
  {
   "source": [
    "# 1. 시저 암호\n",
    "입력하면 그 알파벳의 n개 뒤에 오는 알파벳 출력\n",
    "\n",
    "입력 : 화면에서 문자열과 n값을 입력받는다. (예: ROSE 5)\n",
    "\n",
    "출력 : 암호화된 문자열 출력"
   ],
   "cell_type": "markdown",
   "metadata": {}
  },
  {
   "cell_type": "code",
   "execution_count": 1,
   "metadata": {},
   "outputs": [],
   "source": [
    "#1\n",
    "def encode(plain, n):\n",
    "    cipher = ''\n",
    "    for c in plain:\n",
    "        diff = ord(c) - ord('A') + n\n",
    "        if diff >= 26:\n",
    "            cipher += chr(ord('A') + diff % 26)\n",
    "        else:\n",
    "            cipher += chr(ord(c) + n)\n",
    "    return cipher"
   ]
  },
  {
   "cell_type": "code",
   "execution_count": null,
   "metadata": {},
   "outputs": [],
   "source": [
    "def decode(cipher, n):\n",
    "    plain = ''\n",
    "    for c in cipher:\n",
    "        diff = ord(c) - ord('A') - n\n",
    "        if diff < 0:\n",
    "            plain += chr(ord('Z') + diff + 1)\n",
    "        else:\n",
    "            plain += chr(ord(c) - n)\n",
    "    return plain"
   ]
  },
  {
   "cell_type": "code",
   "execution_count": null,
   "metadata": {},
   "outputs": [],
   "source": [
    "decode(encode('ABCXYZ', 3), 3)"
   ]
  },
  {
   "cell_type": "code",
   "execution_count": null,
   "metadata": {},
   "outputs": [],
   "source": [
    "word, n = input('String N 입력').split()\n",
    "cipher = encode(word.upper(), int(n))\n",
    "plain = decode(cipher, int(n))\n",
    "print(f'입력값 {word}, {n} 에 대한 암호는 {cipher} 해독하면 {plain}')"
   ]
  },
  {
   "source": [
    "# 2. Unit 24_5\n",
    "### 표준 입력으로 문자열이 입력됩니다. 입력된 문자열에서 'the'의 개수를 출력하는 프로그램을 만드세요(input에서 안내 문자열은 출력하지 않아야 합니다). 단, 모든 문자가 소문자인 'the'만 찾으면 되며 'them', 'there', 'their' 등은 포함하지 않아야 합니다."
   ],
   "cell_type": "markdown",
   "metadata": {}
  },
  {
   "cell_type": "code",
   "execution_count": 2,
   "metadata": {},
   "outputs": [
    {
     "output_type": "stream",
     "name": "stdout",
     "text": [
      "theGROWN-UPS'RESPONSE,THISTIME,wastoADVISEmetolayASIDEmyDRAWINGSofboaCONSTRICTORS,WHETHERFROMtheINSIDEortheOUTSIDE,andDEVOTEMYSELFINSTEADtoGEOGRAPHY,HISTORY,ARITHMETIC,andGRAMMAR.THATisWHY,atTHE,ageofSIX,IGAVEupWHATMIGHTHAVEBEENaMAGNIFICENTCAREERasaPAINTER.IhadBEENDISHEARTENEDbytheFAILUREofmyDRAWINGNUMBEROneandmyDRAWINGNUMBERTWO.GROWN-UPSNEVERUNDERSTANDANYTHINGbyTHEMSELVES,anditisTIRESOMEforCHILDRENtobeALWAYSandFOREVEREXPLAININGTHINGStoTHE.\n"
     ]
    }
   ],
   "source": [
    "#2\n",
    "result = ''\n",
    "text = input('문자열을 입력하시오.').split()\n",
    "for i in text:\n",
    "    if len(i) > 3:\n",
    "        result += i.upper()\n",
    "    else:\n",
    "        result += i\n",
    "print(result)\n"
   ]
  },
  {
   "cell_type": "code",
   "execution_count": 6,
   "metadata": {},
   "outputs": [
    {
     "output_type": "execute_result",
     "data": {
      "text/plain": [
       "8"
      ]
     },
     "metadata": {},
     "execution_count": 6
    }
   ],
   "source": [
    "text = \"\"\"\n",
    "the grown-ups' response, this time, was to advise me to lay aside my drawings of boa constrictors, whether from the inside or the outside, and devote myself instead to geography, history, arithmetic, and grammar. That is why, at the, age of six, I gave up what might have been a magnificent career as a painter. I had been disheartened by the failure of my Drawing Number One and my Drawing Number Two. Grown-ups never understand anything by themselves, and it is tiresome for children to be always and forever explaining things to the.\n",
    "\"\"\"\n",
    "\n",
    "text.count('the')"
   ]
  },
  {
   "cell_type": "code",
   "execution_count": 4,
   "metadata": {},
   "outputs": [
    {
     "output_type": "execute_result",
     "data": {
      "text/plain": [
       "'the grown-ups response this time was to advise me to lay aside my drawings of boa constrictors whether from the inside or the outside and devote myself instead to geography history arithmetic and grammar That is why at the age of six I gave up what might have been a magnificent career as a painter I had been disheartened by the failure of my Drawing Number One and my Drawing Number Two Grown-ups never understand anything by themselves and it is tiresome for children to be always and forever explaining things to the'"
      ]
     },
     "metadata": {},
     "execution_count": 4
    }
   ],
   "source": [
    "import re\n",
    "text = re.sub('[\\'.,\\n]', '', text) # '[]'단어를 찾아서 공백처리 한다\n",
    "text # \\' 아포스트로피에 역슬래시를 붙혀 문자로 인식하게 함"
   ]
  },
  {
   "cell_type": "code",
   "execution_count": 5,
   "metadata": {},
   "outputs": [
    {
     "output_type": "execute_result",
     "data": {
      "text/plain": [
       "'the grownups response this time was to advise me to lay aside my drawings of boa constrictors whether from the inside or the outside and devote myself instead to geography history arithmetic and grammar That is why at the age of six I gave up what might have been a magnificent career as a painter I had been disheartened by the failure of my Drawing Number One and my Drawing Number Two Grownups never understand anything by themselves and it is tiresome for children to be always and forever explaining things to the'"
      ]
     },
     "metadata": {},
     "execution_count": 5
    }
   ],
   "source": [
    "text = re.sub('[^A-Za-z ]', '', text) # 알파벳과 문자 간격만 남기고 모두 공백처리\n",
    "text"
   ]
  },
  {
   "cell_type": "code",
   "execution_count": 7,
   "metadata": {},
   "outputs": [
    {
     "output_type": "execute_result",
     "data": {
      "text/plain": [
       "'!\"#$%&\\'()*+,-./:;<=>?@[\\\\]^_`{|}~'"
      ]
     },
     "metadata": {},
     "execution_count": 7
    }
   ],
   "source": [
    "from string import punctuation # 특수기호만 표시\n",
    "punctuation"
   ]
  },
  {
   "cell_type": "code",
   "execution_count": 8,
   "metadata": {},
   "outputs": [
    {
     "output_type": "execute_result",
     "data": {
      "text/plain": [
       "4"
      ]
     },
     "metadata": {},
     "execution_count": 8
    }
   ],
   "source": [
    "text_list = text.lower().strip().split()\n",
    "count = 0\n",
    "for word in text_list:\n",
    "    if word == 'the':\n",
    "        count += 1\n",
    "count "
   ]
  },
  {
   "source": [
    "# 3. Unit 24_6\n",
    "### 표준 입력으로 물품 가격 여러 개가 문자열 한 줄로 입력되고, 각 가격은 ;(세미콜론)으로 구분되어 있습니다. 입력된 가격을 높은 가격순으로 출력하는 프로그램을 만드세요(input에서 안내 문자열은 출력하지 않아야 합니다). 이때 가격은 길이를 9로 만든 뒤 오른쪽으로 정렬하고 천단위로 ,(콤마)를 넣으세요."
   ],
   "cell_type": "markdown",
   "metadata": {}
  },
  {
   "cell_type": "code",
   "execution_count": 94,
   "metadata": {},
   "outputs": [
    {
     "output_type": "stream",
     "name": "stdout",
     "text": [
      "   10,000\n    3,000\n    2,000\n"
     ]
    }
   ],
   "source": [
    "#3\n",
    "price = list(map(int, input('물품 가격을 입력하시오.').split(';')))\n",
    "price.sort(reverse=True)\n",
    "for i in price:\n",
    "    print(f'{i:,}'.rjust(9))"
   ]
  },
  {
   "cell_type": "code",
   "execution_count": null,
   "metadata": {},
   "outputs": [],
   "source": [
    "input_str = '51900;83000;158000;367500;250000;59200;128500;1304000'\n",
    "price_list = list(map(int, input_str.split(';')))\n",
    "price_list"
   ]
  },
  {
   "cell_type": "code",
   "execution_count": null,
   "metadata": {},
   "outputs": [],
   "source": [
    "price_list.sort(reverse=True)\n",
    "price_list"
   ]
  },
  {
   "cell_type": "code",
   "execution_count": null,
   "metadata": {},
   "outputs": [],
   "source": [
    "for price in price_list:\n",
    "    print(f'{price:9,d}')"
   ]
  },
  {
   "source": [
    "# 4. Unit 12\n",
    "### 표준 입력으로 문자열 여러 개와 숫자(실수) 여러 개가 두 줄로 입력됩니다. 입력된 첫 번째 줄은 키, 두 번째 줄은 값으로 하여 딕셔너리를 생성한 뒤 딕셔너리를 출력하는 프로그램을 만드세요. input().split()의 결과를 변수 한 개에 저장하면 리스트로 저장됩니다."
   ],
   "cell_type": "markdown",
   "metadata": {}
  },
  {
   "cell_type": "code",
   "execution_count": 104,
   "metadata": {},
   "outputs": [
    {
     "output_type": "stream",
     "name": "stdout",
     "text": [
      "가 1\n나 2\n다 3\n라 4\n"
     ]
    }
   ],
   "source": [
    "#4\n",
    "s = input('문자열을 입력하시오.').split()\n",
    "f = map(int, input('숫자를 입력하시오.').split())\n",
    "d = dict(zip(s, f))\n",
    "for key in d.keys():\n",
    "    print(key, d[key])"
   ]
  },
  {
   "cell_type": "code",
   "execution_count": null,
   "metadata": {},
   "outputs": [],
   "source": [
    "keys = input().split()\n",
    "values = map(float, input().split())\n",
    "lux = dict(zip(keys, values))\n",
    "lux"
   ]
  },
  {
   "source": [
    "# 5. Unit 25\n",
    "### 표준 입력으로 문자열 여러 개와 숫자 여러 개가 두 줄로 입력되고, 첫 번째 줄은 키, 두 번째 줄은 값으로 하여 딕셔너리를 생성합니다. 다음 코드를 완성하여 딕셔너리에서 키가 'delta'인 키-값 쌍과 값이 30인 키-값 쌍을 삭제하도록 만드세요."
   ],
   "cell_type": "markdown",
   "metadata": {}
  },
  {
   "cell_type": "code",
   "execution_count": 112,
   "metadata": {},
   "outputs": [
    {
     "output_type": "stream",
     "name": "stdout",
     "text": [
      "alpha 10\nbravo 20\n"
     ]
    },
    {
     "output_type": "error",
     "ename": "KeyError",
     "evalue": "30",
     "traceback": [
      "\u001b[1;31m---------------------------------------------------------------------------\u001b[0m",
      "\u001b[1;31mKeyError\u001b[0m                                  Traceback (most recent call last)",
      "\u001b[1;32m<ipython-input-112-d575df0e4eb7>\u001b[0m in \u001b[0;36m<module>\u001b[1;34m\u001b[0m\n\u001b[0;32m      7\u001b[0m         \u001b[0md\u001b[0m\u001b[1;33m.\u001b[0m\u001b[0mpop\u001b[0m\u001b[1;33m(\u001b[0m\u001b[0mkey\u001b[0m\u001b[1;33m)\u001b[0m\u001b[1;33m\u001b[0m\u001b[1;33m\u001b[0m\u001b[0m\n\u001b[0;32m      8\u001b[0m     \u001b[1;32melif\u001b[0m \u001b[0mvalue\u001b[0m \u001b[1;33m==\u001b[0m \u001b[1;36m30\u001b[0m\u001b[1;33m:\u001b[0m\u001b[1;33m\u001b[0m\u001b[1;33m\u001b[0m\u001b[0m\n\u001b[1;32m----> 9\u001b[1;33m         \u001b[0md\u001b[0m\u001b[1;33m.\u001b[0m\u001b[0mpop\u001b[0m\u001b[1;33m(\u001b[0m\u001b[0mvalue\u001b[0m\u001b[1;33m)\u001b[0m\u001b[1;33m\u001b[0m\u001b[1;33m\u001b[0m\u001b[0m\n\u001b[0m\u001b[0;32m     10\u001b[0m     \u001b[0mprint\u001b[0m\u001b[1;33m(\u001b[0m\u001b[0mkey\u001b[0m\u001b[1;33m,\u001b[0m \u001b[0md\u001b[0m\u001b[1;33m[\u001b[0m\u001b[0mkey\u001b[0m\u001b[1;33m]\u001b[0m\u001b[1;33m)\u001b[0m\u001b[1;33m\u001b[0m\u001b[1;33m\u001b[0m\u001b[0m\n",
      "\u001b[1;31mKeyError\u001b[0m: 30"
     ]
    }
   ],
   "source": [
    "#5\n",
    "s = input('문자열을 입력하시오.').split()\n",
    "f = map(int, input('숫자를 입력하시오.').split())\n",
    "d = dict(zip(s, f))\n",
    "for key, value in d.items():\n",
    "    if 'delta' in key: # 딕셔너리에서 key를 줄이면 결과는 출력이 되지만 key 에러가 발생\n",
    "        d.pop(key)\n",
    "    elif value == 30:\n",
    "        d.pop(value)\n",
    "    print(key, d[key])"
   ]
  },
  {
   "cell_type": "code",
   "execution_count": null,
   "metadata": {},
   "outputs": [],
   "source": [
    "keys = input().split()\n",
    "values = map(int, input().split())\n",
    "x = dict(zip(keys, values))\n",
    "x"
   ]
  },
  {
   "cell_type": "code",
   "execution_count": null,
   "metadata": {},
   "outputs": [],
   "source": [
    "del x['delta']\n",
    "x"
   ]
  },
  {
   "cell_type": "code",
   "execution_count": null,
   "metadata": {},
   "outputs": [],
   "source": [
    "for key, value in x.items():\n",
    "    if value == 30:\n",
    "        break\n",
    "del x[key]\n",
    "x"
   ]
  }
 ]
}