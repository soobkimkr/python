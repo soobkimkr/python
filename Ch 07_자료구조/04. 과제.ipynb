{
 "metadata": {
  "language_info": {
   "codemirror_mode": {
    "name": "ipython",
    "version": 3
   },
   "file_extension": ".py",
   "mimetype": "text/x-python",
   "name": "python",
   "nbconvert_exporter": "python",
   "pygments_lexer": "ipython3",
   "version": "3.8.5"
  },
  "orig_nbformat": 2,
  "kernelspec": {
   "name": "python385jvsc74a57bd08c1eae21719a0790335dcb83aad72b63b602cfe5cdb2bda0f60bc11d4f154e4b",
   "display_name": "Python 3.8.5 64-bit ('base': conda)"
  }
 },
 "nbformat": 4,
 "nbformat_minor": 2,
 "cells": [
  {
   "source": [
    "# 1. 시저 암호\n",
    "입력하면 그 알파벳의 n개 뒤에 오는 알파벳 출력\n",
    "\n",
    "입력 : 화면에서 문자열과 n값을 입력받는다. (예: ROSE 5)\n",
    "\n",
    "출력 : 암호화된 문자열 출력"
   ],
   "cell_type": "markdown",
   "metadata": {}
  },
  {
   "cell_type": "code",
   "execution_count": 105,
   "metadata": {},
   "outputs": [
    {
     "output_type": "stream",
     "name": "stdout",
     "text": [
      "Z[\\\n"
     ]
    }
   ],
   "source": [
    "#1\n",
    "result = ''\n",
    "word, n = list(input('문자열과 n을 입력하시오.').split())\n",
    "for i in word:\n",
    "    result += chr(ord(i) + int(n))\n",
    "print(result)"
   ]
  },
  {
   "source": [
    "# 2. Unit 24_5\n",
    "### 표준 입력으로 문자열이 입력됩니다. 입력된 문자열에서 'the'의 개수를 출력하는 프로그램을 만드세요(input에서 안내 문자열은 출력하지 않아야 합니다). 단, 모든 문자가 소문자인 'the'만 찾으면 되며 'them', 'there', 'their' 등은 포함하지 않아야 합니다."
   ],
   "cell_type": "markdown",
   "metadata": {}
  },
  {
   "cell_type": "code",
   "execution_count": 55,
   "metadata": {},
   "outputs": [
    {
     "output_type": "execute_result",
     "data": {
      "text/plain": [
       "2"
      ]
     },
     "metadata": {},
     "execution_count": 55
    }
   ],
   "source": [
    "#2\n",
    "result = ''\n",
    "text = input('문자열을 입력하시오.').split()\n",
    "for i in text:\n",
    "    if len(i) > 3:\n",
    "        result += i.upper()\n",
    "    else:\n",
    "        result += i\n",
    "result.count('the')"
   ]
  },
  {
   "source": [
    "# 3. Unit 24_6\n",
    "### 표준 입력으로 물품 가격 여러 개가 문자열 한 줄로 입력되고, 각 가격은 ;(세미콜론)으로 구분되어 있습니다. 입력된 가격을 높은 가격순으로 출력하는 프로그램을 만드세요(input에서 안내 문자열은 출력하지 않아야 합니다). 이때 가격은 길이를 9로 만든 뒤 오른쪽으로 정렬하고 천단위로 ,(콤마)를 넣으세요."
   ],
   "cell_type": "markdown",
   "metadata": {}
  },
  {
   "cell_type": "code",
   "execution_count": 94,
   "metadata": {},
   "outputs": [
    {
     "output_type": "stream",
     "name": "stdout",
     "text": [
      "   10,000\n    3,000\n    2,000\n"
     ]
    }
   ],
   "source": [
    "#3\n",
    "price = list(map(int, input('물품 가격을 입력하시오.').split(';')))\n",
    "price.sort(reverse=True)\n",
    "for i in price:\n",
    "    print(f'{i:,}'.rjust(9))"
   ]
  },
  {
   "source": [
    "# 4. Unit 12\n",
    "### 표준 입력으로 문자열 여러 개와 숫자(실수) 여러 개가 두 줄로 입력됩니다. 입력된 첫 번째 줄은 키, 두 번째 줄은 값으로 하여 딕셔너리를 생성한 뒤 딕셔너리를 출력하는 프로그램을 만드세요. input().split()의 결과를 변수 한 개에 저장하면 리스트로 저장됩니다."
   ],
   "cell_type": "markdown",
   "metadata": {}
  },
  {
   "cell_type": "code",
   "execution_count": 104,
   "metadata": {},
   "outputs": [
    {
     "output_type": "stream",
     "name": "stdout",
     "text": [
      "가 1\n나 2\n다 3\n라 4\n"
     ]
    }
   ],
   "source": [
    "#4\n",
    "s = input('문자열을 입력하시오.').split()\n",
    "f = map(int, input('숫자를 입력하시오.').split())\n",
    "d = dict(zip(s, f))\n",
    "for key in d.keys():\n",
    "    print(key, d[key])"
   ]
  },
  {
   "source": [
    "# 5. Unit 25\n",
    "### 표준 입력으로 문자열 여러 개와 숫자 여러 개가 두 줄로 입력되고, 첫 번째 줄은 키, 두 번째 줄은 값으로 하여 딕셔너리를 생성합니다. 다음 코드를 완성하여 딕셔너리에서 키가 'delta'인 키-값 쌍과 값이 30인 키-값 쌍을 삭제하도록 만드세요."
   ],
   "cell_type": "markdown",
   "metadata": {}
  },
  {
   "cell_type": "code",
   "execution_count": 112,
   "metadata": {},
   "outputs": [
    {
     "output_type": "stream",
     "name": "stdout",
     "text": [
      "alpha 10\nbravo 20\n"
     ]
    },
    {
     "output_type": "error",
     "ename": "KeyError",
     "evalue": "30",
     "traceback": [
      "\u001b[1;31m---------------------------------------------------------------------------\u001b[0m",
      "\u001b[1;31mKeyError\u001b[0m                                  Traceback (most recent call last)",
      "\u001b[1;32m<ipython-input-112-d575df0e4eb7>\u001b[0m in \u001b[0;36m<module>\u001b[1;34m\u001b[0m\n\u001b[0;32m      7\u001b[0m         \u001b[0md\u001b[0m\u001b[1;33m.\u001b[0m\u001b[0mpop\u001b[0m\u001b[1;33m(\u001b[0m\u001b[0mkey\u001b[0m\u001b[1;33m)\u001b[0m\u001b[1;33m\u001b[0m\u001b[1;33m\u001b[0m\u001b[0m\n\u001b[0;32m      8\u001b[0m     \u001b[1;32melif\u001b[0m \u001b[0mvalue\u001b[0m \u001b[1;33m==\u001b[0m \u001b[1;36m30\u001b[0m\u001b[1;33m:\u001b[0m\u001b[1;33m\u001b[0m\u001b[1;33m\u001b[0m\u001b[0m\n\u001b[1;32m----> 9\u001b[1;33m         \u001b[0md\u001b[0m\u001b[1;33m.\u001b[0m\u001b[0mpop\u001b[0m\u001b[1;33m(\u001b[0m\u001b[0mvalue\u001b[0m\u001b[1;33m)\u001b[0m\u001b[1;33m\u001b[0m\u001b[1;33m\u001b[0m\u001b[0m\n\u001b[0m\u001b[0;32m     10\u001b[0m     \u001b[0mprint\u001b[0m\u001b[1;33m(\u001b[0m\u001b[0mkey\u001b[0m\u001b[1;33m,\u001b[0m \u001b[0md\u001b[0m\u001b[1;33m[\u001b[0m\u001b[0mkey\u001b[0m\u001b[1;33m]\u001b[0m\u001b[1;33m)\u001b[0m\u001b[1;33m\u001b[0m\u001b[1;33m\u001b[0m\u001b[0m\n",
      "\u001b[1;31mKeyError\u001b[0m: 30"
     ]
    }
   ],
   "source": [
    "#5\n",
    "s = input('문자열을 입력하시오.').split()\n",
    "f = map(int, input('숫자를 입력하시오.').split())\n",
    "d = dict(zip(s, f))\n",
    "for key, value in d.items():\n",
    "    if 'delta' in key:\n",
    "        d.pop(key)\n",
    "    elif value == 30:\n",
    "        d.pop(value)\n",
    "    print(key, d[key])"
   ]
  },
  {
   "cell_type": "code",
   "execution_count": 110,
   "metadata": {},
   "outputs": [
    {
     "output_type": "execute_result",
     "data": {
      "text/plain": [
       "{'alpha': 10, 'bravo': 20, 'charlie': 30, 'delta': 40}"
      ]
     },
     "metadata": {},
     "execution_count": 110
    }
   ],
   "source": [
    "s = input('문자열을 입력하시오.').split()\n",
    "f = map(int, input('숫자를 입력하시오.').split())\n",
    "d = dict(zip(s, f))\n",
    "d"
   ]
  },
  {
   "cell_type": "code",
   "execution_count": null,
   "metadata": {},
   "outputs": [],
   "source": []
  }
 ]
}