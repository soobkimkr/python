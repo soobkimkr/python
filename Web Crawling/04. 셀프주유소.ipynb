{
 "metadata": {
  "language_info": {
   "codemirror_mode": {
    "name": "ipython",
    "version": 3
   },
   "file_extension": ".py",
   "mimetype": "text/x-python",
   "name": "python",
   "nbconvert_exporter": "python",
   "pygments_lexer": "ipython3",
   "version": "3.8.5"
  },
  "orig_nbformat": 2,
  "kernelspec": {
   "name": "python385jvsc74a57bd08c1eae21719a0790335dcb83aad72b63b602cfe5cdb2bda0f60bc11d4f154e4b",
   "display_name": "Python 3.8.5 64-bit ('base': conda)"
  }
 },
 "nbformat": 4,
 "nbformat_minor": 2,
 "cells": [
  {
   "source": [
    "# 셀프 주유소는 정말 저렴할까?"
   ],
   "cell_type": "markdown",
   "metadata": {}
  },
  {
   "source": [
    "- 오피넷 검색"
   ],
   "cell_type": "markdown",
   "metadata": {}
  },
  {
   "cell_type": "code",
   "execution_count": 1,
   "metadata": {},
   "outputs": [],
   "source": [
    "import time\n",
    "from selenium import webdriver\n",
    "from selenium.webdriver.common.keys import Keys"
   ]
  },
  {
   "source": [
    "### 서울시 구별 주유소 가격 정보 얻기"
   ],
   "cell_type": "markdown",
   "metadata": {}
  },
  {
   "cell_type": "code",
   "execution_count": 3,
   "metadata": {},
   "outputs": [],
   "source": [
    "driver = webdriver.Chrome('./chromedriver')\n",
    "driver.get('https://www.opinet.co.kr/user/main/mainView.do')"
   ]
  },
  {
   "cell_type": "code",
   "execution_count": 4,
   "metadata": {},
   "outputs": [],
   "source": [
    "driver.find_element_by_css_selector('.ic_m1').click()"
   ]
  },
  {
   "cell_type": "code",
   "execution_count": 9,
   "metadata": {},
   "outputs": [
    {
     "output_type": "execute_result",
     "data": {
      "text/plain": [
       "['강남구',\n",
       " '강동구',\n",
       " '강북구',\n",
       " '강서구',\n",
       " '관악구',\n",
       " '광진구',\n",
       " '구로구',\n",
       " '금천구',\n",
       " '노원구',\n",
       " '도봉구',\n",
       " '동대문구',\n",
       " '동작구',\n",
       " '마포구',\n",
       " '서대문구',\n",
       " '서초구',\n",
       " '성동구',\n",
       " '성북구',\n",
       " '송파구',\n",
       " '양천구',\n",
       " '영등포구',\n",
       " '용산구',\n",
       " '은평구',\n",
       " '종로구',\n",
       " '중구',\n",
       " '중랑구']"
      ]
     },
     "metadata": {},
     "execution_count": 9
    }
   ],
   "source": [
    "region = driver.find_element_by_xpath('//*[@id=\"SIGUNGU_NM0\"]')\n",
    "gu_list = region.find_elements_by_css_selector('option')\n",
    "gu_names = [gu.text for gu in gu_list]\n",
    "del gu_names[0]\n",
    "gu_names"
   ]
  },
  {
   "cell_type": "code",
   "execution_count": 11,
   "metadata": {},
   "outputs": [],
   "source": [
    "gu = gu_names[0]\n",
    "region = driver.find_element_by_css_selector('#SIGUNGU_NM0')\n",
    "region.send_keys(gu)"
   ]
  },
  {
   "cell_type": "code",
   "execution_count": 12,
   "metadata": {},
   "outputs": [],
   "source": [
    "driver.find_element_by_xpath('//*[@id=\"glopopd_excel\"]').click()"
   ]
  },
  {
   "cell_type": "code",
   "execution_count": 13,
   "metadata": {},
   "outputs": [],
   "source": [
    "for gu in gu_names:\n",
    "    region = driver.find_element_by_css_selector('#SIGUNGU_NM0')\n",
    "    region.send_keys(gu)\n",
    "    time.sleep(1)\n",
    "    \n",
    "    driver.find_element_by_xpath('//*[@id=\"glopopd_excel\"]').click()\n",
    "    time.sleep(2)"
   ]
  },
  {
   "cell_type": "code",
   "execution_count": null,
   "metadata": {},
   "outputs": [],
   "source": [
    "driver.close()"
   ]
  },
  {
   "source": [
    "## 구별 휘발유 가격에 대한 데이터 정리"
   ],
   "cell_type": "markdown",
   "metadata": {}
  },
  {
   "cell_type": "code",
   "execution_count": 14,
   "metadata": {},
   "outputs": [],
   "source": [
    "import pandas as pd\n",
    "from glob import glob"
   ]
  },
  {
   "cell_type": "code",
   "execution_count": 15,
   "metadata": {},
   "outputs": [
    {
     "output_type": "execute_result",
     "data": {
      "text/plain": [
       "['C:/Users/CPB06GameN/Downloads\\\\지역_위치별(주유소) (1).xls',\n",
       " 'C:/Users/CPB06GameN/Downloads\\\\지역_위치별(주유소) (10).xls',\n",
       " 'C:/Users/CPB06GameN/Downloads\\\\지역_위치별(주유소) (11).xls',\n",
       " 'C:/Users/CPB06GameN/Downloads\\\\지역_위치별(주유소) (12).xls',\n",
       " 'C:/Users/CPB06GameN/Downloads\\\\지역_위치별(주유소) (13).xls',\n",
       " 'C:/Users/CPB06GameN/Downloads\\\\지역_위치별(주유소) (14).xls',\n",
       " 'C:/Users/CPB06GameN/Downloads\\\\지역_위치별(주유소) (15).xls',\n",
       " 'C:/Users/CPB06GameN/Downloads\\\\지역_위치별(주유소) (16).xls',\n",
       " 'C:/Users/CPB06GameN/Downloads\\\\지역_위치별(주유소) (17).xls',\n",
       " 'C:/Users/CPB06GameN/Downloads\\\\지역_위치별(주유소) (18).xls',\n",
       " 'C:/Users/CPB06GameN/Downloads\\\\지역_위치별(주유소) (19).xls',\n",
       " 'C:/Users/CPB06GameN/Downloads\\\\지역_위치별(주유소) (2).xls',\n",
       " 'C:/Users/CPB06GameN/Downloads\\\\지역_위치별(주유소) (20).xls',\n",
       " 'C:/Users/CPB06GameN/Downloads\\\\지역_위치별(주유소) (21).xls',\n",
       " 'C:/Users/CPB06GameN/Downloads\\\\지역_위치별(주유소) (22).xls',\n",
       " 'C:/Users/CPB06GameN/Downloads\\\\지역_위치별(주유소) (23).xls',\n",
       " 'C:/Users/CPB06GameN/Downloads\\\\지역_위치별(주유소) (24).xls',\n",
       " 'C:/Users/CPB06GameN/Downloads\\\\지역_위치별(주유소) (25).xls',\n",
       " 'C:/Users/CPB06GameN/Downloads\\\\지역_위치별(주유소) (3).xls',\n",
       " 'C:/Users/CPB06GameN/Downloads\\\\지역_위치별(주유소) (4).xls',\n",
       " 'C:/Users/CPB06GameN/Downloads\\\\지역_위치별(주유소) (5).xls',\n",
       " 'C:/Users/CPB06GameN/Downloads\\\\지역_위치별(주유소) (6).xls',\n",
       " 'C:/Users/CPB06GameN/Downloads\\\\지역_위치별(주유소) (7).xls',\n",
       " 'C:/Users/CPB06GameN/Downloads\\\\지역_위치별(주유소) (8).xls',\n",
       " 'C:/Users/CPB06GameN/Downloads\\\\지역_위치별(주유소) (9).xls',\n",
       " 'C:/Users/CPB06GameN/Downloads\\\\지역_위치별(주유소).xls']"
      ]
     },
     "metadata": {},
     "execution_count": 15
    }
   ],
   "source": [
    "glob('C:/Users/CPB06GameN/Downloads/지역*.xls')"
   ]
  },
  {
   "cell_type": "code",
   "execution_count": 17,
   "metadata": {},
   "outputs": [
    {
     "output_type": "execute_result",
     "data": {
      "text/plain": [
       "      지역                 상호                         주소      상표          전화번호  \\\n",
       "0  서울특별시        (주)보성 세곡주유소      서울 강남구  헌릉로 731 (세곡동)   SK에너지   02-445-6870   \n",
       "1  서울특별시           오일프러스 셀프    서울 강남구 남부순환로 2651 (도곡동)   SK에너지  02-3462-5100   \n",
       "2  서울특별시              방죽주유소      서울 강남구 밤고개로 215 (율현동)   GS칼텍스   02-459-3434   \n",
       "3  서울특별시  지에스칼텍스(주)직영 산성주유소             서울 강남구 헌릉로 730   GS칼텍스  02-2226-4963   \n",
       "4  서울특별시     현대오일뱅크 도곡셀프주유소  서울 강남구  남부순환로 2718 (도곡2동)  현대오일뱅크   02-529-5101   \n",
       "\n",
       "  셀프여부 고급휘발유   휘발유    경유 실내등유  \n",
       "0    Y     -  1585  1385    -  \n",
       "1    Y  1761  1593  1389    -  \n",
       "2    Y     -  1597  1399    -  \n",
       "3    Y     -  1600  1400    -  \n",
       "4    Y  1771  1603  1399    -  "
      ],
      "text/html": "<div>\n<style scoped>\n    .dataframe tbody tr th:only-of-type {\n        vertical-align: middle;\n    }\n\n    .dataframe tbody tr th {\n        vertical-align: top;\n    }\n\n    .dataframe thead th {\n        text-align: right;\n    }\n</style>\n<table border=\"1\" class=\"dataframe\">\n  <thead>\n    <tr style=\"text-align: right;\">\n      <th></th>\n      <th>지역</th>\n      <th>상호</th>\n      <th>주소</th>\n      <th>상표</th>\n      <th>전화번호</th>\n      <th>셀프여부</th>\n      <th>고급휘발유</th>\n      <th>휘발유</th>\n      <th>경유</th>\n      <th>실내등유</th>\n    </tr>\n  </thead>\n  <tbody>\n    <tr>\n      <th>0</th>\n      <td>서울특별시</td>\n      <td>(주)보성 세곡주유소</td>\n      <td>서울 강남구  헌릉로 731 (세곡동)</td>\n      <td>SK에너지</td>\n      <td>02-445-6870</td>\n      <td>Y</td>\n      <td>-</td>\n      <td>1585</td>\n      <td>1385</td>\n      <td>-</td>\n    </tr>\n    <tr>\n      <th>1</th>\n      <td>서울특별시</td>\n      <td>오일프러스 셀프</td>\n      <td>서울 강남구 남부순환로 2651 (도곡동)</td>\n      <td>SK에너지</td>\n      <td>02-3462-5100</td>\n      <td>Y</td>\n      <td>1761</td>\n      <td>1593</td>\n      <td>1389</td>\n      <td>-</td>\n    </tr>\n    <tr>\n      <th>2</th>\n      <td>서울특별시</td>\n      <td>방죽주유소</td>\n      <td>서울 강남구 밤고개로 215 (율현동)</td>\n      <td>GS칼텍스</td>\n      <td>02-459-3434</td>\n      <td>Y</td>\n      <td>-</td>\n      <td>1597</td>\n      <td>1399</td>\n      <td>-</td>\n    </tr>\n    <tr>\n      <th>3</th>\n      <td>서울특별시</td>\n      <td>지에스칼텍스(주)직영 산성주유소</td>\n      <td>서울 강남구 헌릉로 730</td>\n      <td>GS칼텍스</td>\n      <td>02-2226-4963</td>\n      <td>Y</td>\n      <td>-</td>\n      <td>1600</td>\n      <td>1400</td>\n      <td>-</td>\n    </tr>\n    <tr>\n      <th>4</th>\n      <td>서울특별시</td>\n      <td>현대오일뱅크 도곡셀프주유소</td>\n      <td>서울 강남구  남부순환로 2718 (도곡2동)</td>\n      <td>현대오일뱅크</td>\n      <td>02-529-5101</td>\n      <td>Y</td>\n      <td>1771</td>\n      <td>1603</td>\n      <td>1399</td>\n      <td>-</td>\n    </tr>\n  </tbody>\n</table>\n</div>"
     },
     "metadata": {},
     "execution_count": 17
    }
   ],
   "source": [
    "file = glob('C:/Users/CPB06GameN/Downloads/지역*.xls')[0]\n",
    "df = pd.read_excel(file, header=2)\n",
    "df.head()"
   ]
  },
  {
   "cell_type": "code",
   "execution_count": 18,
   "metadata": {},
   "outputs": [],
   "source": [
    "raw = []\n",
    "for file in glob('C:/Users/CPB06GameN/Downloads/지역*.xls'):\n",
    "    df = pd.read_excel(file, header=2)\n",
    "    raw.append(df)\n",
    "\n",
    "station_raw = pd.concat(raw)"
   ]
  },
  {
   "cell_type": "code",
   "execution_count": 20,
   "metadata": {},
   "outputs": [
    {
     "output_type": "execute_result",
     "data": {
      "text/plain": [
       "       지역        상호                         주소     상표         전화번호 셀프여부 고급휘발유  \\\n",
       "35  서울특별시  (주)만정에너지      서울 강남구 봉은사로 433 (삼성동)  GS칼텍스  02-518-5141    N  2299   \n",
       "36  서울특별시   뉴서울(강남)             서울 강남구 언주로 716  SK에너지  02-518-5631    N  2470   \n",
       "37  서울특별시     동우주유소  서울특별시 강남구  봉은사로 311 (논현동)  SK에너지  02-542-6726    N     -   \n",
       "38  서울특별시     삼성주유소       서울 강남구 삼성로 521 (삼성동)  SK에너지  02-538-0809    N     -   \n",
       "39  서울특별시     역삼주유소             서울 강남구 역삼로 205  GS칼텍스  02-557-5189    N     -   \n",
       "\n",
       "     휘발유    경유  실내등유  \n",
       "35  2113  1859  1359  \n",
       "36  2195  1975     -  \n",
       "37     -     -     -  \n",
       "38     -     -     -  \n",
       "39     -     -     -  "
      ],
      "text/html": "<div>\n<style scoped>\n    .dataframe tbody tr th:only-of-type {\n        vertical-align: middle;\n    }\n\n    .dataframe tbody tr th {\n        vertical-align: top;\n    }\n\n    .dataframe thead th {\n        text-align: right;\n    }\n</style>\n<table border=\"1\" class=\"dataframe\">\n  <thead>\n    <tr style=\"text-align: right;\">\n      <th></th>\n      <th>지역</th>\n      <th>상호</th>\n      <th>주소</th>\n      <th>상표</th>\n      <th>전화번호</th>\n      <th>셀프여부</th>\n      <th>고급휘발유</th>\n      <th>휘발유</th>\n      <th>경유</th>\n      <th>실내등유</th>\n    </tr>\n  </thead>\n  <tbody>\n    <tr>\n      <th>35</th>\n      <td>서울특별시</td>\n      <td>(주)만정에너지</td>\n      <td>서울 강남구 봉은사로 433 (삼성동)</td>\n      <td>GS칼텍스</td>\n      <td>02-518-5141</td>\n      <td>N</td>\n      <td>2299</td>\n      <td>2113</td>\n      <td>1859</td>\n      <td>1359</td>\n    </tr>\n    <tr>\n      <th>36</th>\n      <td>서울특별시</td>\n      <td>뉴서울(강남)</td>\n      <td>서울 강남구 언주로 716</td>\n      <td>SK에너지</td>\n      <td>02-518-5631</td>\n      <td>N</td>\n      <td>2470</td>\n      <td>2195</td>\n      <td>1975</td>\n      <td>-</td>\n    </tr>\n    <tr>\n      <th>37</th>\n      <td>서울특별시</td>\n      <td>동우주유소</td>\n      <td>서울특별시 강남구  봉은사로 311 (논현동)</td>\n      <td>SK에너지</td>\n      <td>02-542-6726</td>\n      <td>N</td>\n      <td>-</td>\n      <td>-</td>\n      <td>-</td>\n      <td>-</td>\n    </tr>\n    <tr>\n      <th>38</th>\n      <td>서울특별시</td>\n      <td>삼성주유소</td>\n      <td>서울 강남구 삼성로 521 (삼성동)</td>\n      <td>SK에너지</td>\n      <td>02-538-0809</td>\n      <td>N</td>\n      <td>-</td>\n      <td>-</td>\n      <td>-</td>\n      <td>-</td>\n    </tr>\n    <tr>\n      <th>39</th>\n      <td>서울특별시</td>\n      <td>역삼주유소</td>\n      <td>서울 강남구 역삼로 205</td>\n      <td>GS칼텍스</td>\n      <td>02-557-5189</td>\n      <td>N</td>\n      <td>-</td>\n      <td>-</td>\n      <td>-</td>\n      <td>-</td>\n    </tr>\n  </tbody>\n</table>\n</div>"
     },
     "metadata": {},
     "execution_count": 20
    }
   ],
   "source": [
    "station_raw.tail()"
   ]
  },
  {
   "cell_type": "code",
   "execution_count": 21,
   "metadata": {},
   "outputs": [
    {
     "output_type": "stream",
     "name": "stdout",
     "text": [
      "<class 'pandas.core.frame.DataFrame'>\nInt64Index: 527 entries, 0 to 39\nData columns (total 10 columns):\n #   Column  Non-Null Count  Dtype \n---  ------  --------------  ----- \n 0   지역      527 non-null    object\n 1   상호      527 non-null    object\n 2   주소      527 non-null    object\n 3   상표      527 non-null    object\n 4   전화번호    527 non-null    object\n 5   셀프여부    527 non-null    object\n 6   고급휘발유   527 non-null    object\n 7   휘발유     527 non-null    object\n 8   경유      527 non-null    object\n 9   실내등유    527 non-null    object\ndtypes: object(10)\nmemory usage: 45.3+ KB\n"
     ]
    }
   ],
   "source": [
    "station_raw.info()"
   ]
  },
  {
   "cell_type": "code",
   "execution_count": 22,
   "metadata": {},
   "outputs": [
    {
     "output_type": "execute_result",
     "data": {
      "text/plain": [
       "                  상호                         주소    가격 셀프      상표\n",
       "0        (주)보성 세곡주유소      서울 강남구  헌릉로 731 (세곡동)  1585  Y   SK에너지\n",
       "1           오일프러스 셀프    서울 강남구 남부순환로 2651 (도곡동)  1593  Y   SK에너지\n",
       "2              방죽주유소      서울 강남구 밤고개로 215 (율현동)  1597  Y   GS칼텍스\n",
       "3  지에스칼텍스(주)직영 산성주유소             서울 강남구 헌릉로 730  1600  Y   GS칼텍스\n",
       "4     현대오일뱅크 도곡셀프주유소  서울 강남구  남부순환로 2718 (도곡2동)  1603  Y  현대오일뱅크"
      ],
      "text/html": "<div>\n<style scoped>\n    .dataframe tbody tr th:only-of-type {\n        vertical-align: middle;\n    }\n\n    .dataframe tbody tr th {\n        vertical-align: top;\n    }\n\n    .dataframe thead th {\n        text-align: right;\n    }\n</style>\n<table border=\"1\" class=\"dataframe\">\n  <thead>\n    <tr style=\"text-align: right;\">\n      <th></th>\n      <th>상호</th>\n      <th>주소</th>\n      <th>가격</th>\n      <th>셀프</th>\n      <th>상표</th>\n    </tr>\n  </thead>\n  <tbody>\n    <tr>\n      <th>0</th>\n      <td>(주)보성 세곡주유소</td>\n      <td>서울 강남구  헌릉로 731 (세곡동)</td>\n      <td>1585</td>\n      <td>Y</td>\n      <td>SK에너지</td>\n    </tr>\n    <tr>\n      <th>1</th>\n      <td>오일프러스 셀프</td>\n      <td>서울 강남구 남부순환로 2651 (도곡동)</td>\n      <td>1593</td>\n      <td>Y</td>\n      <td>SK에너지</td>\n    </tr>\n    <tr>\n      <th>2</th>\n      <td>방죽주유소</td>\n      <td>서울 강남구 밤고개로 215 (율현동)</td>\n      <td>1597</td>\n      <td>Y</td>\n      <td>GS칼텍스</td>\n    </tr>\n    <tr>\n      <th>3</th>\n      <td>지에스칼텍스(주)직영 산성주유소</td>\n      <td>서울 강남구 헌릉로 730</td>\n      <td>1600</td>\n      <td>Y</td>\n      <td>GS칼텍스</td>\n    </tr>\n    <tr>\n      <th>4</th>\n      <td>현대오일뱅크 도곡셀프주유소</td>\n      <td>서울 강남구  남부순환로 2718 (도곡2동)</td>\n      <td>1603</td>\n      <td>Y</td>\n      <td>현대오일뱅크</td>\n    </tr>\n  </tbody>\n</table>\n</div>"
     },
     "metadata": {},
     "execution_count": 22
    }
   ],
   "source": [
    "stations = pd.DataFrame({\n",
    "    '상호': station_raw.상호,\n",
    "    '주소': station_raw.주소,\n",
    "    '가격': station_raw.휘발유,\n",
    "    '셀프': station_raw.셀프여부,\n",
    "    '상표': station_raw.상표\n",
    "})\n",
    "stations.head()"
   ]
  },
  {
   "cell_type": "code",
   "execution_count": 23,
   "metadata": {},
   "outputs": [
    {
     "output_type": "execute_result",
     "data": {
      "text/plain": [
       "          상호                         주소    가격 셀프     상표    구\n",
       "35  (주)만정에너지      서울 강남구 봉은사로 433 (삼성동)  2113  N  GS칼텍스  강남구\n",
       "36   뉴서울(강남)             서울 강남구 언주로 716  2195  N  SK에너지  강남구\n",
       "37     동우주유소  서울특별시 강남구  봉은사로 311 (논현동)     -  N  SK에너지  강남구\n",
       "38     삼성주유소       서울 강남구 삼성로 521 (삼성동)     -  N  SK에너지  강남구\n",
       "39     역삼주유소             서울 강남구 역삼로 205     -  N  GS칼텍스  강남구"
      ],
      "text/html": "<div>\n<style scoped>\n    .dataframe tbody tr th:only-of-type {\n        vertical-align: middle;\n    }\n\n    .dataframe tbody tr th {\n        vertical-align: top;\n    }\n\n    .dataframe thead th {\n        text-align: right;\n    }\n</style>\n<table border=\"1\" class=\"dataframe\">\n  <thead>\n    <tr style=\"text-align: right;\">\n      <th></th>\n      <th>상호</th>\n      <th>주소</th>\n      <th>가격</th>\n      <th>셀프</th>\n      <th>상표</th>\n      <th>구</th>\n    </tr>\n  </thead>\n  <tbody>\n    <tr>\n      <th>35</th>\n      <td>(주)만정에너지</td>\n      <td>서울 강남구 봉은사로 433 (삼성동)</td>\n      <td>2113</td>\n      <td>N</td>\n      <td>GS칼텍스</td>\n      <td>강남구</td>\n    </tr>\n    <tr>\n      <th>36</th>\n      <td>뉴서울(강남)</td>\n      <td>서울 강남구 언주로 716</td>\n      <td>2195</td>\n      <td>N</td>\n      <td>SK에너지</td>\n      <td>강남구</td>\n    </tr>\n    <tr>\n      <th>37</th>\n      <td>동우주유소</td>\n      <td>서울특별시 강남구  봉은사로 311 (논현동)</td>\n      <td>-</td>\n      <td>N</td>\n      <td>SK에너지</td>\n      <td>강남구</td>\n    </tr>\n    <tr>\n      <th>38</th>\n      <td>삼성주유소</td>\n      <td>서울 강남구 삼성로 521 (삼성동)</td>\n      <td>-</td>\n      <td>N</td>\n      <td>SK에너지</td>\n      <td>강남구</td>\n    </tr>\n    <tr>\n      <th>39</th>\n      <td>역삼주유소</td>\n      <td>서울 강남구 역삼로 205</td>\n      <td>-</td>\n      <td>N</td>\n      <td>GS칼텍스</td>\n      <td>강남구</td>\n    </tr>\n  </tbody>\n</table>\n</div>"
     },
     "metadata": {},
     "execution_count": 23
    }
   ],
   "source": [
    "stations['구'] = [addr.split()[1] for addr in station_raw.주소]\n",
    "stations.tail()"
   ]
  },
  {
   "cell_type": "code",
   "execution_count": 24,
   "metadata": {},
   "outputs": [
    {
     "output_type": "execute_result",
     "data": {
      "text/plain": [
       "array(['강남구', '도봉구', '동대문구', '동작구', '마포구', '서대문구', '서초구', '성동구', '성북구',\n",
       "       '송파구', '양천구', '강동구', '영등포구', '용산구', '은평구', '종로구', '중구', '중랑구',\n",
       "       '강북구', '강서구', '관악구', '광진구', '구로구', '금천구', '노원구'], dtype=object)"
      ]
     },
     "metadata": {},
     "execution_count": 24
    }
   ],
   "source": [
    "stations['구'].unique()"
   ]
  },
  {
   "cell_type": "code",
   "execution_count": 25,
   "metadata": {},
   "outputs": [
    {
     "output_type": "stream",
     "name": "stdout",
     "text": [
      "<class 'pandas.core.frame.DataFrame'>\nInt64Index: 511 entries, 0 to 36\nData columns (total 6 columns):\n #   Column  Non-Null Count  Dtype \n---  ------  --------------  ----- \n 0   상호      511 non-null    object\n 1   주소      511 non-null    object\n 2   가격      511 non-null    object\n 3   셀프      511 non-null    object\n 4   상표      511 non-null    object\n 5   구       511 non-null    object\ndtypes: object(6)\nmemory usage: 27.9+ KB\n"
     ]
    }
   ],
   "source": [
    "stations = stations[stations['가격'] !='-']\n",
    "stations.info()"
   ]
  },
  {
   "cell_type": "code",
   "execution_count": 26,
   "metadata": {},
   "outputs": [
    {
     "output_type": "stream",
     "name": "stdout",
     "text": [
      "<class 'pandas.core.frame.DataFrame'>\n",
      "Int64Index: 511 entries, 0 to 36\n",
      "Data columns (total 6 columns):\n",
      " #   Column  Non-Null Count  Dtype \n",
      "---  ------  --------------  ----- \n",
      " 0   상호      511 non-null    object\n",
      " 1   주소      511 non-null    object\n",
      " 2   가격      511 non-null    int64 \n",
      " 3   셀프      511 non-null    object\n",
      " 4   상표      511 non-null    object\n",
      " 5   구       511 non-null    object\n",
      "dtypes: int64(1), object(5)\n",
      "memory usage: 27.9+ KB\n",
      "<ipython-input-26-9ef1b9b42b77>:1: SettingWithCopyWarning: \n",
      "A value is trying to be set on a copy of a slice from a DataFrame.\n",
      "Try using .loc[row_indexer,col_indexer] = value instead\n",
      "\n",
      "See the caveats in the documentation: https://pandas.pydata.org/pandas-docs/stable/user_guide/indexing.html#returning-a-view-versus-a-copy\n",
      "  stations['가격'] = pd.to_numeric(stations['가격'])\n"
     ]
    }
   ],
   "source": [
    "stations['가격'] = pd.to_numeric(stations['가격'])\n",
    "stations.info()"
   ]
  },
  {
   "source": [
    "### 셀프 주유소가 정말 저렴한지 확인"
   ],
   "cell_type": "markdown",
   "metadata": {}
  },
  {
   "cell_type": "code",
   "execution_count": 30,
   "metadata": {},
   "outputs": [],
   "source": [
    "import seaborn as sns \n",
    "import matplotlib as mpl\n",
    "import matplotlib.pyplot as plt\n",
    "%matplotlib inline"
   ]
  },
  {
   "cell_type": "code",
   "execution_count": 31,
   "metadata": {},
   "outputs": [],
   "source": [
    "mpl.rcParams['axes.unicode_minus'] = False \n",
    "plt.rcParams[\"font.family\"] = 'Malgun Gothic'"
   ]
  },
  {
   "cell_type": "code",
   "execution_count": null,
   "metadata": {},
   "outputs": [],
   "source": []
  },
  {
   "cell_type": "code",
   "execution_count": 32,
   "metadata": {},
   "outputs": [
    {
     "output_type": "display_data",
     "data": {
      "text/plain": "<Figure size 864x576 with 1 Axes>",
      "image/svg+xml": "<?xml version=\"1.0\" encoding=\"utf-8\" standalone=\"no\"?>\r\n<!DOCTYPE svg PUBLIC \"-//W3C//DTD SVG 1.1//EN\"\r\n  \"http://www.w3.org/Graphics/SVG/1.1/DTD/svg11.dtd\">\r\n<svg height=\"480.408125pt\" version=\"1.1\" viewBox=\"0 0 726.9875 480.408125\" width=\"726.9875pt\" xmlns=\"http://www.w3.org/2000/svg\" xmlns:xlink=\"http://www.w3.org/1999/xlink\">\r\n <metadata>\r\n  <rdf:RDF xmlns:cc=\"http://creativecommons.org/ns#\" xmlns:dc=\"http://purl.org/dc/elements/1.1/\" xmlns:rdf=\"http://www.w3.org/1999/02/22-rdf-syntax-ns#\">\r\n   <cc:Work>\r\n    <dc:type rdf:resource=\"http://purl.org/dc/dcmitype/StillImage\"/>\r\n    <dc:date>2021-06-07T14:56:07.254853</dc:date>\r\n    <dc:format>image/svg+xml</dc:format>\r\n    <dc:creator>\r\n     <cc:Agent>\r\n      <dc:title>Matplotlib v3.4.2, https://matplotlib.org/</dc:title>\r\n     </cc:Agent>\r\n    </dc:creator>\r\n   </cc:Work>\r\n  </rdf:RDF>\r\n </metadata>\r\n <defs>\r\n  <style type=\"text/css\">*{stroke-linecap:butt;stroke-linejoin:round;}</style>\r\n </defs>\r\n <g id=\"figure_1\">\r\n  <g id=\"patch_1\">\r\n   <path d=\"M 0 480.408125 \r\nL 726.9875 480.408125 \r\nL 726.9875 0 \r\nL 0 0 \r\nz\r\n\" style=\"fill:none;\"/>\r\n  </g>\r\n  <g id=\"axes_1\">\r\n   <g id=\"patch_2\">\r\n    <path d=\"M 50.1875 442.08 \r\nL 719.7875 442.08 \r\nL 719.7875 7.2 \r\nL 50.1875 7.2 \r\nz\r\n\" style=\"fill:#ffffff;\"/>\r\n   </g>\r\n   <g id=\"patch_3\">\r\n    <path clip-path=\"url(#pcea1fca52f)\" d=\"M 60.135843 392.980645 \r\nL 97.633443 392.980645 \r\nL 97.633443 364.073666 \r\nL 60.135843 364.073666 \r\nL 60.135843 392.980645 \r\nz\r\n\" style=\"fill:#3274a1;stroke:#3f3f3f;stroke-linejoin:miter;stroke-width:1.5;\"/>\r\n   </g>\r\n   <g id=\"patch_4\">\r\n    <path clip-path=\"url(#pcea1fca52f)\" d=\"M 98.3987 379.802463 \r\nL 135.8963 379.802463 \r\nL 135.8963 220.282698 \r\nL 98.3987 220.282698 \r\nL 98.3987 379.802463 \r\nz\r\n\" style=\"fill:#e1812c;stroke:#3f3f3f;stroke-linejoin:miter;stroke-width:1.5;\"/>\r\n   </g>\r\n   <g id=\"patch_5\">\r\n    <path clip-path=\"url(#pcea1fca52f)\" d=\"M 155.792986 398.506979 \r\nL 193.290586 398.506979 \r\nL 193.290586 372.150616 \r\nL 155.792986 372.150616 \r\nL 155.792986 398.506979 \r\nz\r\n\" style=\"fill:#3274a1;stroke:#3f3f3f;stroke-linejoin:miter;stroke-width:1.5;\"/>\r\n   </g>\r\n   <g id=\"patch_6\">\r\n    <path clip-path=\"url(#pcea1fca52f)\" d=\"M 194.055843 379.696188 \r\nL 231.553443 379.696188 \r\nL 231.553443 258.541935 \r\nL 194.055843 258.541935 \r\nL 194.055843 379.696188 \r\nz\r\n\" style=\"fill:#e1812c;stroke:#3f3f3f;stroke-linejoin:miter;stroke-width:1.5;\"/>\r\n   </g>\r\n   <g id=\"patch_7\">\r\n    <path clip-path=\"url(#pcea1fca52f)\" d=\"M 251.450129 400.845044 \r\nL 288.947729 400.845044 \r\nL 288.947729 381.396598 \r\nL 251.450129 381.396598 \r\nL 251.450129 400.845044 \r\nz\r\n\" style=\"fill:#3274a1;stroke:#3f3f3f;stroke-linejoin:miter;stroke-width:1.5;\"/>\r\n   </g>\r\n   <g id=\"patch_8\">\r\n    <path clip-path=\"url(#pcea1fca52f)\" d=\"M 289.712986 386.604106 \r\nL 327.210586 386.604106 \r\nL 327.210586 318.587683 \r\nL 289.712986 318.587683 \r\nL 289.712986 386.604106 \r\nz\r\n\" style=\"fill:#e1812c;stroke:#3f3f3f;stroke-linejoin:miter;stroke-width:1.5;\"/>\r\n   </g>\r\n   <g id=\"patch_9\">\r\n    <path clip-path=\"url(#pcea1fca52f)\" d=\"M 347.107271 403.289384 \r\nL 384.604871 403.289384 \r\nL 384.604871 379.908739 \r\nL 347.107271 379.908739 \r\nL 347.107271 403.289384 \r\nz\r\n\" style=\"fill:#3274a1;stroke:#3f3f3f;stroke-linejoin:miter;stroke-width:1.5;\"/>\r\n   </g>\r\n   <g id=\"patch_10\">\r\n    <path clip-path=\"url(#pcea1fca52f)\" d=\"M 385.370129 388.517067 \r\nL 422.867729 388.517067 \r\nL 422.867729 322.201056 \r\nL 385.370129 322.201056 \r\nL 385.370129 388.517067 \r\nz\r\n\" style=\"fill:#e1812c;stroke:#3f3f3f;stroke-linejoin:miter;stroke-width:1.5;\"/>\r\n   </g>\r\n   <g id=\"patch_11\">\r\n    <path clip-path=\"url(#pcea1fca52f)\" d=\"M 442.764414 422.312727 \r\nL 480.262014 422.312727 \r\nL 480.262014 422.312727 \r\nL 442.764414 422.312727 \r\nL 442.764414 422.312727 \r\nz\r\n\" style=\"fill:#3274a1;stroke:#3f3f3f;stroke-linejoin:miter;stroke-width:1.5;\"/>\r\n   </g>\r\n   <g id=\"patch_12\">\r\n    <path clip-path=\"url(#pcea1fca52f)\" d=\"M 576.684414 392.555543 \r\nL 614.182014 392.555543 \r\nL 614.182014 375.551437 \r\nL 576.684414 375.551437 \r\nL 576.684414 392.555543 \r\nz\r\n\" style=\"fill:#e1812c;stroke:#3f3f3f;stroke-linejoin:miter;stroke-width:1.5;\"/>\r\n   </g>\r\n   <g id=\"patch_13\">\r\n    <path clip-path=\"url(#pcea1fca52f)\" d=\"M 634.0787 408.28434 \r\nL 671.5763 408.28434 \r\nL 671.5763 398.081877 \r\nL 634.0787 398.081877 \r\nL 634.0787 408.28434 \r\nz\r\n\" style=\"fill:#3274a1;stroke:#3f3f3f;stroke-linejoin:miter;stroke-width:1.5;\"/>\r\n   </g>\r\n   <g id=\"patch_14\">\r\n    <path clip-path=\"url(#pcea1fca52f)\" d=\"M 672.341557 410.409853 \r\nL 709.839157 410.409853 \r\nL 709.839157 387.454311 \r\nL 672.341557 387.454311 \r\nL 672.341557 410.409853 \r\nz\r\n\" style=\"fill:#e1812c;stroke:#3f3f3f;stroke-linejoin:miter;stroke-width:1.5;\"/>\r\n   </g>\r\n   <g id=\"patch_15\">\r\n    <path clip-path=\"url(#pcea1fca52f)\" d=\"M 98.016071 1059.116481 \r\nL 98.016071 1059.116481 \r\nL 98.016071 1059.116481 \r\nL 98.016071 1059.116481 \r\nz\r\n\" style=\"fill:#3274a1;stroke:#3f3f3f;stroke-linejoin:miter;stroke-width:0.75;\"/>\r\n   </g>\r\n   <g id=\"patch_16\">\r\n    <path clip-path=\"url(#pcea1fca52f)\" d=\"M 98.016071 1059.116481 \r\nL 98.016071 1059.116481 \r\nL 98.016071 1059.116481 \r\nL 98.016071 1059.116481 \r\nz\r\n\" style=\"fill:#e1812c;stroke:#3f3f3f;stroke-linejoin:miter;stroke-width:0.75;\"/>\r\n   </g>\r\n   <g id=\"matplotlib.axis_1\">\r\n    <g id=\"xtick_1\">\r\n     <g id=\"line2d_1\">\r\n      <defs>\r\n       <path d=\"M 0 0 \r\nL 0 3.5 \r\n\" id=\"mc949162f18\" style=\"stroke:#000000;stroke-width:0.8;\"/>\r\n      </defs>\r\n      <g>\r\n       <use style=\"stroke:#000000;stroke-width:0.8;\" x=\"98.016071\" xlink:href=\"#mc949162f18\" y=\"442.08\"/>\r\n      </g>\r\n     </g>\r\n     <g id=\"text_1\">\r\n      <!-- SK에너지 -->\r\n      <g transform=\"translate(77.349665 456.672187)scale(0.1 -0.1)\">\r\n       <defs>\r\n        <path d=\"M 394 797 \r\nQ 606 613 964 500 \r\nQ 1322 388 1625 388 \r\nQ 2628 388 2628 1116 \r\nQ 2628 1325 2523 1484 \r\nQ 2419 1644 2250 1756 \r\nQ 2081 1869 1547 2144 \r\nQ 903 2475 651 2754 \r\nQ 400 3034 400 3456 \r\nQ 400 4019 858 4347 \r\nQ 1316 4675 1988 4675 \r\nQ 2669 4675 2963 4513 \r\nL 2963 3928 \r\nQ 2563 4206 1922 4206 \r\nQ 1484 4206 1207 4018 \r\nQ 931 3831 931 3500 \r\nQ 931 3200 1126 3011 \r\nQ 1322 2822 1938 2522 \r\nQ 2656 2163 2906 1844 \r\nQ 3156 1525 3156 1153 \r\nQ 3156 556 2725 239 \r\nQ 2294 -78 1531 -78 \r\nQ 1291 -78 927 -1 \r\nQ 563 75 394 188 \r\nL 394 797 \r\nz\r\n\" id=\"MalgunGothic-53\" transform=\"scale(0.015625)\"/>\r\n        <path d=\"M 3769 0 \r\nL 3053 0 \r\nL 1250 2109 \r\nQ 1150 2225 1128 2263 \r\nL 1113 2263 \r\nL 1113 0 \r\nL 609 0 \r\nL 609 4600 \r\nL 1113 4600 \r\nL 1113 2438 \r\nL 1128 2438 \r\nQ 1175 2509 1250 2588 \r\nL 3000 4600 \r\nL 3628 4600 \r\nL 1634 2394 \r\nL 3769 0 \r\nz\r\n\" id=\"MalgunGothic-4b\" transform=\"scale(0.015625)\"/>\r\n        <path d=\"M 5081 -563 \r\nL 5081 5466 \r\nL 5550 5466 \r\nL 5550 -563 \r\nL 5081 -563 \r\nz\r\nM 3278 2822 \r\nQ 3244 1931 2903 1448 \r\nQ 2563 966 1959 966 \r\nQ 1325 966 983 1495 \r\nQ 641 2025 641 3016 \r\nQ 641 4006 986 4534 \r\nQ 1331 5063 1959 5063 \r\nQ 2559 5063 2898 4591 \r\nQ 3238 4119 3272 3238 \r\nL 4000 3238 \r\nL 4000 5344 \r\nL 4469 5344 \r\nL 4469 -378 \r\nL 4000 -378 \r\nL 4000 2822 \r\nL 3278 2822 \r\nz\r\nM 1959 4641 \r\nQ 1538 4641 1316 4225 \r\nQ 1094 3809 1094 3016 \r\nQ 1094 2222 1316 1805 \r\nQ 1538 1388 1959 1388 \r\nQ 2378 1388 2600 1806 \r\nQ 2822 2225 2822 3016 \r\nQ 2822 3806 2600 4223 \r\nQ 2378 4641 1959 4641 \r\nz\r\n\" id=\"MalgunGothic-c5d0\" transform=\"scale(0.015625)\"/>\r\n        <path d=\"M 4897 -563 \r\nL 4897 3116 \r\nL 2956 3116 \r\nL 2956 3534 \r\nL 4897 3534 \r\nL 4897 5466 \r\nL 5363 5466 \r\nL 5363 -563 \r\nL 4897 -563 \r\nz\r\nM 4269 1300 \r\nQ 3969 1222 3333 1190 \r\nQ 2697 1159 903 1159 \r\nL 903 5013 \r\nL 1369 5013 \r\nL 1369 1575 \r\nL 1778 1575 \r\nQ 3659 1575 4219 1691 \r\nL 4269 1300 \r\nz\r\n\" id=\"MalgunGothic-b108\" transform=\"scale(0.015625)\"/>\r\n        <path d=\"M 4884 -563 \r\nL 4884 5466 \r\nL 5350 5466 \r\nL 5350 -563 \r\nL 4884 -563 \r\nz\r\nM 3775 909 \r\nQ 3228 1338 2822 1881 \r\nQ 2416 2425 2297 2859 \r\nQ 2178 2397 1756 1814 \r\nQ 1334 1231 825 825 \r\nL 475 1147 \r\nQ 1191 1638 1625 2425 \r\nQ 2059 3213 2059 4019 \r\nL 2059 4525 \r\nL 716 4525 \r\nL 716 4941 \r\nL 3884 4941 \r\nL 3884 4525 \r\nL 2528 4525 \r\nL 2528 4038 \r\nQ 2528 3238 2968 2459 \r\nQ 3409 1681 4097 1269 \r\nL 3775 909 \r\nz\r\n\" id=\"MalgunGothic-c9c0\" transform=\"scale(0.015625)\"/>\r\n       </defs>\r\n       <use xlink:href=\"#MalgunGothic-53\"/>\r\n       <use x=\"54.296875\" xlink:href=\"#MalgunGothic-4b\"/>\r\n       <use x=\"113.330078\" xlink:href=\"#MalgunGothic-c5d0\"/>\r\n       <use x=\"213.330078\" xlink:href=\"#MalgunGothic-b108\"/>\r\n       <use x=\"313.330078\" xlink:href=\"#MalgunGothic-c9c0\"/>\r\n      </g>\r\n     </g>\r\n    </g>\r\n    <g id=\"xtick_2\">\r\n     <g id=\"line2d_2\">\r\n      <g>\r\n       <use style=\"stroke:#000000;stroke-width:0.8;\" x=\"193.673214\" xlink:href=\"#mc949162f18\" y=\"442.08\"/>\r\n      </g>\r\n     </g>\r\n     <g id=\"text_2\">\r\n      <!-- GS칼텍스 -->\r\n      <g transform=\"translate(172.449777 456.672187)scale(0.1 -0.1)\">\r\n       <defs>\r\n        <path d=\"M 4022 316 \r\nQ 3334 -78 2491 -78 \r\nQ 1525 -78 915 558 \r\nQ 306 1194 306 2238 \r\nQ 306 3303 979 3989 \r\nQ 1653 4675 2681 4675 \r\nQ 3453 4675 3938 4428 \r\nL 3938 3856 \r\nQ 3381 4209 2619 4209 \r\nQ 1838 4209 1338 3671 \r\nQ 838 3134 838 2278 \r\nQ 838 1391 1300 887 \r\nQ 1763 384 2563 384 \r\nQ 3128 384 3516 606 \r\nL 3516 1922 \r\nL 2503 1922 \r\nL 2503 2384 \r\nL 4022 2384 \r\nL 4022 316 \r\nz\r\n\" id=\"MalgunGothic-47\" transform=\"scale(0.015625)\"/>\r\n        <path d=\"M 5119 3566 \r\nL 5119 2388 \r\nL 4653 2388 \r\nL 4653 5466 \r\nL 5119 5466 \r\nL 5119 3988 \r\nL 6028 3988 \r\nL 6028 3566 \r\nL 5119 3566 \r\nz\r\nM 3494 5209 \r\nQ 3319 3138 775 2144 \r\nL 459 2522 \r\nQ 1788 2947 2491 3828 \r\nL 744 3641 \r\nL 588 4063 \r\nL 2731 4206 \r\nQ 2894 4525 2950 4794 \r\nL 831 4794 \r\nL 831 5209 \r\nL 3494 5209 \r\nz\r\nM 1466 -428 \r\nL 1466 1044 \r\nL 4653 1044 \r\nL 4653 1638 \r\nL 1466 1638 \r\nL 1466 2053 \r\nL 5119 2053 \r\nL 5119 628 \r\nL 1931 628 \r\nL 1931 -6 \r\nL 5281 -6 \r\nL 5281 -428 \r\nL 1466 -428 \r\nz\r\n\" id=\"MalgunGothic-ce7c\" transform=\"scale(0.015625)\"/>\r\n        <path d=\"M 5056 2022 \r\nL 5056 5466 \r\nL 5522 5466 \r\nL 5522 2022 \r\nL 5056 2022 \r\nz\r\nM 4006 2022 \r\nL 4006 3553 \r\nL 3053 3553 \r\nL 3053 3969 \r\nL 4006 3969 \r\nL 4006 5344 \r\nL 4469 5344 \r\nL 4469 2022 \r\nL 4006 2022 \r\nz\r\nM 1369 3553 \r\nL 1369 2719 \r\nQ 2706 2719 3309 2778 \r\nL 3334 2375 \r\nQ 2541 2303 909 2303 \r\nL 909 5159 \r\nL 3213 5159 \r\nL 3213 4750 \r\nL 1369 4750 \r\nL 1369 3963 \r\nL 2650 3963 \r\nL 2650 3553 \r\nL 1369 3553 \r\nz\r\nM 5056 -563 \r\nL 5056 1275 \r\nL 1581 1275 \r\nL 1581 1691 \r\nL 5522 1691 \r\nL 5522 -563 \r\nL 5056 -563 \r\nz\r\n\" id=\"MalgunGothic-d14d\" transform=\"scale(0.015625)\"/>\r\n        <path d=\"M 3194 3897 \r\nQ 2969 3416 2328 2930 \r\nQ 1688 2444 959 2247 \r\nL 641 2619 \r\nQ 1703 2841 2329 3472 \r\nQ 2956 4103 2956 4659 \r\nL 2956 4978 \r\nL 3438 4978 \r\nL 3438 4659 \r\nQ 3438 4094 4073 3476 \r\nQ 4709 2859 5759 2625 \r\nL 5428 2253 \r\nQ 4694 2481 4058 2956 \r\nQ 3422 3431 3194 3897 \r\nz\r\nM 5997 447 \r\nL 403 447 \r\nL 403 863 \r\nL 5997 863 \r\nL 5997 447 \r\nz\r\n\" id=\"MalgunGothic-c2a4\" transform=\"scale(0.015625)\"/>\r\n       </defs>\r\n       <use xlink:href=\"#MalgunGothic-47\"/>\r\n       <use x=\"70.166016\" xlink:href=\"#MalgunGothic-53\"/>\r\n       <use x=\"124.462891\" xlink:href=\"#MalgunGothic-ce7c\"/>\r\n       <use x=\"224.462891\" xlink:href=\"#MalgunGothic-d14d\"/>\r\n       <use x=\"324.462891\" xlink:href=\"#MalgunGothic-c2a4\"/>\r\n      </g>\r\n     </g>\r\n    </g>\r\n    <g id=\"xtick_3\">\r\n     <g id=\"line2d_3\">\r\n      <g>\r\n       <use style=\"stroke:#000000;stroke-width:0.8;\" x=\"289.330357\" xlink:href=\"#mc949162f18\" y=\"442.08\"/>\r\n      </g>\r\n     </g>\r\n     <g id=\"text_3\">\r\n      <!-- 현대오일뱅크 -->\r\n      <g transform=\"translate(259.330357 456.672187)scale(0.1 -0.1)\">\r\n       <defs>\r\n        <path d=\"M 3950 1984 \r\nL 3950 2388 \r\nL 4947 2388 \r\nL 4947 3284 \r\nL 3950 3284 \r\nL 3950 3694 \r\nL 4947 3694 \r\nL 4947 5466 \r\nL 5416 5466 \r\nL 5416 953 \r\nL 4947 953 \r\nL 4947 1984 \r\nL 3950 1984 \r\nz\r\nM 494 4213 \r\nL 494 4628 \r\nL 2028 4628 \r\nL 2028 5422 \r\nL 2491 5422 \r\nL 2491 4628 \r\nL 4025 4628 \r\nL 4025 4213 \r\nL 494 4213 \r\nz\r\nM 2253 1734 \r\nQ 1578 1734 1189 2051 \r\nQ 800 2369 800 2822 \r\nQ 800 3275 1192 3589 \r\nQ 1584 3903 2259 3903 \r\nQ 2928 3903 3320 3589 \r\nQ 3713 3275 3713 2822 \r\nQ 3713 2369 3323 2051 \r\nQ 2934 1734 2253 1734 \r\nz\r\nM 2259 3506 \r\nQ 1803 3506 1536 3311 \r\nQ 1269 3116 1269 2822 \r\nQ 1269 2525 1539 2328 \r\nQ 1809 2131 2259 2131 \r\nQ 2713 2131 2978 2329 \r\nQ 3244 2528 3244 2822 \r\nQ 3244 3113 2980 3309 \r\nQ 2716 3506 2259 3506 \r\nz\r\nM 1581 -397 \r\nL 1581 1253 \r\nL 2041 1253 \r\nL 2041 13 \r\nL 5575 13 \r\nL 5575 -397 \r\nL 1581 -397 \r\nz\r\n\" id=\"MalgunGothic-d604\" transform=\"scale(0.015625)\"/>\r\n        <path d=\"M 5069 -563 \r\nL 5069 2572 \r\nL 4294 2572 \r\nL 4294 -378 \r\nL 3834 -378 \r\nL 3834 5344 \r\nL 4294 5344 \r\nL 4294 2988 \r\nL 5069 2988 \r\nL 5069 5466 \r\nL 5538 5466 \r\nL 5538 -563 \r\nL 5069 -563 \r\nz\r\nM 3391 1153 \r\nQ 2516 1063 825 1063 \r\nL 825 4934 \r\nL 3138 4934 \r\nL 3138 4519 \r\nL 1288 4519 \r\nL 1288 1478 \r\nL 1844 1478 \r\nQ 2791 1478 3359 1550 \r\nL 3391 1153 \r\nz\r\n\" id=\"MalgunGothic-b300\" transform=\"scale(0.015625)\"/>\r\n        <path d=\"M 403 391 \r\nL 403 800 \r\nL 2963 800 \r\nL 2963 2016 \r\nQ 2103 2081 1634 2479 \r\nQ 1166 2878 1166 3525 \r\nQ 1166 4228 1727 4629 \r\nQ 2288 5031 3200 5031 \r\nQ 4113 5031 4670 4632 \r\nQ 5228 4234 5228 3525 \r\nQ 5228 2878 4759 2479 \r\nQ 4291 2081 3438 2016 \r\nL 3438 800 \r\nL 5997 800 \r\nL 5997 391 \r\nL 403 391 \r\nz\r\nM 1650 3525 \r\nQ 1650 3016 2079 2720 \r\nQ 2509 2425 3200 2425 \r\nQ 3891 2425 4317 2722 \r\nQ 4744 3019 4744 3525 \r\nQ 4744 4028 4317 4325 \r\nQ 3891 4622 3200 4622 \r\nQ 2506 4622 2078 4325 \r\nQ 1650 4028 1650 3525 \r\nz\r\n\" id=\"MalgunGothic-c624\" transform=\"scale(0.015625)\"/>\r\n        <path d=\"M 4947 2363 \r\nL 4947 5466 \r\nL 5422 5466 \r\nL 5422 2363 \r\nL 4947 2363 \r\nz\r\nM 2419 2578 \r\nQ 1738 2578 1314 2970 \r\nQ 891 3363 891 3969 \r\nQ 891 4572 1314 4961 \r\nQ 1738 5350 2419 5350 \r\nQ 3097 5350 3523 4959 \r\nQ 3950 4569 3950 3969 \r\nQ 3950 3366 3522 2972 \r\nQ 3094 2578 2419 2578 \r\nz\r\nM 2419 4947 \r\nQ 1931 4947 1643 4680 \r\nQ 1356 4413 1356 3969 \r\nQ 1356 3522 1643 3248 \r\nQ 1931 2975 2419 2975 \r\nQ 2906 2975 3193 3248 \r\nQ 3481 3522 3481 3969 \r\nQ 3481 4413 3193 4680 \r\nQ 2906 4947 2419 4947 \r\nz\r\nM 1703 -422 \r\nL 1703 1038 \r\nL 4959 1038 \r\nL 4959 1613 \r\nL 1703 1613 \r\nL 1703 2028 \r\nL 5422 2028 \r\nL 5422 634 \r\nL 2163 634 \r\nL 2163 -6 \r\nL 5588 -6 \r\nL 5588 -422 \r\nL 1703 -422 \r\nz\r\n\" id=\"MalgunGothic-c77c\" transform=\"scale(0.015625)\"/>\r\n        <path d=\"M 5056 1844 \r\nL 5056 3347 \r\nL 4353 3347 \r\nL 4353 1997 \r\nL 3891 1997 \r\nL 3891 5344 \r\nL 4353 5344 \r\nL 4353 3763 \r\nL 5056 3763 \r\nL 5056 5466 \r\nL 5522 5466 \r\nL 5522 1844 \r\nL 5056 1844 \r\nz\r\nM 763 2322 \r\nL 763 5209 \r\nL 1222 5209 \r\nL 1222 4134 \r\nL 2772 4134 \r\nL 2772 5209 \r\nL 3231 5209 \r\nL 3231 2322 \r\nL 763 2322 \r\nz\r\nM 2772 3725 \r\nL 1222 3725 \r\nL 1222 2741 \r\nL 2772 2741 \r\nL 2772 3725 \r\nz\r\nM 3541 -494 \r\nQ 2572 -494 2044 -186 \r\nQ 1516 122 1516 622 \r\nQ 1516 1119 2044 1430 \r\nQ 2572 1741 3541 1741 \r\nQ 4500 1741 5028 1428 \r\nQ 5556 1116 5556 622 \r\nQ 5556 122 5029 -186 \r\nQ 4503 -494 3541 -494 \r\nz\r\nM 3541 1344 \r\nQ 2809 1344 2412 1145 \r\nQ 2016 947 2016 622 \r\nQ 2016 297 2412 100 \r\nQ 2809 -97 3541 -97 \r\nQ 4272 -97 4667 101 \r\nQ 5063 300 5063 622 \r\nQ 5063 947 4669 1145 \r\nQ 4275 1344 3541 1344 \r\nz\r\n\" id=\"MalgunGothic-bc45\" transform=\"scale(0.015625)\"/>\r\n        <path d=\"M 403 550 \r\nL 403 966 \r\nL 4494 966 \r\nQ 4584 1969 4609 2791 \r\nL 972 2600 \r\nL 872 3059 \r\nL 4616 3188 \r\nL 4616 4475 \r\nL 1178 4475 \r\nL 1178 4891 \r\nL 5075 4891 \r\nL 5075 3138 \r\nQ 5075 2347 4947 966 \r\nL 5997 966 \r\nL 5997 550 \r\nL 403 550 \r\nz\r\n\" id=\"MalgunGothic-d06c\" transform=\"scale(0.015625)\"/>\r\n       </defs>\r\n       <use xlink:href=\"#MalgunGothic-d604\"/>\r\n       <use x=\"100\" xlink:href=\"#MalgunGothic-b300\"/>\r\n       <use x=\"200\" xlink:href=\"#MalgunGothic-c624\"/>\r\n       <use x=\"300\" xlink:href=\"#MalgunGothic-c77c\"/>\r\n       <use x=\"400\" xlink:href=\"#MalgunGothic-bc45\"/>\r\n       <use x=\"500\" xlink:href=\"#MalgunGothic-d06c\"/>\r\n      </g>\r\n     </g>\r\n    </g>\r\n    <g id=\"xtick_4\">\r\n     <g id=\"line2d_4\">\r\n      <g>\r\n       <use style=\"stroke:#000000;stroke-width:0.8;\" x=\"384.9875\" xlink:href=\"#mc949162f18\" y=\"442.08\"/>\r\n      </g>\r\n     </g>\r\n     <g id=\"text_4\">\r\n      <!-- S-OIL -->\r\n      <g transform=\"translate(372.604688 456.672187)scale(0.1 -0.1)\">\r\n       <defs>\r\n        <path d=\"M 2213 1634 \r\nL 463 1634 \r\nL 463 2031 \r\nL 2213 2031 \r\nL 2213 1634 \r\nz\r\n\" id=\"MalgunGothic-2d\" transform=\"scale(0.015625)\"/>\r\n        <path d=\"M 306 2244 \r\nQ 306 3350 903 4012 \r\nQ 1500 4675 2531 4675 \r\nQ 3481 4675 4062 4029 \r\nQ 4644 3384 4644 2359 \r\nQ 4644 1256 4056 589 \r\nQ 3469 -78 2456 -78 \r\nQ 1488 -78 897 570 \r\nQ 306 1219 306 2244 \r\nz\r\nM 838 2291 \r\nQ 838 1456 1278 918 \r\nQ 1719 381 2453 381 \r\nQ 3238 381 3677 889 \r\nQ 4116 1397 4116 2284 \r\nQ 4116 3188 3692 3700 \r\nQ 3269 4213 2494 4213 \r\nQ 1741 4213 1289 3670 \r\nQ 838 3128 838 2291 \r\nz\r\n\" id=\"MalgunGothic-4f\" transform=\"scale(0.015625)\"/>\r\n        <path d=\"M 1116 0 \r\nL 613 0 \r\nL 613 4600 \r\nL 1116 4600 \r\nL 1116 0 \r\nz\r\n\" id=\"MalgunGothic-49\" transform=\"scale(0.015625)\"/>\r\n        <path d=\"M 2972 0 \r\nL 609 0 \r\nL 609 4600 \r\nL 1113 4600 \r\nL 1113 463 \r\nL 2972 463 \r\nL 2972 0 \r\nz\r\n\" id=\"MalgunGothic-4c\" transform=\"scale(0.015625)\"/>\r\n       </defs>\r\n       <use xlink:href=\"#MalgunGothic-53\"/>\r\n       <use x=\"54.296875\" xlink:href=\"#MalgunGothic-2d\"/>\r\n       <use x=\"95.3125\" xlink:href=\"#MalgunGothic-4f\"/>\r\n       <use x=\"172.65625\" xlink:href=\"#MalgunGothic-49\"/>\r\n       <use x=\"199.658203\" xlink:href=\"#MalgunGothic-4c\"/>\r\n      </g>\r\n     </g>\r\n    </g>\r\n    <g id=\"xtick_5\">\r\n     <g id=\"line2d_5\">\r\n      <g>\r\n       <use style=\"stroke:#000000;stroke-width:0.8;\" x=\"480.644643\" xlink:href=\"#mc949162f18\" y=\"442.08\"/>\r\n      </g>\r\n     </g>\r\n     <g id=\"text_5\">\r\n      <!-- 알뜰(ex) -->\r\n      <g transform=\"translate(462.597768 456.887812)scale(0.1 -0.1)\">\r\n       <defs>\r\n        <path d=\"M 5125 3591 \r\nL 5125 2363 \r\nL 4659 2363 \r\nL 4659 5466 \r\nL 5125 5466 \r\nL 5125 4006 \r\nL 6034 4006 \r\nL 6034 3591 \r\nL 5125 3591 \r\nz\r\nM 2156 2566 \r\nQ 1475 2566 1051 2964 \r\nQ 628 3363 628 3969 \r\nQ 628 4575 1053 4972 \r\nQ 1478 5369 2156 5369 \r\nQ 2831 5369 3259 4972 \r\nQ 3688 4575 3688 3969 \r\nQ 3688 3366 3259 2966 \r\nQ 2831 2566 2156 2566 \r\nz\r\nM 2156 4966 \r\nQ 1675 4966 1384 4691 \r\nQ 1094 4416 1094 3969 \r\nQ 1094 3516 1384 3242 \r\nQ 1675 2969 2156 2969 \r\nQ 2638 2969 2928 3242 \r\nQ 3219 3516 3219 3969 \r\nQ 3219 4416 2928 4691 \r\nQ 2638 4966 2156 4966 \r\nz\r\nM 1472 -422 \r\nL 1472 1038 \r\nL 4666 1038 \r\nL 4666 1613 \r\nL 1472 1613 \r\nL 1472 2028 \r\nL 5125 2028 \r\nL 5125 634 \r\nL 1931 634 \r\nL 1931 -6 \r\nL 5288 -6 \r\nL 5288 -422 \r\nL 1472 -422 \r\nz\r\n\" id=\"MalgunGothic-c54c\" transform=\"scale(0.015625)\"/>\r\n        <path d=\"M 3303 3444 \r\nL 3303 5319 \r\nL 5331 5319 \r\nL 5331 4909 \r\nL 3763 4909 \r\nL 3763 3847 \r\nL 5394 3847 \r\nL 5394 3444 \r\nL 3303 3444 \r\nz\r\nM 1088 3444 \r\nL 1088 5319 \r\nL 2950 5319 \r\nL 2950 4909 \r\nL 1550 4909 \r\nL 1550 3847 \r\nL 3041 3847 \r\nL 3041 3444 \r\nL 1088 3444 \r\nz\r\nM 403 2438 \r\nL 403 2847 \r\nL 5997 2847 \r\nL 5997 2438 \r\nL 403 2438 \r\nz\r\nM 1281 -447 \r\nL 1281 947 \r\nL 4659 947 \r\nL 4659 1503 \r\nL 1281 1503 \r\nL 1281 1919 \r\nL 5119 1919 \r\nL 5119 544 \r\nL 1741 544 \r\nL 1741 -31 \r\nL 5269 -31 \r\nL 5269 -447 \r\nL 1281 -447 \r\nz\r\n\" id=\"MalgunGothic-b730\" transform=\"scale(0.015625)\"/>\r\n        <path d=\"M 1438 -1044 \r\nQ 447 88 447 1753 \r\nQ 447 3431 1438 4600 \r\nL 1888 4600 \r\nQ 878 3372 878 1759 \r\nQ 878 153 1881 -1044 \r\nL 1438 -1044 \r\nz\r\n\" id=\"MalgunGothic-28\" transform=\"scale(0.015625)\"/>\r\n        <path d=\"M 3156 1519 \r\nL 828 1519 \r\nQ 844 950 1133 648 \r\nQ 1422 347 1909 347 \r\nQ 2472 347 2934 719 \r\nL 2934 244 \r\nQ 2494 -78 1794 -78 \r\nQ 1100 -78 708 376 \r\nQ 316 831 316 1634 \r\nQ 316 2381 747 2870 \r\nQ 1178 3359 1816 3359 \r\nQ 2453 3359 2804 2942 \r\nQ 3156 2525 3156 1788 \r\nL 3156 1519 \r\nz\r\nM 2644 1956 \r\nQ 2644 2416 2423 2675 \r\nQ 2203 2934 1809 2934 \r\nQ 1438 2934 1169 2667 \r\nQ 900 2400 834 1956 \r\nL 2644 1956 \r\nz\r\n\" id=\"MalgunGothic-65\" transform=\"scale(0.015625)\"/>\r\n        <path d=\"M 2884 3284 \r\nL 1784 1616 \r\nL 2869 0 \r\nL 2288 0 \r\nL 1634 1078 \r\nQ 1563 1197 1491 1325 \r\nL 1475 1325 \r\nQ 1456 1284 1328 1078 \r\nL 656 0 \r\nL 88 0 \r\nL 1209 1606 \r\nL 134 3284 \r\nL 713 3284 \r\nL 1494 1897 \r\nL 1506 1897 \r\nQ 1525 1925 1641 2119 \r\nL 2344 3284 \r\nL 2884 3284 \r\nz\r\n\" id=\"MalgunGothic-78\" transform=\"scale(0.015625)\"/>\r\n        <path d=\"M 81 -1044 \r\nQ 1081 150 1081 1759 \r\nQ 1081 3378 72 4600 \r\nL 525 4600 \r\nQ 1522 3431 1522 1753 \r\nQ 1522 88 525 -1044 \r\nL 81 -1044 \r\nz\r\n\" id=\"MalgunGothic-29\" transform=\"scale(0.015625)\"/>\r\n       </defs>\r\n       <use xlink:href=\"#MalgunGothic-c54c\"/>\r\n       <use x=\"100\" xlink:href=\"#MalgunGothic-b730\"/>\r\n       <use x=\"200\" xlink:href=\"#MalgunGothic-28\"/>\r\n       <use x=\"230.46875\" xlink:href=\"#MalgunGothic-65\"/>\r\n       <use x=\"283.984375\" xlink:href=\"#MalgunGothic-78\"/>\r\n       <use x=\"330.46875\" xlink:href=\"#MalgunGothic-29\"/>\r\n      </g>\r\n     </g>\r\n    </g>\r\n    <g id=\"xtick_6\">\r\n     <g id=\"line2d_6\">\r\n      <g>\r\n       <use style=\"stroke:#000000;stroke-width:0.8;\" x=\"576.301786\" xlink:href=\"#mc949162f18\" y=\"442.08\"/>\r\n      </g>\r\n     </g>\r\n     <g id=\"text_6\">\r\n      <!-- 자가상표 -->\r\n      <g transform=\"translate(556.301786 456.672187)scale(0.1 -0.1)\">\r\n       <defs>\r\n        <path d=\"M 5094 2600 \r\nL 5094 -563 \r\nL 4628 -563 \r\nL 4628 5466 \r\nL 5094 5466 \r\nL 5094 3016 \r\nL 6138 3016 \r\nL 6138 2600 \r\nL 5094 2600 \r\nz\r\nM 3675 909 \r\nQ 3228 1250 2808 1812 \r\nQ 2388 2375 2247 2822 \r\nQ 2125 2394 1712 1809 \r\nQ 1300 1225 800 825 \r\nL 441 1134 \r\nQ 1100 1569 1551 2364 \r\nQ 2003 3159 2003 3891 \r\nL 2003 4525 \r\nL 666 4525 \r\nL 666 4941 \r\nL 3775 4941 \r\nL 3775 4525 \r\nL 2463 4525 \r\nL 2463 3922 \r\nQ 2463 3188 2916 2434 \r\nQ 3369 1681 4000 1259 \r\nL 3675 909 \r\nz\r\n\" id=\"MalgunGothic-c790\" transform=\"scale(0.015625)\"/>\r\n        <path d=\"M 5094 2566 \r\nL 5094 -563 \r\nL 4628 -563 \r\nL 4628 5466 \r\nL 5094 5466 \r\nL 5094 2981 \r\nL 6175 2981 \r\nL 6175 2566 \r\nL 5094 2566 \r\nz\r\nM 3609 4928 \r\nQ 3541 2363 897 863 \r\nL 538 1241 \r\nQ 1484 1631 2234 2506 \r\nQ 2984 3381 3109 4513 \r\nL 794 4513 \r\nL 794 4928 \r\nL 3609 4928 \r\nz\r\n\" id=\"MalgunGothic-ac00\" transform=\"scale(0.015625)\"/>\r\n        <path d=\"M 5125 3391 \r\nL 5125 1991 \r\nL 4659 1991 \r\nL 4659 5466 \r\nL 5125 5466 \r\nL 5125 3816 \r\nL 6034 3816 \r\nL 6034 3391 \r\nL 5125 3391 \r\nz\r\nM 3603 2316 \r\nQ 3206 2528 2778 2934 \r\nQ 2350 3341 2188 3681 \r\nQ 2022 3291 1609 2852 \r\nQ 1197 2413 750 2163 \r\nL 409 2484 \r\nQ 1072 2806 1512 3397 \r\nQ 1953 3988 1953 4628 \r\nL 1953 5259 \r\nL 2400 5259 \r\nL 2400 4628 \r\nQ 2400 4025 2845 3472 \r\nQ 3291 2919 3909 2656 \r\nL 3603 2316 \r\nz\r\nM 3263 -513 \r\nQ 2322 -513 1811 -186 \r\nQ 1300 141 1300 659 \r\nQ 1300 1175 1812 1500 \r\nQ 2325 1825 3263 1825 \r\nQ 4203 1825 4715 1501 \r\nQ 5228 1178 5228 659 \r\nQ 5228 138 4717 -187 \r\nQ 4206 -513 3263 -513 \r\nz\r\nM 3263 1428 \r\nQ 2563 1428 2180 1215 \r\nQ 1797 1003 1797 659 \r\nQ 1797 309 2181 96 \r\nQ 2566 -116 3263 -116 \r\nQ 3969 -116 4353 98 \r\nQ 4738 313 4738 659 \r\nQ 4738 1000 4353 1214 \r\nQ 3969 1428 3263 1428 \r\nz\r\n\" id=\"MalgunGothic-c0c1\" transform=\"scale(0.015625)\"/>\r\n        <path d=\"M 997 4897 \r\nL 5403 4897 \r\nL 5403 4488 \r\nL 997 4488 \r\nL 997 4897 \r\nz\r\nM 4481 2566 \r\nL 5478 2566 \r\nL 5478 2156 \r\nL 4494 2156 \r\nL 4494 756 \r\nL 5997 756 \r\nL 5997 341 \r\nL 403 341 \r\nL 403 756 \r\nL 1906 756 \r\nL 1906 2156 \r\nL 922 2156 \r\nL 922 2566 \r\nL 1919 2566 \r\nL 1844 4172 \r\nL 2303 4172 \r\nL 2381 2566 \r\nL 4019 2566 \r\nL 4097 4172 \r\nL 4556 4172 \r\nL 4481 2566 \r\nz\r\nM 2375 756 \r\nL 4025 756 \r\nL 4025 2156 \r\nL 2375 2156 \r\nL 2375 756 \r\nz\r\n\" id=\"MalgunGothic-d45c\" transform=\"scale(0.015625)\"/>\r\n       </defs>\r\n       <use xlink:href=\"#MalgunGothic-c790\"/>\r\n       <use x=\"100\" xlink:href=\"#MalgunGothic-ac00\"/>\r\n       <use x=\"200\" xlink:href=\"#MalgunGothic-c0c1\"/>\r\n       <use x=\"300\" xlink:href=\"#MalgunGothic-d45c\"/>\r\n      </g>\r\n     </g>\r\n    </g>\r\n    <g id=\"xtick_7\">\r\n     <g id=\"line2d_7\">\r\n      <g>\r\n       <use style=\"stroke:#000000;stroke-width:0.8;\" x=\"671.958929\" xlink:href=\"#mc949162f18\" y=\"442.08\"/>\r\n      </g>\r\n     </g>\r\n     <g id=\"text_7\">\r\n      <!-- 알뜰주유소 -->\r\n      <g transform=\"translate(646.958929 456.672187)scale(0.1 -0.1)\">\r\n       <defs>\r\n        <path d=\"M 5491 2969 \r\nQ 4775 3069 4104 3464 \r\nQ 3434 3859 3200 4256 \r\nQ 2981 3869 2317 3459 \r\nQ 1653 3050 922 2931 \r\nL 634 3322 \r\nQ 1463 3406 2152 3843 \r\nQ 2841 4281 2950 4825 \r\nL 1025 4825 \r\nL 1025 5241 \r\nL 5375 5241 \r\nL 5375 4825 \r\nL 3444 4825 \r\nQ 3550 4272 4225 3850 \r\nQ 4900 3428 5766 3347 \r\nL 5491 2969 \r\nz\r\nM 3438 1863 \r\nL 3438 -563 \r\nL 2963 -563 \r\nL 2963 1863 \r\nL 403 1863 \r\nL 403 2278 \r\nL 5997 2278 \r\nL 5997 1863 \r\nL 3438 1863 \r\nz\r\n\" id=\"MalgunGothic-c8fc\" transform=\"scale(0.015625)\"/>\r\n        <path d=\"M 3200 2784 \r\nQ 2278 2784 1768 3131 \r\nQ 1259 3478 1259 4078 \r\nQ 1259 4669 1775 5025 \r\nQ 2291 5381 3200 5381 \r\nQ 4128 5381 4640 5025 \r\nQ 5153 4669 5153 4078 \r\nQ 5153 3484 4640 3134 \r\nQ 4128 2784 3200 2784 \r\nz\r\nM 3200 4978 \r\nQ 2513 4978 2130 4736 \r\nQ 1747 4494 1747 4078 \r\nQ 1747 3669 2130 3425 \r\nQ 2513 3181 3200 3181 \r\nQ 3888 3181 4270 3425 \r\nQ 4653 3669 4653 4078 \r\nQ 4653 4494 4270 4736 \r\nQ 3888 4978 3200 4978 \r\nz\r\nM 1913 -556 \r\nL 1913 1672 \r\nL 403 1672 \r\nL 403 2094 \r\nL 5997 2094 \r\nL 5997 1672 \r\nL 4488 1672 \r\nL 4488 -556 \r\nL 4019 -556 \r\nL 4019 1672 \r\nL 2381 1672 \r\nL 2381 -556 \r\nL 1913 -556 \r\nz\r\n\" id=\"MalgunGothic-c720\" transform=\"scale(0.015625)\"/>\r\n        <path d=\"M 3194 3909 \r\nQ 2963 3416 2330 2941 \r\nQ 1697 2466 959 2259 \r\nL 641 2631 \r\nQ 1700 2872 2328 3497 \r\nQ 2956 4122 2956 4666 \r\nL 2956 4984 \r\nL 3438 4984 \r\nL 3438 4666 \r\nQ 3438 4131 4069 3506 \r\nQ 4700 2881 5759 2631 \r\nL 5428 2266 \r\nQ 4719 2481 4072 2957 \r\nQ 3425 3434 3194 3909 \r\nz\r\nM 403 384 \r\nL 403 800 \r\nL 2963 800 \r\nL 2963 2266 \r\nL 3438 2266 \r\nL 3438 800 \r\nL 5997 800 \r\nL 5997 384 \r\nL 403 384 \r\nz\r\n\" id=\"MalgunGothic-c18c\" transform=\"scale(0.015625)\"/>\r\n       </defs>\r\n       <use xlink:href=\"#MalgunGothic-c54c\"/>\r\n       <use x=\"100\" xlink:href=\"#MalgunGothic-b730\"/>\r\n       <use x=\"200\" xlink:href=\"#MalgunGothic-c8fc\"/>\r\n       <use x=\"300\" xlink:href=\"#MalgunGothic-c720\"/>\r\n       <use x=\"400\" xlink:href=\"#MalgunGothic-c18c\"/>\r\n      </g>\r\n     </g>\r\n    </g>\r\n    <g id=\"text_8\">\r\n     <!-- 상표 -->\r\n     <g transform=\"translate(374.9875 470.844062)scale(0.1 -0.1)\">\r\n      <use xlink:href=\"#MalgunGothic-c0c1\"/>\r\n      <use x=\"100\" xlink:href=\"#MalgunGothic-d45c\"/>\r\n     </g>\r\n    </g>\r\n   </g>\r\n   <g id=\"matplotlib.axis_2\">\r\n    <g id=\"ytick_1\">\r\n     <g id=\"line2d_8\">\r\n      <defs>\r\n       <path d=\"M 0 0 \r\nL -3.5 0 \r\n\" id=\"mb161ca5fdf\" style=\"stroke:#000000;stroke-width:0.8;\"/>\r\n      </defs>\r\n      <g>\r\n       <use style=\"stroke:#000000;stroke-width:0.8;\" x=\"50.1875\" xlink:href=\"#mb161ca5fdf\" y=\"378.952258\"/>\r\n      </g>\r\n     </g>\r\n     <g id=\"text_9\">\r\n      <!-- 1600 -->\r\n      <g transform=\"translate(21.15625 382.748352)scale(0.1 -0.1)\">\r\n       <defs>\r\n        <path d=\"M 2231 0 \r\nL 1734 0 \r\nL 1734 3972 \r\nQ 1591 3828 1266 3661 \r\nQ 941 3494 672 3428 \r\nL 672 3959 \r\nQ 1016 4056 1409 4275 \r\nQ 1803 4494 2031 4700 \r\nL 2231 4700 \r\nL 2231 0 \r\nz\r\n\" id=\"MalgunGothic-31\" transform=\"scale(0.015625)\"/>\r\n        <path d=\"M 2981 4069 \r\nQ 2619 4250 2228 4250 \r\nQ 1591 4250 1228 3689 \r\nQ 866 3128 869 2213 \r\nL 884 2213 \r\nQ 1203 2872 1938 2872 \r\nQ 2547 2872 2903 2478 \r\nQ 3259 2084 3259 1450 \r\nQ 3259 797 2857 359 \r\nQ 2456 -78 1825 -78 \r\nQ 1116 -78 736 478 \r\nQ 356 1034 356 2019 \r\nQ 356 3181 847 3928 \r\nQ 1338 4675 2222 4675 \r\nQ 2700 4675 2981 4544 \r\nL 2981 4069 \r\nz\r\nM 906 1506 \r\nQ 906 1022 1165 683 \r\nQ 1425 344 1844 344 \r\nQ 2247 344 2498 645 \r\nQ 2750 947 2750 1388 \r\nQ 2750 1888 2509 2167 \r\nQ 2269 2447 1838 2447 \r\nQ 1444 2447 1175 2173 \r\nQ 906 1900 906 1506 \r\nz\r\n\" id=\"MalgunGothic-36\" transform=\"scale(0.015625)\"/>\r\n        <path d=\"M 278 2206 \r\nQ 278 3425 675 4050 \r\nQ 1072 4675 1819 4675 \r\nQ 3253 4675 3253 2319 \r\nQ 3253 1156 2854 539 \r\nQ 2456 -78 1716 -78 \r\nQ 1016 -78 647 520 \r\nQ 278 1119 278 2206 \r\nz\r\nM 784 2231 \r\nQ 784 344 1769 344 \r\nQ 2747 344 2747 2259 \r\nQ 2747 4250 1794 4250 \r\nQ 784 4250 784 2231 \r\nz\r\n\" id=\"MalgunGothic-30\" transform=\"scale(0.015625)\"/>\r\n       </defs>\r\n       <use xlink:href=\"#MalgunGothic-31\"/>\r\n       <use x=\"55.078125\" xlink:href=\"#MalgunGothic-36\"/>\r\n       <use x=\"110.15625\" xlink:href=\"#MalgunGothic-30\"/>\r\n       <use x=\"165.234375\" xlink:href=\"#MalgunGothic-30\"/>\r\n      </g>\r\n     </g>\r\n    </g>\r\n    <g id=\"ytick_2\">\r\n     <g id=\"line2d_9\">\r\n      <g>\r\n       <use style=\"stroke:#000000;stroke-width:0.8;\" x=\"50.1875\" xlink:href=\"#mb161ca5fdf\" y=\"293.93173\"/>\r\n      </g>\r\n     </g>\r\n     <g id=\"text_10\">\r\n      <!-- 1800 -->\r\n      <g transform=\"translate(21.15625 297.727824)scale(0.1 -0.1)\">\r\n       <defs>\r\n        <path d=\"M 303 1281 \r\nQ 303 1669 539 2011 \r\nQ 775 2353 1153 2494 \r\nQ 856 2647 675 2915 \r\nQ 494 3184 494 3500 \r\nQ 494 3828 659 4098 \r\nQ 825 4369 1122 4522 \r\nQ 1419 4675 1778 4675 \r\nQ 2334 4675 2700 4342 \r\nQ 3066 4009 3066 3500 \r\nQ 3066 3181 2881 2914 \r\nQ 2697 2647 2413 2494 \r\nQ 2788 2350 3022 2009 \r\nQ 3256 1669 3256 1281 \r\nQ 3256 672 2843 297 \r\nQ 2431 -78 1778 -78 \r\nQ 1131 -78 717 301 \r\nQ 303 681 303 1281 \r\nz\r\nM 809 1328 \r\nQ 809 878 1081 611 \r\nQ 1353 344 1781 344 \r\nQ 2206 344 2482 619 \r\nQ 2759 894 2759 1328 \r\nQ 2759 1731 2482 2011 \r\nQ 2206 2291 1781 2291 \r\nQ 1372 2291 1090 2020 \r\nQ 809 1750 809 1328 \r\nz\r\nM 1003 3459 \r\nQ 1003 3125 1234 2900 \r\nQ 1466 2675 1781 2675 \r\nQ 2097 2675 2330 2900 \r\nQ 2563 3125 2563 3459 \r\nQ 2563 3803 2341 4026 \r\nQ 2119 4250 1781 4250 \r\nQ 1450 4250 1226 4029 \r\nQ 1003 3809 1003 3459 \r\nz\r\n\" id=\"MalgunGothic-38\" transform=\"scale(0.015625)\"/>\r\n       </defs>\r\n       <use xlink:href=\"#MalgunGothic-31\"/>\r\n       <use x=\"55.078125\" xlink:href=\"#MalgunGothic-38\"/>\r\n       <use x=\"110.15625\" xlink:href=\"#MalgunGothic-30\"/>\r\n       <use x=\"165.234375\" xlink:href=\"#MalgunGothic-30\"/>\r\n      </g>\r\n     </g>\r\n    </g>\r\n    <g id=\"ytick_3\">\r\n     <g id=\"line2d_10\">\r\n      <g>\r\n       <use style=\"stroke:#000000;stroke-width:0.8;\" x=\"50.1875\" xlink:href=\"#mb161ca5fdf\" y=\"208.911202\"/>\r\n      </g>\r\n     </g>\r\n     <g id=\"text_11\">\r\n      <!-- 2000 -->\r\n      <g transform=\"translate(21.15625 212.707296)scale(0.1 -0.1)\">\r\n       <defs>\r\n        <path d=\"M 2519 3372 \r\nQ 2519 3784 2275 4018 \r\nQ 2031 4253 1628 4253 \r\nQ 1341 4253 1053 4104 \r\nQ 766 3956 534 3697 \r\nL 534 4234 \r\nQ 981 4675 1691 4675 \r\nQ 2281 4675 2642 4334 \r\nQ 3003 3994 3003 3416 \r\nQ 3003 2919 2772 2545 \r\nQ 2541 2172 1984 1775 \r\nQ 1459 1406 1254 1215 \r\nQ 1050 1025 967 854 \r\nQ 884 684 884 450 \r\nL 3116 450 \r\nL 3116 0 \r\nL 356 0 \r\nL 356 225 \r\nQ 356 603 461 870 \r\nQ 566 1138 811 1392 \r\nQ 1056 1647 1597 2022 \r\nQ 2091 2363 2305 2670 \r\nQ 2519 2978 2519 3372 \r\nz\r\n\" id=\"MalgunGothic-32\" transform=\"scale(0.015625)\"/>\r\n       </defs>\r\n       <use xlink:href=\"#MalgunGothic-32\"/>\r\n       <use x=\"55.078125\" xlink:href=\"#MalgunGothic-30\"/>\r\n       <use x=\"110.15625\" xlink:href=\"#MalgunGothic-30\"/>\r\n       <use x=\"165.234375\" xlink:href=\"#MalgunGothic-30\"/>\r\n      </g>\r\n     </g>\r\n    </g>\r\n    <g id=\"ytick_4\">\r\n     <g id=\"line2d_11\">\r\n      <g>\r\n       <use style=\"stroke:#000000;stroke-width:0.8;\" x=\"50.1875\" xlink:href=\"#mb161ca5fdf\" y=\"123.890674\"/>\r\n      </g>\r\n     </g>\r\n     <g id=\"text_12\">\r\n      <!-- 2200 -->\r\n      <g transform=\"translate(21.15625 127.686768)scale(0.1 -0.1)\">\r\n       <use xlink:href=\"#MalgunGothic-32\"/>\r\n       <use x=\"55.078125\" xlink:href=\"#MalgunGothic-32\"/>\r\n       <use x=\"110.15625\" xlink:href=\"#MalgunGothic-30\"/>\r\n       <use x=\"165.234375\" xlink:href=\"#MalgunGothic-30\"/>\r\n      </g>\r\n     </g>\r\n    </g>\r\n    <g id=\"ytick_5\">\r\n     <g id=\"line2d_12\">\r\n      <g>\r\n       <use style=\"stroke:#000000;stroke-width:0.8;\" x=\"50.1875\" xlink:href=\"#mb161ca5fdf\" y=\"38.870147\"/>\r\n      </g>\r\n     </g>\r\n     <g id=\"text_13\">\r\n      <!-- 2400 -->\r\n      <g transform=\"translate(21.15625 42.66624)scale(0.1 -0.1)\">\r\n       <defs>\r\n        <path d=\"M 2703 4600 \r\nL 2703 1563 \r\nL 3309 1563 \r\nL 3309 1113 \r\nL 2703 1113 \r\nL 2703 0 \r\nL 2213 0 \r\nL 2213 1113 \r\nL 50 1113 \r\nL 50 1534 \r\nQ 728 2297 1295 3109 \r\nQ 1863 3922 2172 4600 \r\nL 2703 4600 \r\nz\r\nM 625 1563 \r\nL 2213 1563 \r\nL 2213 3831 \r\nQ 1613 2788 959 1981 \r\nL 625 1563 \r\nz\r\n\" id=\"MalgunGothic-34\" transform=\"scale(0.015625)\"/>\r\n       </defs>\r\n       <use xlink:href=\"#MalgunGothic-32\"/>\r\n       <use x=\"55.078125\" xlink:href=\"#MalgunGothic-34\"/>\r\n       <use x=\"110.15625\" xlink:href=\"#MalgunGothic-30\"/>\r\n       <use x=\"165.234375\" xlink:href=\"#MalgunGothic-30\"/>\r\n      </g>\r\n     </g>\r\n    </g>\r\n    <g id=\"text_14\">\r\n     <!-- 가격 -->\r\n     <g transform=\"translate(14.792187 234.64)rotate(-90)scale(0.1 -0.1)\">\r\n      <defs>\r\n       <path d=\"M 4947 2113 \r\nL 4947 2791 \r\nL 3681 2791 \r\nL 3681 3200 \r\nL 4947 3200 \r\nL 4947 4072 \r\nL 3744 4072 \r\nL 3744 4481 \r\nL 4947 4481 \r\nL 4947 5466 \r\nL 5416 5466 \r\nL 5416 2113 \r\nL 4947 2113 \r\nz\r\nM 3603 5147 \r\nQ 3603 4181 2859 3287 \r\nQ 2116 2394 872 1913 \r\nL 538 2278 \r\nQ 1550 2603 2247 3284 \r\nQ 2944 3966 3072 4728 \r\nL 941 4728 \r\nL 941 5147 \r\nL 3603 5147 \r\nz\r\nM 4947 -563 \r\nL 4947 1356 \r\nL 1522 1356 \r\nL 1522 1778 \r\nL 5416 1778 \r\nL 5416 -563 \r\nL 4947 -563 \r\nz\r\n\" id=\"MalgunGothic-aca9\" transform=\"scale(0.015625)\"/>\r\n      </defs>\r\n      <use xlink:href=\"#MalgunGothic-ac00\"/>\r\n      <use x=\"100\" xlink:href=\"#MalgunGothic-aca9\"/>\r\n     </g>\r\n    </g>\r\n   </g>\r\n   <g id=\"line2d_13\">\r\n    <path clip-path=\"url(#pcea1fca52f)\" d=\"M 78.884643 392.980645 \r\nL 78.884643 415.085982 \r\n\" style=\"fill:none;stroke:#3f3f3f;stroke-linecap:square;stroke-width:1.5;\"/>\r\n   </g>\r\n   <g id=\"line2d_14\">\r\n    <path clip-path=\"url(#pcea1fca52f)\" d=\"M 78.884643 364.073666 \r\nL 78.884643 345.36915 \r\n\" style=\"fill:none;stroke:#3f3f3f;stroke-linecap:square;stroke-width:1.5;\"/>\r\n   </g>\r\n   <g id=\"line2d_15\">\r\n    <path clip-path=\"url(#pcea1fca52f)\" d=\"M 69.510243 415.085982 \r\nL 88.259043 415.085982 \r\n\" style=\"fill:none;stroke:#3f3f3f;stroke-linecap:square;stroke-width:1.5;\"/>\r\n   </g>\r\n   <g id=\"line2d_16\">\r\n    <path clip-path=\"url(#pcea1fca52f)\" d=\"M 69.510243 345.36915 \r\nL 88.259043 345.36915 \r\n\" style=\"fill:none;stroke:#3f3f3f;stroke-linecap:square;stroke-width:1.5;\"/>\r\n   </g>\r\n   <g id=\"line2d_17\"/>\r\n   <g id=\"line2d_18\">\r\n    <path clip-path=\"url(#pcea1fca52f)\" d=\"M 117.1475 379.802463 \r\nL 117.1475 415.511085 \r\n\" style=\"fill:none;stroke:#3f3f3f;stroke-linecap:square;stroke-width:1.5;\"/>\r\n   </g>\r\n   <g id=\"line2d_19\">\r\n    <path clip-path=\"url(#pcea1fca52f)\" d=\"M 117.1475 220.282698 \r\nL 117.1475 26.967273 \r\n\" style=\"fill:none;stroke:#3f3f3f;stroke-linecap:square;stroke-width:1.5;\"/>\r\n   </g>\r\n   <g id=\"line2d_20\">\r\n    <path clip-path=\"url(#pcea1fca52f)\" d=\"M 107.7731 415.511085 \r\nL 126.5219 415.511085 \r\n\" style=\"fill:none;stroke:#3f3f3f;stroke-linecap:square;stroke-width:1.5;\"/>\r\n   </g>\r\n   <g id=\"line2d_21\">\r\n    <path clip-path=\"url(#pcea1fca52f)\" d=\"M 107.7731 26.967273 \r\nL 126.5219 26.967273 \r\n\" style=\"fill:none;stroke:#3f3f3f;stroke-linecap:square;stroke-width:1.5;\"/>\r\n   </g>\r\n   <g id=\"line2d_22\"/>\r\n   <g id=\"line2d_23\">\r\n    <path clip-path=\"url(#pcea1fca52f)\" d=\"M 174.541786 398.506979 \r\nL 174.541786 414.235777 \r\n\" style=\"fill:none;stroke:#3f3f3f;stroke-linecap:square;stroke-width:1.5;\"/>\r\n   </g>\r\n   <g id=\"line2d_24\">\r\n    <path clip-path=\"url(#pcea1fca52f)\" d=\"M 174.541786 372.150616 \r\nL 174.541786 358.122229 \r\n\" style=\"fill:none;stroke:#3f3f3f;stroke-linecap:square;stroke-width:1.5;\"/>\r\n   </g>\r\n   <g id=\"line2d_25\">\r\n    <path clip-path=\"url(#pcea1fca52f)\" d=\"M 165.167386 414.235777 \r\nL 183.916186 414.235777 \r\n\" style=\"fill:none;stroke:#3f3f3f;stroke-linecap:square;stroke-width:1.5;\"/>\r\n   </g>\r\n   <g id=\"line2d_26\">\r\n    <path clip-path=\"url(#pcea1fca52f)\" d=\"M 165.167386 358.122229 \r\nL 183.916186 358.122229 \r\n\" style=\"fill:none;stroke:#3f3f3f;stroke-linecap:square;stroke-width:1.5;\"/>\r\n   </g>\r\n   <g id=\"line2d_27\">\r\n    <defs>\r\n     <path d=\"M 0 3.535534 \r\nL 2.12132 0 \r\nL 0 -3.535534 \r\nL -2.12132 0 \r\nz\r\n\" id=\"m0450125f2e\" style=\"stroke:#3f3f3f;stroke-linejoin:miter;\"/>\r\n    </defs>\r\n    <g clip-path=\"url(#pcea1fca52f)\">\r\n     <use style=\"fill:#3f3f3f;stroke:#3f3f3f;stroke-linejoin:miter;\" x=\"174.541786\" xlink:href=\"#m0450125f2e\" y=\"324.114018\"/>\r\n     <use style=\"fill:#3f3f3f;stroke:#3f3f3f;stroke-linejoin:miter;\" x=\"174.541786\" xlink:href=\"#m0450125f2e\" y=\"324.53912\"/>\r\n     <use style=\"fill:#3f3f3f;stroke:#3f3f3f;stroke-linejoin:miter;\" x=\"174.541786\" xlink:href=\"#m0450125f2e\" y=\"320.288094\"/>\r\n     <use style=\"fill:#3f3f3f;stroke:#3f3f3f;stroke-linejoin:miter;\" x=\"174.541786\" xlink:href=\"#m0450125f2e\" y=\"324.114018\"/>\r\n    </g>\r\n   </g>\r\n   <g id=\"line2d_28\">\r\n    <path clip-path=\"url(#pcea1fca52f)\" d=\"M 212.804643 379.696188 \r\nL 212.804643 402.332903 \r\n\" style=\"fill:none;stroke:#3f3f3f;stroke-linecap:square;stroke-width:1.5;\"/>\r\n   </g>\r\n   <g id=\"line2d_29\">\r\n    <path clip-path=\"url(#pcea1fca52f)\" d=\"M 212.804643 258.541935 \r\nL 212.804643 94.558592 \r\n\" style=\"fill:none;stroke:#3f3f3f;stroke-linecap:square;stroke-width:1.5;\"/>\r\n   </g>\r\n   <g id=\"line2d_30\">\r\n    <path clip-path=\"url(#pcea1fca52f)\" d=\"M 203.430243 402.332903 \r\nL 222.179043 402.332903 \r\n\" style=\"fill:none;stroke:#3f3f3f;stroke-linecap:square;stroke-width:1.5;\"/>\r\n   </g>\r\n   <g id=\"line2d_31\">\r\n    <path clip-path=\"url(#pcea1fca52f)\" d=\"M 203.430243 94.558592 \r\nL 222.179043 94.558592 \r\n\" style=\"fill:none;stroke:#3f3f3f;stroke-linecap:square;stroke-width:1.5;\"/>\r\n   </g>\r\n   <g id=\"line2d_32\">\r\n    <g clip-path=\"url(#pcea1fca52f)\">\r\n     <use style=\"fill:#3f3f3f;stroke:#3f3f3f;stroke-linejoin:miter;\" x=\"212.804643\" xlink:href=\"#m0450125f2e\" y=\"45.671789\"/>\r\n    </g>\r\n   </g>\r\n   <g id=\"line2d_33\">\r\n    <path clip-path=\"url(#pcea1fca52f)\" d=\"M 270.198929 400.845044 \r\nL 270.198929 421.887625 \r\n\" style=\"fill:none;stroke:#3f3f3f;stroke-linecap:square;stroke-width:1.5;\"/>\r\n   </g>\r\n   <g id=\"line2d_34\">\r\n    <path clip-path=\"url(#pcea1fca52f)\" d=\"M 270.198929 381.396598 \r\nL 270.198929 355.571613 \r\n\" style=\"fill:none;stroke:#3f3f3f;stroke-linecap:square;stroke-width:1.5;\"/>\r\n   </g>\r\n   <g id=\"line2d_35\">\r\n    <path clip-path=\"url(#pcea1fca52f)\" d=\"M 260.824529 421.887625 \r\nL 279.573329 421.887625 \r\n\" style=\"fill:none;stroke:#3f3f3f;stroke-linecap:square;stroke-width:1.5;\"/>\r\n   </g>\r\n   <g id=\"line2d_36\">\r\n    <path clip-path=\"url(#pcea1fca52f)\" d=\"M 260.824529 355.571613 \r\nL 279.573329 355.571613 \r\n\" style=\"fill:none;stroke:#3f3f3f;stroke-linecap:square;stroke-width:1.5;\"/>\r\n   </g>\r\n   <g id=\"line2d_37\"/>\r\n   <g id=\"line2d_38\">\r\n    <path clip-path=\"url(#pcea1fca52f)\" d=\"M 308.461786 386.604106 \r\nL 308.461786 413.385572 \r\n\" style=\"fill:none;stroke:#3f3f3f;stroke-linecap:square;stroke-width:1.5;\"/>\r\n   </g>\r\n   <g id=\"line2d_39\">\r\n    <path clip-path=\"url(#pcea1fca52f)\" d=\"M 308.461786 318.587683 \r\nL 308.461786 269.70088 \r\n\" style=\"fill:none;stroke:#3f3f3f;stroke-linecap:square;stroke-width:1.5;\"/>\r\n   </g>\r\n   <g id=\"line2d_40\">\r\n    <path clip-path=\"url(#pcea1fca52f)\" d=\"M 299.087386 413.385572 \r\nL 317.836186 413.385572 \r\n\" style=\"fill:none;stroke:#3f3f3f;stroke-linecap:square;stroke-width:1.5;\"/>\r\n   </g>\r\n   <g id=\"line2d_41\">\r\n    <path clip-path=\"url(#pcea1fca52f)\" d=\"M 299.087386 269.70088 \r\nL 317.836186 269.70088 \r\n\" style=\"fill:none;stroke:#3f3f3f;stroke-linecap:square;stroke-width:1.5;\"/>\r\n   </g>\r\n   <g id=\"line2d_42\">\r\n    <g clip-path=\"url(#pcea1fca52f)\">\r\n     <use style=\"fill:#3f3f3f;stroke:#3f3f3f;stroke-linejoin:miter;\" x=\"308.461786\" xlink:href=\"#m0450125f2e\" y=\"166.826041\"/>\r\n     <use style=\"fill:#3f3f3f;stroke:#3f3f3f;stroke-linejoin:miter;\" x=\"308.461786\" xlink:href=\"#m0450125f2e\" y=\"214.012434\"/>\r\n     <use style=\"fill:#3f3f3f;stroke:#3f3f3f;stroke-linejoin:miter;\" x=\"308.461786\" xlink:href=\"#m0450125f2e\" y=\"213.587331\"/>\r\n     <use style=\"fill:#3f3f3f;stroke:#3f3f3f;stroke-linejoin:miter;\" x=\"308.461786\" xlink:href=\"#m0450125f2e\" y=\"209.761408\"/>\r\n     <use style=\"fill:#3f3f3f;stroke:#3f3f3f;stroke-linejoin:miter;\" x=\"308.461786\" xlink:href=\"#m0450125f2e\" y=\"214.012434\"/>\r\n    </g>\r\n   </g>\r\n   <g id=\"line2d_43\">\r\n    <path clip-path=\"url(#pcea1fca52f)\" d=\"M 365.856071 403.289384 \r\nL 365.856071 421.887625 \r\n\" style=\"fill:none;stroke:#3f3f3f;stroke-linecap:square;stroke-width:1.5;\"/>\r\n   </g>\r\n   <g id=\"line2d_44\">\r\n    <path clip-path=\"url(#pcea1fca52f)\" d=\"M 365.856071 379.908739 \r\nL 365.856071 358.547331 \r\n\" style=\"fill:none;stroke:#3f3f3f;stroke-linecap:square;stroke-width:1.5;\"/>\r\n   </g>\r\n   <g id=\"line2d_45\">\r\n    <path clip-path=\"url(#pcea1fca52f)\" d=\"M 356.481671 421.887625 \r\nL 375.230471 421.887625 \r\n\" style=\"fill:none;stroke:#3f3f3f;stroke-linecap:square;stroke-width:1.5;\"/>\r\n   </g>\r\n   <g id=\"line2d_46\">\r\n    <path clip-path=\"url(#pcea1fca52f)\" d=\"M 356.481671 358.547331 \r\nL 375.230471 358.547331 \r\n\" style=\"fill:none;stroke:#3f3f3f;stroke-linecap:square;stroke-width:1.5;\"/>\r\n   </g>\r\n   <g id=\"line2d_47\">\r\n    <g clip-path=\"url(#pcea1fca52f)\">\r\n     <use style=\"fill:#3f3f3f;stroke:#3f3f3f;stroke-linejoin:miter;\" x=\"365.856071\" xlink:href=\"#m0450125f2e\" y=\"338.567507\"/>\r\n     <use style=\"fill:#3f3f3f;stroke:#3f3f3f;stroke-linejoin:miter;\" x=\"365.856071\" xlink:href=\"#m0450125f2e\" y=\"337.292199\"/>\r\n     <use style=\"fill:#3f3f3f;stroke:#3f3f3f;stroke-linejoin:miter;\" x=\"365.856071\" xlink:href=\"#m0450125f2e\" y=\"338.567507\"/>\r\n    </g>\r\n   </g>\r\n   <g id=\"line2d_48\">\r\n    <path clip-path=\"url(#pcea1fca52f)\" d=\"M 404.118929 388.517067 \r\nL 404.118929 411.260059 \r\n\" style=\"fill:none;stroke:#3f3f3f;stroke-linecap:square;stroke-width:1.5;\"/>\r\n   </g>\r\n   <g id=\"line2d_49\">\r\n    <path clip-path=\"url(#pcea1fca52f)\" d=\"M 404.118929 322.201056 \r\nL 404.118929 226.765513 \r\n\" style=\"fill:none;stroke:#3f3f3f;stroke-linecap:square;stroke-width:1.5;\"/>\r\n   </g>\r\n   <g id=\"line2d_50\">\r\n    <path clip-path=\"url(#pcea1fca52f)\" d=\"M 394.744529 411.260059 \r\nL 413.493329 411.260059 \r\n\" style=\"fill:none;stroke:#3f3f3f;stroke-linecap:square;stroke-width:1.5;\"/>\r\n   </g>\r\n   <g id=\"line2d_51\">\r\n    <path clip-path=\"url(#pcea1fca52f)\" d=\"M 394.744529 226.765513 \r\nL 413.493329 226.765513 \r\n\" style=\"fill:none;stroke:#3f3f3f;stroke-linecap:square;stroke-width:1.5;\"/>\r\n   </g>\r\n   <g id=\"line2d_52\">\r\n    <g clip-path=\"url(#pcea1fca52f)\">\r\n     <use style=\"fill:#3f3f3f;stroke:#3f3f3f;stroke-linejoin:miter;\" x=\"404.118929\" xlink:href=\"#m0450125f2e\" y=\"185.105455\"/>\r\n     <use style=\"fill:#3f3f3f;stroke:#3f3f3f;stroke-linejoin:miter;\" x=\"404.118929\" xlink:href=\"#m0450125f2e\" y=\"185.105455\"/>\r\n    </g>\r\n   </g>\r\n   <g id=\"line2d_53\">\r\n    <path clip-path=\"url(#pcea1fca52f)\" d=\"M 461.513214 422.312727 \r\nL 461.513214 422.312727 \r\n\" style=\"fill:none;stroke:#3f3f3f;stroke-linecap:square;stroke-width:1.5;\"/>\r\n   </g>\r\n   <g id=\"line2d_54\">\r\n    <path clip-path=\"url(#pcea1fca52f)\" d=\"M 461.513214 422.312727 \r\nL 461.513214 422.312727 \r\n\" style=\"fill:none;stroke:#3f3f3f;stroke-linecap:square;stroke-width:1.5;\"/>\r\n   </g>\r\n   <g id=\"line2d_55\">\r\n    <path clip-path=\"url(#pcea1fca52f)\" d=\"M 452.138814 422.312727 \r\nL 470.887614 422.312727 \r\n\" style=\"fill:none;stroke:#3f3f3f;stroke-linecap:square;stroke-width:1.5;\"/>\r\n   </g>\r\n   <g id=\"line2d_56\">\r\n    <path clip-path=\"url(#pcea1fca52f)\" d=\"M 452.138814 422.312727 \r\nL 470.887614 422.312727 \r\n\" style=\"fill:none;stroke:#3f3f3f;stroke-linecap:square;stroke-width:1.5;\"/>\r\n   </g>\r\n   <g id=\"line2d_57\"/>\r\n   <g id=\"line2d_58\">\r\n    <path clip-path=\"url(#pcea1fca52f)\" d=\"M 595.433214 392.555543 \r\nL 595.433214 401.057595 \r\n\" style=\"fill:none;stroke:#3f3f3f;stroke-linecap:square;stroke-width:1.5;\"/>\r\n   </g>\r\n   <g id=\"line2d_59\">\r\n    <path clip-path=\"url(#pcea1fca52f)\" d=\"M 595.433214 375.551437 \r\nL 595.433214 367.049384 \r\n\" style=\"fill:none;stroke:#3f3f3f;stroke-linecap:square;stroke-width:1.5;\"/>\r\n   </g>\r\n   <g id=\"line2d_60\">\r\n    <path clip-path=\"url(#pcea1fca52f)\" d=\"M 586.058814 401.057595 \r\nL 604.807614 401.057595 \r\n\" style=\"fill:none;stroke:#3f3f3f;stroke-linecap:square;stroke-width:1.5;\"/>\r\n   </g>\r\n   <g id=\"line2d_61\">\r\n    <path clip-path=\"url(#pcea1fca52f)\" d=\"M 586.058814 367.049384 \r\nL 604.807614 367.049384 \r\n\" style=\"fill:none;stroke:#3f3f3f;stroke-linecap:square;stroke-width:1.5;\"/>\r\n   </g>\r\n   <g id=\"line2d_62\"/>\r\n   <g id=\"line2d_63\">\r\n    <path clip-path=\"url(#pcea1fca52f)\" d=\"M 652.8275 408.28434 \r\nL 652.8275 409.134545 \r\n\" style=\"fill:none;stroke:#3f3f3f;stroke-linecap:square;stroke-width:1.5;\"/>\r\n   </g>\r\n   <g id=\"line2d_64\">\r\n    <path clip-path=\"url(#pcea1fca52f)\" d=\"M 652.8275 398.081877 \r\nL 652.8275 389.579824 \r\n\" style=\"fill:none;stroke:#3f3f3f;stroke-linecap:square;stroke-width:1.5;\"/>\r\n   </g>\r\n   <g id=\"line2d_65\">\r\n    <path clip-path=\"url(#pcea1fca52f)\" d=\"M 643.4531 409.134545 \r\nL 662.2019 409.134545 \r\n\" style=\"fill:none;stroke:#3f3f3f;stroke-linecap:square;stroke-width:1.5;\"/>\r\n   </g>\r\n   <g id=\"line2d_66\">\r\n    <path clip-path=\"url(#pcea1fca52f)\" d=\"M 643.4531 389.579824 \r\nL 662.2019 389.579824 \r\n\" style=\"fill:none;stroke:#3f3f3f;stroke-linecap:square;stroke-width:1.5;\"/>\r\n   </g>\r\n   <g id=\"line2d_67\"/>\r\n   <g id=\"line2d_68\">\r\n    <path clip-path=\"url(#pcea1fca52f)\" d=\"M 691.090357 410.409853 \r\nL 691.090357 414.235777 \r\n\" style=\"fill:none;stroke:#3f3f3f;stroke-linecap:square;stroke-width:1.5;\"/>\r\n   </g>\r\n   <g id=\"line2d_69\">\r\n    <path clip-path=\"url(#pcea1fca52f)\" d=\"M 691.090357 387.454311 \r\nL 691.090357 367.049384 \r\n\" style=\"fill:none;stroke:#3f3f3f;stroke-linecap:square;stroke-width:1.5;\"/>\r\n   </g>\r\n   <g id=\"line2d_70\">\r\n    <path clip-path=\"url(#pcea1fca52f)\" d=\"M 681.715957 414.235777 \r\nL 700.464757 414.235777 \r\n\" style=\"fill:none;stroke:#3f3f3f;stroke-linecap:square;stroke-width:1.5;\"/>\r\n   </g>\r\n   <g id=\"line2d_71\">\r\n    <path clip-path=\"url(#pcea1fca52f)\" d=\"M 681.715957 367.049384 \r\nL 700.464757 367.049384 \r\n\" style=\"fill:none;stroke:#3f3f3f;stroke-linecap:square;stroke-width:1.5;\"/>\r\n   </g>\r\n   <g id=\"line2d_72\"/>\r\n   <g id=\"line2d_73\">\r\n    <path clip-path=\"url(#pcea1fca52f)\" d=\"M 60.135843 383.628387 \r\nL 97.633443 383.628387 \r\n\" style=\"fill:none;stroke:#3f3f3f;stroke-linecap:square;stroke-width:1.5;\"/>\r\n   </g>\r\n   <g id=\"line2d_74\">\r\n    <path clip-path=\"url(#pcea1fca52f)\" d=\"M 98.3987 357.272023 \r\nL 135.8963 357.272023 \r\n\" style=\"fill:none;stroke:#3f3f3f;stroke-linecap:square;stroke-width:1.5;\"/>\r\n   </g>\r\n   <g id=\"line2d_75\">\r\n    <path clip-path=\"url(#pcea1fca52f)\" d=\"M 155.792986 389.154721 \r\nL 193.290586 389.154721 \r\n\" style=\"fill:none;stroke:#3f3f3f;stroke-linecap:square;stroke-width:1.5;\"/>\r\n   </g>\r\n   <g id=\"line2d_76\">\r\n    <path clip-path=\"url(#pcea1fca52f)\" d=\"M 194.055843 364.71132 \r\nL 231.553443 364.71132 \r\n\" style=\"fill:none;stroke:#3f3f3f;stroke-linecap:square;stroke-width:1.5;\"/>\r\n   </g>\r\n   <g id=\"line2d_77\">\r\n    <path clip-path=\"url(#pcea1fca52f)\" d=\"M 251.450129 395.743812 \r\nL 288.947729 395.743812 \r\n\" style=\"fill:none;stroke:#3f3f3f;stroke-linecap:square;stroke-width:1.5;\"/>\r\n   </g>\r\n   <g id=\"line2d_78\">\r\n    <path clip-path=\"url(#pcea1fca52f)\" d=\"M 289.712986 371.300411 \r\nL 327.210586 371.300411 \r\n\" style=\"fill:none;stroke:#3f3f3f;stroke-linecap:square;stroke-width:1.5;\"/>\r\n   </g>\r\n   <g id=\"line2d_79\">\r\n    <path clip-path=\"url(#pcea1fca52f)\" d=\"M 347.107271 391.280235 \r\nL 384.604871 391.280235 \r\n\" style=\"fill:none;stroke:#3f3f3f;stroke-linecap:square;stroke-width:1.5;\"/>\r\n   </g>\r\n   <g id=\"line2d_80\">\r\n    <path clip-path=\"url(#pcea1fca52f)\" d=\"M 385.370129 363.010909 \r\nL 422.867729 363.010909 \r\n\" style=\"fill:none;stroke:#3f3f3f;stroke-linecap:square;stroke-width:1.5;\"/>\r\n   </g>\r\n   <g id=\"line2d_81\">\r\n    <path clip-path=\"url(#pcea1fca52f)\" d=\"M 442.764414 422.312727 \r\nL 480.262014 422.312727 \r\n\" style=\"fill:none;stroke:#3f3f3f;stroke-linecap:square;stroke-width:1.5;\"/>\r\n   </g>\r\n   <g id=\"line2d_82\">\r\n    <path clip-path=\"url(#pcea1fca52f)\" d=\"M 576.684414 384.05349 \r\nL 614.182014 384.05349 \r\n\" style=\"fill:none;stroke:#3f3f3f;stroke-linecap:square;stroke-width:1.5;\"/>\r\n   </g>\r\n   <g id=\"line2d_83\">\r\n    <path clip-path=\"url(#pcea1fca52f)\" d=\"M 634.0787 404.458416 \r\nL 671.5763 404.458416 \r\n\" style=\"fill:none;stroke:#3f3f3f;stroke-linecap:square;stroke-width:1.5;\"/>\r\n   </g>\r\n   <g id=\"line2d_84\">\r\n    <path clip-path=\"url(#pcea1fca52f)\" d=\"M 672.341557 401.695249 \r\nL 709.839157 401.695249 \r\n\" style=\"fill:none;stroke:#3f3f3f;stroke-linecap:square;stroke-width:1.5;\"/>\r\n   </g>\r\n   <g id=\"patch_17\">\r\n    <path d=\"M 50.1875 442.08 \r\nL 50.1875 7.2 \r\n\" style=\"fill:none;stroke:#000000;stroke-linecap:square;stroke-linejoin:miter;stroke-width:0.8;\"/>\r\n   </g>\r\n   <g id=\"patch_18\">\r\n    <path d=\"M 719.7875 442.08 \r\nL 719.7875 7.2 \r\n\" style=\"fill:none;stroke:#000000;stroke-linecap:square;stroke-linejoin:miter;stroke-width:0.8;\"/>\r\n   </g>\r\n   <g id=\"patch_19\">\r\n    <path d=\"M 50.1875 442.08 \r\nL 719.7875 442.08 \r\n\" style=\"fill:none;stroke:#000000;stroke-linecap:square;stroke-linejoin:miter;stroke-width:0.8;\"/>\r\n   </g>\r\n   <g id=\"patch_20\">\r\n    <path d=\"M 50.1875 7.2 \r\nL 719.7875 7.2 \r\n\" style=\"fill:none;stroke:#000000;stroke-linecap:square;stroke-linejoin:miter;stroke-width:0.8;\"/>\r\n   </g>\r\n   <g id=\"legend_1\">\r\n    <g id=\"patch_21\">\r\n     <path d=\"M 673.135938 60.06875 \r\nL 712.7875 60.06875 \r\nQ 714.7875 60.06875 714.7875 58.06875 \r\nL 714.7875 14.2 \r\nQ 714.7875 12.2 712.7875 12.2 \r\nL 673.135938 12.2 \r\nQ 671.135938 12.2 671.135938 14.2 \r\nL 671.135938 58.06875 \r\nQ 671.135938 60.06875 673.135938 60.06875 \r\nz\r\n\" style=\"fill:#ffffff;opacity:0.8;stroke:#cccccc;stroke-linejoin:miter;\"/>\r\n    </g>\r\n    <g id=\"text_15\">\r\n     <!-- 셀프 -->\r\n     <g transform=\"translate(682.961719 23.792187)scale(0.1 -0.1)\">\r\n      <defs>\r\n       <path d=\"M 5056 2425 \r\nL 5056 5466 \r\nL 5522 5466 \r\nL 5522 2425 \r\nL 5056 2425 \r\nz\r\nM 3975 2425 \r\nL 3975 3884 \r\nL 2994 3884 \r\nL 2994 4306 \r\nL 3975 4306 \r\nL 3975 5344 \r\nL 4434 5344 \r\nL 4434 2425 \r\nL 3975 2425 \r\nz\r\nM 3200 2625 \r\nQ 2397 3081 2003 3847 \r\nQ 1913 3544 1545 3134 \r\nQ 1178 2725 781 2472 \r\nL 447 2791 \r\nQ 1041 3088 1403 3606 \r\nQ 1766 4125 1766 4744 \r\nL 1766 5253 \r\nL 2222 5253 \r\nL 2222 4744 \r\nQ 2222 4175 2590 3690 \r\nQ 2959 3206 3500 2969 \r\nL 3200 2625 \r\nz\r\nM 1747 -422 \r\nL 1747 1069 \r\nL 5063 1069 \r\nL 5063 1678 \r\nL 1747 1678 \r\nL 1747 2094 \r\nL 5522 2094 \r\nL 5522 666 \r\nL 2216 666 \r\nL 2216 -6 \r\nL 5684 -6 \r\nL 5684 -422 \r\nL 1747 -422 \r\nz\r\n\" id=\"MalgunGothic-c140\" transform=\"scale(0.015625)\"/>\r\n       <path d=\"M 997 4891 \r\nL 5403 4891 \r\nL 5403 4475 \r\nL 997 4475 \r\nL 997 4891 \r\nz\r\nM 4459 2463 \r\nL 5478 2463 \r\nL 5478 2053 \r\nL 922 2053 \r\nL 922 2463 \r\nL 1925 2463 \r\nL 1850 4159 \r\nL 2309 4159 \r\nL 2388 2463 \r\nL 4000 2463 \r\nL 4091 4159 \r\nL 4550 4159 \r\nL 4459 2463 \r\nz\r\nM 403 397 \r\nL 403 813 \r\nL 5997 813 \r\nL 5997 397 \r\nL 403 397 \r\nz\r\n\" id=\"MalgunGothic-d504\" transform=\"scale(0.015625)\"/>\r\n      </defs>\r\n      <use xlink:href=\"#MalgunGothic-c140\"/>\r\n      <use x=\"100\" xlink:href=\"#MalgunGothic-d504\"/>\r\n     </g>\r\n    </g>\r\n    <g id=\"patch_22\">\r\n     <path d=\"M 675.135938 38.748437 \r\nL 695.135938 38.748437 \r\nL 695.135938 31.748437 \r\nL 675.135938 31.748437 \r\nz\r\n\" style=\"fill:#3274a1;stroke:#3f3f3f;stroke-linejoin:miter;stroke-width:0.75;\"/>\r\n    </g>\r\n    <g id=\"text_16\">\r\n     <!-- Y -->\r\n     <g transform=\"translate(703.135938 38.748437)scale(0.1 -0.1)\">\r\n      <defs>\r\n       <path d=\"M 3566 4600 \r\nL 2050 1700 \r\nL 2050 0 \r\nL 1541 0 \r\nL 1541 1694 \r\nL 59 4600 \r\nL 638 4600 \r\nL 1684 2497 \r\nQ 1703 2459 1797 2222 \r\nL 1806 2222 \r\nQ 1838 2322 1931 2497 \r\nL 3028 4600 \r\nL 3566 4600 \r\nz\r\n\" id=\"MalgunGothic-59\" transform=\"scale(0.015625)\"/>\r\n      </defs>\r\n      <use xlink:href=\"#MalgunGothic-59\"/>\r\n     </g>\r\n    </g>\r\n    <g id=\"patch_23\">\r\n     <path d=\"M 675.135938 53.704687 \r\nL 695.135938 53.704687 \r\nL 695.135938 46.704687 \r\nL 675.135938 46.704687 \r\nz\r\n\" style=\"fill:#e1812c;stroke:#3f3f3f;stroke-linejoin:miter;stroke-width:0.75;\"/>\r\n    </g>\r\n    <g id=\"text_17\">\r\n     <!-- N -->\r\n     <g transform=\"translate(703.135938 53.704687)scale(0.1 -0.1)\">\r\n      <defs>\r\n       <path d=\"M 4288 0 \r\nL 3653 0 \r\nL 1253 3713 \r\nQ 1178 3828 1109 4000 \r\nL 1094 4000 \r\nQ 1116 3822 1116 3372 \r\nL 1116 0 \r\nL 609 0 \r\nL 609 4600 \r\nL 1278 4600 \r\nL 3613 938 \r\nQ 3775 684 3797 634 \r\nL 3809 634 \r\nQ 3775 863 3775 1316 \r\nL 3775 4600 \r\nL 4288 4600 \r\nL 4288 0 \r\nz\r\n\" id=\"MalgunGothic-4e\" transform=\"scale(0.015625)\"/>\r\n      </defs>\r\n      <use xlink:href=\"#MalgunGothic-4e\"/>\r\n     </g>\r\n    </g>\r\n   </g>\r\n  </g>\r\n </g>\r\n <defs>\r\n  <clipPath id=\"pcea1fca52f\">\r\n   <rect height=\"434.88\" width=\"669.6\" x=\"50.1875\" y=\"7.2\"/>\r\n  </clipPath>\r\n </defs>\r\n</svg>\r\n",
      "image/png": "[encoded data removed]"
     },
     "metadata": {
      "needs_background": "light"
     }
    }
   ],
   "source": [
    "# 상표별로 확인\n",
    "plt.figure(figsize=(12,8))\n",
    "sns.boxplot(x='상표', y='가격', hue='셀프', data= stations)\n",
    "plt.show()"
   ]
  },
  {
   "source": [
    "## 서울시 구별 휘발유 가격 확인"
   ],
   "cell_type": "markdown",
   "metadata": {}
  },
  {
   "cell_type": "code",
   "execution_count": 36,
   "metadata": {},
   "outputs": [],
   "source": [
    "import json\n",
    "import folium\n",
    "import warnings\n",
    "warnings.simplefilter(action='ignore', category=FutureWarning)"
   ]
  },
  {
   "cell_type": "code",
   "execution_count": 38,
   "metadata": {},
   "outputs": [
    {
     "output_type": "execute_result",
     "data": {
      "text/plain": [
       "                 상호                     주소    가격 셀프     상표    구\n",
       "9             서남주유소           서울 중구 통일로 30  2428  N  SK에너지   중구\n",
       "12            서계주유소   서울 용산구 청파로 367 (서계동)  2384  N  GS칼텍스  용산구\n",
       "8             필동주유소  서울 중구  퇴계로 196 (필동2가)  2269  N  GS칼텍스   중구\n",
       "7   SK에너지(주) 퇴계로주유소   서울 중구 퇴계로 228 (필동2가)  2259  N  SK에너지   중구\n",
       "36          뉴서울(강남)         서울 강남구 언주로 716  2195  N  SK에너지  강남구"
      ],
      "text/html": "<div>\n<style scoped>\n    .dataframe tbody tr th:only-of-type {\n        vertical-align: middle;\n    }\n\n    .dataframe tbody tr th {\n        vertical-align: top;\n    }\n\n    .dataframe thead th {\n        text-align: right;\n    }\n</style>\n<table border=\"1\" class=\"dataframe\">\n  <thead>\n    <tr style=\"text-align: right;\">\n      <th></th>\n      <th>상호</th>\n      <th>주소</th>\n      <th>가격</th>\n      <th>셀프</th>\n      <th>상표</th>\n      <th>구</th>\n    </tr>\n  </thead>\n  <tbody>\n    <tr>\n      <th>9</th>\n      <td>서남주유소</td>\n      <td>서울 중구 통일로 30</td>\n      <td>2428</td>\n      <td>N</td>\n      <td>SK에너지</td>\n      <td>중구</td>\n    </tr>\n    <tr>\n      <th>12</th>\n      <td>서계주유소</td>\n      <td>서울 용산구 청파로 367 (서계동)</td>\n      <td>2384</td>\n      <td>N</td>\n      <td>GS칼텍스</td>\n      <td>용산구</td>\n    </tr>\n    <tr>\n      <th>8</th>\n      <td>필동주유소</td>\n      <td>서울 중구  퇴계로 196 (필동2가)</td>\n      <td>2269</td>\n      <td>N</td>\n      <td>GS칼텍스</td>\n      <td>중구</td>\n    </tr>\n    <tr>\n      <th>7</th>\n      <td>SK에너지(주) 퇴계로주유소</td>\n      <td>서울 중구 퇴계로 228 (필동2가)</td>\n      <td>2259</td>\n      <td>N</td>\n      <td>SK에너지</td>\n      <td>중구</td>\n    </tr>\n    <tr>\n      <th>36</th>\n      <td>뉴서울(강남)</td>\n      <td>서울 강남구 언주로 716</td>\n      <td>2195</td>\n      <td>N</td>\n      <td>SK에너지</td>\n      <td>강남구</td>\n    </tr>\n  </tbody>\n</table>\n</div>"
     },
     "metadata": {},
     "execution_count": 38
    }
   ],
   "source": [
    "# 가격이 비싼 주유소 TOP5\n",
    "stations.sort_values(by='가격', ascending=False).head(5)"
   ]
  },
  {
   "cell_type": "code",
   "execution_count": 39,
   "metadata": {},
   "outputs": [
    {
     "output_type": "execute_result",
     "data": {
      "text/plain": [
       "           상호                      주소    가격 셀프      상표     구\n",
       "0    만남의광장주유소    서울 서초구 양재대로12길 73-71  1498  Y  알뜰(ex)   서초구\n",
       "0    북서울고속주유소    서울 강북구 삼양로 410 (수유동)  1499  Y   S-OIL   강북구\n",
       "1    (주)석산에너지    서울 강북구 삼양로 316 (수유동)  1499  Y  현대오일뱅크   강북구\n",
       "0     가로공원주유소  서울 양천구 가로공원로 165 (신월동)  1514  N   SK에너지   양천구\n",
       "1  영등포제일셀프주유소        서울 영등포구 가마산로 379  1515  Y  현대오일뱅크  영등포구"
      ],
      "text/html": "<div>\n<style scoped>\n    .dataframe tbody tr th:only-of-type {\n        vertical-align: middle;\n    }\n\n    .dataframe tbody tr th {\n        vertical-align: top;\n    }\n\n    .dataframe thead th {\n        text-align: right;\n    }\n</style>\n<table border=\"1\" class=\"dataframe\">\n  <thead>\n    <tr style=\"text-align: right;\">\n      <th></th>\n      <th>상호</th>\n      <th>주소</th>\n      <th>가격</th>\n      <th>셀프</th>\n      <th>상표</th>\n      <th>구</th>\n    </tr>\n  </thead>\n  <tbody>\n    <tr>\n      <th>0</th>\n      <td>만남의광장주유소</td>\n      <td>서울 서초구 양재대로12길 73-71</td>\n      <td>1498</td>\n      <td>Y</td>\n      <td>알뜰(ex)</td>\n      <td>서초구</td>\n    </tr>\n    <tr>\n      <th>0</th>\n      <td>북서울고속주유소</td>\n      <td>서울 강북구 삼양로 410 (수유동)</td>\n      <td>1499</td>\n      <td>Y</td>\n      <td>S-OIL</td>\n      <td>강북구</td>\n    </tr>\n    <tr>\n      <th>1</th>\n      <td>(주)석산에너지</td>\n      <td>서울 강북구 삼양로 316 (수유동)</td>\n      <td>1499</td>\n      <td>Y</td>\n      <td>현대오일뱅크</td>\n      <td>강북구</td>\n    </tr>\n    <tr>\n      <th>0</th>\n      <td>가로공원주유소</td>\n      <td>서울 양천구 가로공원로 165 (신월동)</td>\n      <td>1514</td>\n      <td>N</td>\n      <td>SK에너지</td>\n      <td>양천구</td>\n    </tr>\n    <tr>\n      <th>1</th>\n      <td>영등포제일셀프주유소</td>\n      <td>서울 영등포구 가마산로 379</td>\n      <td>1515</td>\n      <td>Y</td>\n      <td>현대오일뱅크</td>\n      <td>영등포구</td>\n    </tr>\n  </tbody>\n</table>\n</div>"
     },
     "metadata": {},
     "execution_count": 39
    }
   ],
   "source": [
    "stations.sort_values(by='가격').head(5)"
   ]
  },
  {
   "cell_type": "code",
   "execution_count": 43,
   "metadata": {},
   "outputs": [
    {
     "output_type": "execute_result",
     "data": {
      "text/plain": [
       "               가격\n",
       "구                \n",
       "강남구   1784.486486\n",
       "강동구   1677.562500\n",
       "강북구   1533.384615\n",
       "강서구   1593.242424\n",
       "관악구   1619.312500\n",
       "광진구   1596.214286\n",
       "구로구   1603.318182\n",
       "금천구   1566.833333\n",
       "노원구   1613.000000\n",
       "도봉구   1549.722222\n",
       "동대문구  1597.650000\n",
       "동작구   1602.900000\n",
       "마포구   1676.416667\n",
       "서대문구  1569.266667\n",
       "서초구   1658.314286\n",
       "성동구   1671.823529\n",
       "성북구   1562.416667\n",
       "송파구   1609.593750\n",
       "양천구   1585.500000\n",
       "영등포구  1650.555556\n",
       "용산구   2020.230769\n",
       "은평구   1570.312500\n",
       "종로구   1883.000000\n",
       "중구    2036.400000\n",
       "중랑구   1560.461538"
      ],
      "text/html": "<div>\n<style scoped>\n    .dataframe tbody tr th:only-of-type {\n        vertical-align: middle;\n    }\n\n    .dataframe tbody tr th {\n        vertical-align: top;\n    }\n\n    .dataframe thead th {\n        text-align: right;\n    }\n</style>\n<table border=\"1\" class=\"dataframe\">\n  <thead>\n    <tr style=\"text-align: right;\">\n      <th></th>\n      <th>가격</th>\n    </tr>\n    <tr>\n      <th>구</th>\n      <th></th>\n    </tr>\n  </thead>\n  <tbody>\n    <tr>\n      <th>강남구</th>\n      <td>1784.486486</td>\n    </tr>\n    <tr>\n      <th>강동구</th>\n      <td>1677.562500</td>\n    </tr>\n    <tr>\n      <th>강북구</th>\n      <td>1533.384615</td>\n    </tr>\n    <tr>\n      <th>강서구</th>\n      <td>1593.242424</td>\n    </tr>\n    <tr>\n      <th>관악구</th>\n      <td>1619.312500</td>\n    </tr>\n    <tr>\n      <th>광진구</th>\n      <td>1596.214286</td>\n    </tr>\n    <tr>\n      <th>구로구</th>\n      <td>1603.318182</td>\n    </tr>\n    <tr>\n      <th>금천구</th>\n      <td>1566.833333</td>\n    </tr>\n    <tr>\n      <th>노원구</th>\n      <td>1613.000000</td>\n    </tr>\n    <tr>\n      <th>도봉구</th>\n      <td>1549.722222</td>\n    </tr>\n    <tr>\n      <th>동대문구</th>\n      <td>1597.650000</td>\n    </tr>\n    <tr>\n      <th>동작구</th>\n      <td>1602.900000</td>\n    </tr>\n    <tr>\n      <th>마포구</th>\n      <td>1676.416667</td>\n    </tr>\n    <tr>\n      <th>서대문구</th>\n      <td>1569.266667</td>\n    </tr>\n    <tr>\n      <th>서초구</th>\n      <td>1658.314286</td>\n    </tr>\n    <tr>\n      <th>성동구</th>\n      <td>1671.823529</td>\n    </tr>\n    <tr>\n      <th>성북구</th>\n      <td>1562.416667</td>\n    </tr>\n    <tr>\n      <th>송파구</th>\n      <td>1609.593750</td>\n    </tr>\n    <tr>\n      <th>양천구</th>\n      <td>1585.500000</td>\n    </tr>\n    <tr>\n      <th>영등포구</th>\n      <td>1650.555556</td>\n    </tr>\n    <tr>\n      <th>용산구</th>\n      <td>2020.230769</td>\n    </tr>\n    <tr>\n      <th>은평구</th>\n      <td>1570.312500</td>\n    </tr>\n    <tr>\n      <th>종로구</th>\n      <td>1883.000000</td>\n    </tr>\n    <tr>\n      <th>중구</th>\n      <td>2036.400000</td>\n    </tr>\n    <tr>\n      <th>중랑구</th>\n      <td>1560.461538</td>\n    </tr>\n  </tbody>\n</table>\n</div>"
     },
     "metadata": {},
     "execution_count": 43
    }
   ],
   "source": [
    "gu_data = stations.groupby('구')[['가격']].mean()\n",
    "gu_data"
   ]
  },
  {
   "cell_type": "code",
   "execution_count": 46,
   "metadata": {},
   "outputs": [
    {
     "output_type": "error",
     "ename": "ValueError",
     "evalue": "key_on `'if'` not found in GeoJSON.",
     "traceback": [
      "\u001b[1;31m---------------------------------------------------------------------------\u001b[0m",
      "\u001b[1;31mValueError\u001b[0m                                Traceback (most recent call last)",
      "\u001b[1;32m<ipython-input-46-6d4526c013fa>\u001b[0m in \u001b[0;36m<module>\u001b[1;34m\u001b[0m\n\u001b[0;32m      6\u001b[0m         \u001b[0mtiles\u001b[0m\u001b[1;33m=\u001b[0m\u001b[1;34m'Stamen Toner'\u001b[0m\u001b[1;33m,\u001b[0m \u001b[0mzoom_start\u001b[0m\u001b[1;33m=\u001b[0m\u001b[1;36m11\u001b[0m\u001b[1;33m\u001b[0m\u001b[1;33m\u001b[0m\u001b[0m\n\u001b[0;32m      7\u001b[0m )\n\u001b[1;32m----> 8\u001b[1;33m map.choropleth(\n\u001b[0m\u001b[0;32m      9\u001b[0m     \u001b[0mgeo_data\u001b[0m \u001b[1;33m=\u001b[0m \u001b[0mgeo_data\u001b[0m\u001b[1;33m,\u001b[0m\u001b[1;33m\u001b[0m\u001b[1;33m\u001b[0m\u001b[0m\n\u001b[0;32m     10\u001b[0m     \u001b[0mdata\u001b[0m \u001b[1;33m=\u001b[0m \u001b[0mgu_data\u001b[0m\u001b[1;33m.\u001b[0m\u001b[0m가격\u001b[0m\u001b[1;33m,\u001b[0m\u001b[1;33m\u001b[0m\u001b[1;33m\u001b[0m\u001b[0m\n",
      "\u001b[1;32m~\\miniconda3\\lib\\site-packages\\folium\\folium.py\u001b[0m in \u001b[0;36mchoropleth\u001b[1;34m(self, *args, **kwargs)\u001b[0m\n\u001b[0;32m    414\u001b[0m         )\n\u001b[0;32m    415\u001b[0m         \u001b[1;32mfrom\u001b[0m \u001b[0mfolium\u001b[0m\u001b[1;33m.\u001b[0m\u001b[0mfeatures\u001b[0m \u001b[1;32mimport\u001b[0m \u001b[0mChoropleth\u001b[0m\u001b[1;33m\u001b[0m\u001b[1;33m\u001b[0m\u001b[0m\n\u001b[1;32m--> 416\u001b[1;33m         \u001b[0mself\u001b[0m\u001b[1;33m.\u001b[0m\u001b[0madd_child\u001b[0m\u001b[1;33m(\u001b[0m\u001b[0mChoropleth\u001b[0m\u001b[1;33m(\u001b[0m\u001b[1;33m*\u001b[0m\u001b[0margs\u001b[0m\u001b[1;33m,\u001b[0m \u001b[1;33m**\u001b[0m\u001b[0mkwargs\u001b[0m\u001b[1;33m)\u001b[0m\u001b[1;33m)\u001b[0m\u001b[1;33m\u001b[0m\u001b[1;33m\u001b[0m\u001b[0m\n\u001b[0m\u001b[0;32m    417\u001b[0m \u001b[1;33m\u001b[0m\u001b[0m\n\u001b[0;32m    418\u001b[0m     \u001b[1;32mdef\u001b[0m \u001b[0mkeep_in_front\u001b[0m\u001b[1;33m(\u001b[0m\u001b[0mself\u001b[0m\u001b[1;33m,\u001b[0m \u001b[1;33m*\u001b[0m\u001b[0margs\u001b[0m\u001b[1;33m)\u001b[0m\u001b[1;33m:\u001b[0m\u001b[1;33m\u001b[0m\u001b[1;33m\u001b[0m\u001b[0m\n",
      "\u001b[1;32m~\\miniconda3\\lib\\site-packages\\folium\\features.py\u001b[0m in \u001b[0;36m__init__\u001b[1;34m(self, geo_data, data, columns, key_on, bins, fill_color, nan_fill_color, fill_opacity, nan_fill_opacity, line_color, line_weight, line_opacity, name, legend_name, overlay, control, show, topojson, smooth_factor, highlight, **kwargs)\u001b[0m\n\u001b[0;32m   1287\u001b[0m                 smooth_factor=smooth_factor)\n\u001b[0;32m   1288\u001b[0m         \u001b[1;32melse\u001b[0m\u001b[1;33m:\u001b[0m\u001b[1;33m\u001b[0m\u001b[1;33m\u001b[0m\u001b[0m\n\u001b[1;32m-> 1289\u001b[1;33m             self.geojson = GeoJson(\n\u001b[0m\u001b[0;32m   1290\u001b[0m                 \u001b[0mgeo_data\u001b[0m\u001b[1;33m,\u001b[0m\u001b[1;33m\u001b[0m\u001b[1;33m\u001b[0m\u001b[0m\n\u001b[0;32m   1291\u001b[0m                 \u001b[0mstyle_function\u001b[0m\u001b[1;33m=\u001b[0m\u001b[0mstyle_function\u001b[0m\u001b[1;33m,\u001b[0m\u001b[1;33m\u001b[0m\u001b[1;33m\u001b[0m\u001b[0m\n",
      "\u001b[1;32m~\\miniconda3\\lib\\site-packages\\folium\\features.py\u001b[0m in \u001b[0;36m__init__\u001b[1;34m(self, data, style_function, highlight_function, name, overlay, control, show, smooth_factor, tooltip, embed, popup, zoom_on_click, marker)\u001b[0m\n\u001b[0;32m    502\u001b[0m             \u001b[0mself\u001b[0m\u001b[1;33m.\u001b[0m\u001b[0mconvert_to_feature_collection\u001b[0m\u001b[1;33m(\u001b[0m\u001b[1;33m)\u001b[0m\u001b[1;33m\u001b[0m\u001b[1;33m\u001b[0m\u001b[0m\n\u001b[0;32m    503\u001b[0m             \u001b[1;32mif\u001b[0m \u001b[0mself\u001b[0m\u001b[1;33m.\u001b[0m\u001b[0mstyle\u001b[0m\u001b[1;33m:\u001b[0m\u001b[1;33m\u001b[0m\u001b[1;33m\u001b[0m\u001b[0m\n\u001b[1;32m--> 504\u001b[1;33m                 \u001b[0mself\u001b[0m\u001b[1;33m.\u001b[0m\u001b[0m_validate_function\u001b[0m\u001b[1;33m(\u001b[0m\u001b[0mstyle_function\u001b[0m\u001b[1;33m,\u001b[0m \u001b[1;34m'style_function'\u001b[0m\u001b[1;33m)\u001b[0m\u001b[1;33m\u001b[0m\u001b[1;33m\u001b[0m\u001b[0m\n\u001b[0m\u001b[0;32m    505\u001b[0m                 \u001b[0mself\u001b[0m\u001b[1;33m.\u001b[0m\u001b[0mstyle_function\u001b[0m \u001b[1;33m=\u001b[0m \u001b[0mstyle_function\u001b[0m\u001b[1;33m\u001b[0m\u001b[1;33m\u001b[0m\u001b[0m\n\u001b[0;32m    506\u001b[0m                 \u001b[0mself\u001b[0m\u001b[1;33m.\u001b[0m\u001b[0mstyle_map\u001b[0m \u001b[1;33m=\u001b[0m \u001b[1;33m{\u001b[0m\u001b[1;33m}\u001b[0m\u001b[1;33m\u001b[0m\u001b[1;33m\u001b[0m\u001b[0m\n",
      "\u001b[1;32m~\\miniconda3\\lib\\site-packages\\folium\\features.py\u001b[0m in \u001b[0;36m_validate_function\u001b[1;34m(self, func, name)\u001b[0m\n\u001b[0;32m    567\u001b[0m         \"\"\"\n\u001b[0;32m    568\u001b[0m         \u001b[0mtest_feature\u001b[0m \u001b[1;33m=\u001b[0m \u001b[0mself\u001b[0m\u001b[1;33m.\u001b[0m\u001b[0mdata\u001b[0m\u001b[1;33m[\u001b[0m\u001b[1;34m'features'\u001b[0m\u001b[1;33m]\u001b[0m\u001b[1;33m[\u001b[0m\u001b[1;36m0\u001b[0m\u001b[1;33m]\u001b[0m\u001b[1;33m\u001b[0m\u001b[1;33m\u001b[0m\u001b[0m\n\u001b[1;32m--> 569\u001b[1;33m         \u001b[1;32mif\u001b[0m \u001b[1;32mnot\u001b[0m \u001b[0mcallable\u001b[0m\u001b[1;33m(\u001b[0m\u001b[0mfunc\u001b[0m\u001b[1;33m)\u001b[0m \u001b[1;32mor\u001b[0m \u001b[1;32mnot\u001b[0m \u001b[0misinstance\u001b[0m\u001b[1;33m(\u001b[0m\u001b[0mfunc\u001b[0m\u001b[1;33m(\u001b[0m\u001b[0mtest_feature\u001b[0m\u001b[1;33m)\u001b[0m\u001b[1;33m,\u001b[0m \u001b[0mdict\u001b[0m\u001b[1;33m)\u001b[0m\u001b[1;33m:\u001b[0m\u001b[1;33m\u001b[0m\u001b[1;33m\u001b[0m\u001b[0m\n\u001b[0m\u001b[0;32m    570\u001b[0m             raise ValueError('{} should be a function that accepts items from '\n\u001b[0;32m    571\u001b[0m                              \u001b[1;34m'data[\\'features\\'] and returns a dictionary.'\u001b[0m\u001b[1;33m\u001b[0m\u001b[1;33m\u001b[0m\u001b[0m\n",
      "\u001b[1;32m~\\miniconda3\\lib\\site-packages\\folium\\features.py\u001b[0m in \u001b[0;36mstyle_function\u001b[1;34m(x)\u001b[0m\n\u001b[0;32m   1265\u001b[0m \u001b[1;33m\u001b[0m\u001b[0m\n\u001b[0;32m   1266\u001b[0m         \u001b[1;32mdef\u001b[0m \u001b[0mstyle_function\u001b[0m\u001b[1;33m(\u001b[0m\u001b[0mx\u001b[0m\u001b[1;33m)\u001b[0m\u001b[1;33m:\u001b[0m\u001b[1;33m\u001b[0m\u001b[1;33m\u001b[0m\u001b[0m\n\u001b[1;32m-> 1267\u001b[1;33m             \u001b[0mcolor\u001b[0m\u001b[1;33m,\u001b[0m \u001b[0mopacity\u001b[0m \u001b[1;33m=\u001b[0m \u001b[0mcolor_scale_fun\u001b[0m\u001b[1;33m(\u001b[0m\u001b[0mx\u001b[0m\u001b[1;33m)\u001b[0m\u001b[1;33m\u001b[0m\u001b[1;33m\u001b[0m\u001b[0m\n\u001b[0m\u001b[0;32m   1268\u001b[0m             return {\n\u001b[0;32m   1269\u001b[0m                 \u001b[1;34m'weight'\u001b[0m\u001b[1;33m:\u001b[0m \u001b[0mline_weight\u001b[0m\u001b[1;33m,\u001b[0m\u001b[1;33m\u001b[0m\u001b[1;33m\u001b[0m\u001b[0m\n",
      "\u001b[1;32m~\\miniconda3\\lib\\site-packages\\folium\\features.py\u001b[0m in \u001b[0;36mcolor_scale_fun\u001b[1;34m(x)\u001b[0m\n\u001b[0;32m   1248\u001b[0m                 \u001b[0mkey_of_x\u001b[0m \u001b[1;33m=\u001b[0m \u001b[0mget_by_key\u001b[0m\u001b[1;33m(\u001b[0m\u001b[0mx\u001b[0m\u001b[1;33m,\u001b[0m \u001b[0mkey_on\u001b[0m\u001b[1;33m)\u001b[0m\u001b[1;33m\u001b[0m\u001b[1;33m\u001b[0m\u001b[0m\n\u001b[0;32m   1249\u001b[0m                 \u001b[1;32mif\u001b[0m \u001b[0mkey_of_x\u001b[0m \u001b[1;32mis\u001b[0m \u001b[1;32mNone\u001b[0m\u001b[1;33m:\u001b[0m\u001b[1;33m\u001b[0m\u001b[1;33m\u001b[0m\u001b[0m\n\u001b[1;32m-> 1250\u001b[1;33m                     \u001b[1;32mraise\u001b[0m \u001b[0mValueError\u001b[0m\u001b[1;33m(\u001b[0m\u001b[1;34m\"key_on `{!r}` not found in GeoJSON.\"\u001b[0m\u001b[1;33m.\u001b[0m\u001b[0mformat\u001b[0m\u001b[1;33m(\u001b[0m\u001b[0mkey_on\u001b[0m\u001b[1;33m)\u001b[0m\u001b[1;33m)\u001b[0m\u001b[1;33m\u001b[0m\u001b[1;33m\u001b[0m\u001b[0m\n\u001b[0m\u001b[0;32m   1251\u001b[0m \u001b[1;33m\u001b[0m\u001b[0m\n\u001b[0;32m   1252\u001b[0m                 \u001b[1;32mif\u001b[0m \u001b[0mkey_of_x\u001b[0m \u001b[1;32mnot\u001b[0m \u001b[1;32min\u001b[0m \u001b[0mcolor_data\u001b[0m\u001b[1;33m.\u001b[0m\u001b[0mkeys\u001b[0m\u001b[1;33m(\u001b[0m\u001b[1;33m)\u001b[0m\u001b[1;33m:\u001b[0m\u001b[1;33m\u001b[0m\u001b[1;33m\u001b[0m\u001b[0m\n",
      "\u001b[1;31mValueError\u001b[0m: key_on `'if'` not found in GeoJSON."
     ]
    }
   ],
   "source": [
    "geo_path = '../Web Crawling/skorea_municipalities_geo_simple.json'\n",
    "geo_data = json.load(open(geo_path, encoding='utf-8'))\n",
    "\n",
    "map = folium.Map(\n",
    "        location=[37.559868, 126.967109], \n",
    "        tiles='Stamen Toner', zoom_start=11\n",
    ")\n",
    "map.choropleth(\n",
    "    geo_data = geo_data,\n",
    "    data = gu_data.가격,\n",
    "    columns = [gu_data.index, gu_data.가격],\n",
    "    fill_color = 'PuRd',\n",
    "    key_on = 'feature.id'\n",
    ")\n",
    "map"
   ]
  },
  {
   "cell_type": "code",
   "execution_count": null,
   "metadata": {},
   "outputs": [],
   "source": []
  }
 ]
}