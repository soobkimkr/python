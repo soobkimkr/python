{
 "metadata": {
  "language_info": {
   "codemirror_mode": {
    "name": "ipython",
    "version": 3
   },
   "file_extension": ".py",
   "mimetype": "text/x-python",
   "name": "python",
   "nbconvert_exporter": "python",
   "pygments_lexer": "ipython3",
   "version": "3.8.5"
  },
  "orig_nbformat": 2,
  "kernelspec": {
   "name": "python385jvsc74a57bd08c1eae21719a0790335dcb83aad72b63b602cfe5cdb2bda0f60bc11d4f154e4b",
   "display_name": "Python 3.8.5 64-bit ('base': conda)"
  }
 },
 "nbformat": 4,
 "nbformat_minor": 2,
 "cells": [
  {
   "source": [
    "# Google 검색 크롤링 하기"
   ],
   "cell_type": "markdown",
   "metadata": {}
  },
  {
   "source": [
    "## Selenium 이용"
   ],
   "cell_type": "markdown",
   "metadata": {}
  },
  {
   "cell_type": "code",
   "execution_count": 3,
   "metadata": {},
   "outputs": [],
   "source": [
    "import requests\n",
    "import pandas as pd"
   ]
  },
  {
   "cell_type": "code",
   "execution_count": null,
   "metadata": {},
   "outputs": [],
   "source": [
    "url = 'https://google.com'\n",
    "req = requests.get(url)\n",
    "html = req.text"
   ]
  },
  {
   "cell_type": "code",
   "execution_count": 4,
   "metadata": {},
   "outputs": [],
   "source": [
    "import time\n",
    "from selenium import webdriver\n",
    "from selenium.webdriver.common.keys import Keys"
   ]
  },
  {
   "cell_type": "code",
   "execution_count": 22,
   "metadata": {},
   "outputs": [],
   "source": [
    "driver = webdriver.Chrome('./chromedriver')\n",
    "driver.get('http://www.google.com')\n",
    "time.sleep(0.5)   # 0.5초 기다림"
   ]
  },
  {
   "cell_type": "code",
   "execution_count": 6,
   "metadata": {},
   "outputs": [],
   "source": [
    "driver.close()"
   ]
  },
  {
   "cell_type": "code",
   "execution_count": 23,
   "metadata": {},
   "outputs": [],
   "source": [
    "search_box = driver.find_element_by_css_selector('.gLFyf.gsfi')\n",
    "search_box.send_keys('ChromeDriver')"
   ]
  },
  {
   "cell_type": "code",
   "execution_count": 12,
   "metadata": {},
   "outputs": [
    {
     "output_type": "error",
     "ename": "StaleElementReferenceException",
     "evalue": "Message: stale element reference: element is not attached to the page document\n  (Session info: chrome=91.0.4472.77)\n",
     "traceback": [
      "\u001b[1;31m---------------------------------------------------------------------------\u001b[0m",
      "\u001b[1;31mStaleElementReferenceException\u001b[0m            Traceback (most recent call last)",
      "\u001b[1;32m<ipython-input-12-641bcb494585>\u001b[0m in \u001b[0;36m<module>\u001b[1;34m\u001b[0m\n\u001b[1;32m----> 1\u001b[1;33m \u001b[0msearch_box\u001b[0m\u001b[1;33m.\u001b[0m\u001b[0msend_keys\u001b[0m\u001b[1;33m(\u001b[0m\u001b[0mKeys\u001b[0m\u001b[1;33m.\u001b[0m\u001b[0mENTER\u001b[0m\u001b[1;33m)\u001b[0m   \u001b[1;31m# Keys.RETURN\u001b[0m\u001b[1;33m\u001b[0m\u001b[1;33m\u001b[0m\u001b[0m\n\u001b[0m\u001b[0;32m      2\u001b[0m \u001b[0mtime\u001b[0m\u001b[1;33m.\u001b[0m\u001b[0msleep\u001b[0m\u001b[1;33m(\u001b[0m\u001b[1;36m1\u001b[0m\u001b[1;33m)\u001b[0m\u001b[1;33m\u001b[0m\u001b[1;33m\u001b[0m\u001b[0m\n",
      "\u001b[1;32m~\\miniconda3\\lib\\site-packages\\selenium\\webdriver\\remote\\webelement.py\u001b[0m in \u001b[0;36msend_keys\u001b[1;34m(self, *value)\u001b[0m\n\u001b[0;32m    475\u001b[0m                 \u001b[0mvalue\u001b[0m \u001b[1;33m=\u001b[0m \u001b[0mself\u001b[0m\u001b[1;33m.\u001b[0m\u001b[0m_upload\u001b[0m\u001b[1;33m(\u001b[0m\u001b[0mlocal_file\u001b[0m\u001b[1;33m)\u001b[0m\u001b[1;33m\u001b[0m\u001b[1;33m\u001b[0m\u001b[0m\n\u001b[0;32m    476\u001b[0m \u001b[1;33m\u001b[0m\u001b[0m\n\u001b[1;32m--> 477\u001b[1;33m         self._execute(Command.SEND_KEYS_TO_ELEMENT,\n\u001b[0m\u001b[0;32m    478\u001b[0m                       {'text': \"\".join(keys_to_typing(value)),\n\u001b[0;32m    479\u001b[0m                        'value': keys_to_typing(value)})\n",
      "\u001b[1;32m~\\miniconda3\\lib\\site-packages\\selenium\\webdriver\\remote\\webelement.py\u001b[0m in \u001b[0;36m_execute\u001b[1;34m(self, command, params)\u001b[0m\n\u001b[0;32m    631\u001b[0m             \u001b[0mparams\u001b[0m \u001b[1;33m=\u001b[0m \u001b[1;33m{\u001b[0m\u001b[1;33m}\u001b[0m\u001b[1;33m\u001b[0m\u001b[1;33m\u001b[0m\u001b[0m\n\u001b[0;32m    632\u001b[0m         \u001b[0mparams\u001b[0m\u001b[1;33m[\u001b[0m\u001b[1;34m'id'\u001b[0m\u001b[1;33m]\u001b[0m \u001b[1;33m=\u001b[0m \u001b[0mself\u001b[0m\u001b[1;33m.\u001b[0m\u001b[0m_id\u001b[0m\u001b[1;33m\u001b[0m\u001b[1;33m\u001b[0m\u001b[0m\n\u001b[1;32m--> 633\u001b[1;33m         \u001b[1;32mreturn\u001b[0m \u001b[0mself\u001b[0m\u001b[1;33m.\u001b[0m\u001b[0m_parent\u001b[0m\u001b[1;33m.\u001b[0m\u001b[0mexecute\u001b[0m\u001b[1;33m(\u001b[0m\u001b[0mcommand\u001b[0m\u001b[1;33m,\u001b[0m \u001b[0mparams\u001b[0m\u001b[1;33m)\u001b[0m\u001b[1;33m\u001b[0m\u001b[1;33m\u001b[0m\u001b[0m\n\u001b[0m\u001b[0;32m    634\u001b[0m \u001b[1;33m\u001b[0m\u001b[0m\n\u001b[0;32m    635\u001b[0m     \u001b[1;32mdef\u001b[0m \u001b[0mfind_element\u001b[0m\u001b[1;33m(\u001b[0m\u001b[0mself\u001b[0m\u001b[1;33m,\u001b[0m \u001b[0mby\u001b[0m\u001b[1;33m=\u001b[0m\u001b[0mBy\u001b[0m\u001b[1;33m.\u001b[0m\u001b[0mID\u001b[0m\u001b[1;33m,\u001b[0m \u001b[0mvalue\u001b[0m\u001b[1;33m=\u001b[0m\u001b[1;32mNone\u001b[0m\u001b[1;33m)\u001b[0m\u001b[1;33m:\u001b[0m\u001b[1;33m\u001b[0m\u001b[1;33m\u001b[0m\u001b[0m\n",
      "\u001b[1;32m~\\miniconda3\\lib\\site-packages\\selenium\\webdriver\\remote\\webdriver.py\u001b[0m in \u001b[0;36mexecute\u001b[1;34m(self, driver_command, params)\u001b[0m\n\u001b[0;32m    319\u001b[0m         \u001b[0mresponse\u001b[0m \u001b[1;33m=\u001b[0m \u001b[0mself\u001b[0m\u001b[1;33m.\u001b[0m\u001b[0mcommand_executor\u001b[0m\u001b[1;33m.\u001b[0m\u001b[0mexecute\u001b[0m\u001b[1;33m(\u001b[0m\u001b[0mdriver_command\u001b[0m\u001b[1;33m,\u001b[0m \u001b[0mparams\u001b[0m\u001b[1;33m)\u001b[0m\u001b[1;33m\u001b[0m\u001b[1;33m\u001b[0m\u001b[0m\n\u001b[0;32m    320\u001b[0m         \u001b[1;32mif\u001b[0m \u001b[0mresponse\u001b[0m\u001b[1;33m:\u001b[0m\u001b[1;33m\u001b[0m\u001b[1;33m\u001b[0m\u001b[0m\n\u001b[1;32m--> 321\u001b[1;33m             \u001b[0mself\u001b[0m\u001b[1;33m.\u001b[0m\u001b[0merror_handler\u001b[0m\u001b[1;33m.\u001b[0m\u001b[0mcheck_response\u001b[0m\u001b[1;33m(\u001b[0m\u001b[0mresponse\u001b[0m\u001b[1;33m)\u001b[0m\u001b[1;33m\u001b[0m\u001b[1;33m\u001b[0m\u001b[0m\n\u001b[0m\u001b[0;32m    322\u001b[0m             response['value'] = self._unwrap_value(\n\u001b[0;32m    323\u001b[0m                 response.get('value', None))\n",
      "\u001b[1;32m~\\miniconda3\\lib\\site-packages\\selenium\\webdriver\\remote\\errorhandler.py\u001b[0m in \u001b[0;36mcheck_response\u001b[1;34m(self, response)\u001b[0m\n\u001b[0;32m    240\u001b[0m                 \u001b[0malert_text\u001b[0m \u001b[1;33m=\u001b[0m \u001b[0mvalue\u001b[0m\u001b[1;33m[\u001b[0m\u001b[1;34m'alert'\u001b[0m\u001b[1;33m]\u001b[0m\u001b[1;33m.\u001b[0m\u001b[0mget\u001b[0m\u001b[1;33m(\u001b[0m\u001b[1;34m'text'\u001b[0m\u001b[1;33m)\u001b[0m\u001b[1;33m\u001b[0m\u001b[1;33m\u001b[0m\u001b[0m\n\u001b[0;32m    241\u001b[0m             \u001b[1;32mraise\u001b[0m \u001b[0mexception_class\u001b[0m\u001b[1;33m(\u001b[0m\u001b[0mmessage\u001b[0m\u001b[1;33m,\u001b[0m \u001b[0mscreen\u001b[0m\u001b[1;33m,\u001b[0m \u001b[0mstacktrace\u001b[0m\u001b[1;33m,\u001b[0m \u001b[0malert_text\u001b[0m\u001b[1;33m)\u001b[0m\u001b[1;33m\u001b[0m\u001b[1;33m\u001b[0m\u001b[0m\n\u001b[1;32m--> 242\u001b[1;33m         \u001b[1;32mraise\u001b[0m \u001b[0mexception_class\u001b[0m\u001b[1;33m(\u001b[0m\u001b[0mmessage\u001b[0m\u001b[1;33m,\u001b[0m \u001b[0mscreen\u001b[0m\u001b[1;33m,\u001b[0m \u001b[0mstacktrace\u001b[0m\u001b[1;33m)\u001b[0m\u001b[1;33m\u001b[0m\u001b[1;33m\u001b[0m\u001b[0m\n\u001b[0m\u001b[0;32m    243\u001b[0m \u001b[1;33m\u001b[0m\u001b[0m\n\u001b[0;32m    244\u001b[0m     \u001b[1;32mdef\u001b[0m \u001b[0m_value_or_default\u001b[0m\u001b[1;33m(\u001b[0m\u001b[0mself\u001b[0m\u001b[1;33m,\u001b[0m \u001b[0mobj\u001b[0m\u001b[1;33m,\u001b[0m \u001b[0mkey\u001b[0m\u001b[1;33m,\u001b[0m \u001b[0mdefault\u001b[0m\u001b[1;33m)\u001b[0m\u001b[1;33m:\u001b[0m\u001b[1;33m\u001b[0m\u001b[1;33m\u001b[0m\u001b[0m\n",
      "\u001b[1;31mStaleElementReferenceException\u001b[0m: Message: stale element reference: element is not attached to the page document\n  (Session info: chrome=91.0.4472.77)\n"
     ]
    }
   ],
   "source": [
    "search_box.send_keys(Keys.ENTER)   # Keys.RETURN\n",
    "time.sleep(1)"
   ]
  },
  {
   "cell_type": "code",
   "execution_count": 14,
   "metadata": {},
   "outputs": [
    {
     "output_type": "execute_result",
     "data": {
      "text/plain": [
       "10"
      ]
     },
     "metadata": {},
     "execution_count": 14
    }
   ],
   "source": [
    "divs = driver.find_elements_by_css_selector('.g')\n",
    "len(divs)"
   ]
  },
  {
   "cell_type": "code",
   "execution_count": 17,
   "metadata": {},
   "outputs": [
    {
     "output_type": "execute_result",
     "data": {
      "text/plain": [
       "'WebDriver for Chrome - Downloads - ChromeDriver'"
      ]
     },
     "metadata": {},
     "execution_count": 17
    }
   ],
   "source": [
    "div = divs[0]\n",
    "title = div.find_element_by_css_selector('.LC20lb.DKV0Md').text\n",
    "title"
   ]
  },
  {
   "cell_type": "code",
   "execution_count": 16,
   "metadata": {},
   "outputs": [
    {
     "output_type": "execute_result",
     "data": {
      "text/plain": [
       "'Current Releases · ChromeDriver 91.0.4472.19 · ChromeDriver 90.0.4430.24 · ChromeDriver 89.0.4389.23 · ChromeDriver 88.0.4324.96 · ChromeDriver 88.0.'"
      ]
     },
     "metadata": {},
     "execution_count": 16
    }
   ],
   "source": [
    "content = div.find_element_by_css_selector('.aCOpRe').text\n",
    "content"
   ]
  },
  {
   "cell_type": "code",
   "execution_count": 18,
   "metadata": {},
   "outputs": [
    {
     "output_type": "stream",
     "name": "stdout",
     "text": [
      "WebDriver for Chrome - Downloads - ChromeDriver\n",
      "Current Releases · ChromeDriver 91.0.4472.19 · ChromeDriver 90.0.4430.24 · ChromeDriver 89.0.4389.23 · ChromeDriver 88.0.4324.96 · ChromeDriver 88.0.\n",
      "================================\n",
      "WebDriver for Chrome - Downloads - ChromeDriver\n",
      "Current Releases · ChromeDriver 91.0.4472.19 · ChromeDriver 90.0.4430.24 · ChromeDriver 89.0.4389.23 · ChromeDriver 88.0.4324.96 · ChromeDriver 88.0.\n",
      "================================\n",
      "ChromeDriver - WebDriver for Chrome\n",
      "ChromeDriver · WebDriver is an open source tool for automated testing of webapps across many browsers. It provides capabilities for navigating to web pages, ...\n",
      "================================\n",
      "크롬드라이버(Chrome Driver) 설치/다운로드 : 네이버 블로그\n",
      "2019. 12. 28. — Downloads - ChromeDriver - WebDriver for Chrome. WebDriver for Chrome. chromedriver.chromium.org. . 2. 본인 크롬 버전에 맞는 드라이버 ...\n",
      "================================\n",
      "[ChromeDriver] 크롬 드라이버 버전에 따라 설정하는 방법\n",
      "2020. 6. 9. — Chrome 정보 클릭. 83. 어쩌고 버전입니다. 크롬드라이버 다운로드 사이트로 갑니다. https://chromedriver.chromium.org/downloads 여기서 버전에 ...\n",
      "================================\n",
      "ChromeDriver - GitHub\n",
      "이 페이지에 관한 정보가 없습니다.\n",
      "이유 알아보기\n",
      "================================\n",
      "chrome/test/chromedriver - chromium/src - Git at Google\n",
      "ChromeDriver is a standalone server which communicates with the WebDriver client via the WebDriver wire protocol, which is essentially synchronous JSON ...\n",
      "================================\n",
      "ChromeDriver Storage\n",
      "Name, Last modified, Size, ETag. [DIR], 2.0, -, -, -. [DIR], 2.1, -, -, -. [DIR], 2.10, -, -, -. [DIR], 2.11, -, -, -. [DIR], 2.12, -, -, -. [DIR], 2.13, -, -, -. [DIR], 2.14, -, -, -. [DIR] ...\n",
      "================================\n",
      "나만의 웹 크롤러 만들기(7): 창없는 크롬으로 크롤링하기 ...\n",
      "2017. 9. 27. — # chromdriver(windows는 chromedriver.exe)의 절대경로로 바꿔주세요! driver = webdriver.Chrome('chromedriver') driver.get('http:// ...\n",
      "================================\n",
      "Selenium을 사용하고 싶습니다 - goorm - Guide of goorm\n",
      "ChromeDriver 다운로드. 아래 명령을 사용하여 크롬 드라이버를 다운로드 받을 수 있습니다. 명령을 그대로 실행하면 안되고, 중간에 [크롬 드라이버 버전] 위치에 ...\n",
      "================================\n"
     ]
    }
   ],
   "source": [
    "for div in divs:\n",
    "    title = div.find_element_by_css_selector('.LC20lb.DKV0Md').text\n",
    "    content = div.find_element_by_css_selector('.aCOpRe').text\n",
    "    print(title)\n",
    "    print(content)\n",
    "    print('================================')"
   ]
  },
  {
   "source": [
    "- tag>tag : 자식 태그"
   ],
   "cell_type": "markdown",
   "metadata": {}
  },
  {
   "cell_type": "code",
   "execution_count": 19,
   "metadata": {},
   "outputs": [
    {
     "output_type": "execute_result",
     "data": {
      "text/plain": [
       "8"
      ]
     },
     "metadata": {},
     "execution_count": 19
    }
   ],
   "source": [
    "divs = driver.find_elements_by_css_selector('div#rso>div.g')\n",
    "len(divs)"
   ]
  },
  {
   "cell_type": "code",
   "execution_count": 20,
   "metadata": {},
   "outputs": [
    {
     "output_type": "stream",
     "name": "stdout",
     "text": [
      "WebDriver for Chrome - Downloads - ChromeDriver\n",
      "Current Releases · ChromeDriver 91.0.4472.19 · ChromeDriver 90.0.4430.24 · ChromeDriver 89.0.4389.23 · ChromeDriver 88.0.4324.96 · ChromeDriver 88.0.\n",
      "================================\n",
      "ChromeDriver - WebDriver for Chrome\n",
      "ChromeDriver · WebDriver is an open source tool for automated testing of webapps across many browsers. It provides capabilities for navigating to web pages, ...\n",
      "================================\n",
      "크롬드라이버(Chrome Driver) 설치/다운로드 : 네이버 블로그\n",
      "2019. 12. 28. — Downloads - ChromeDriver - WebDriver for Chrome. WebDriver for Chrome. chromedriver.chromium.org. . 2. 본인 크롬 버전에 맞는 드라이버 ...\n",
      "================================\n",
      "[ChromeDriver] 크롬 드라이버 버전에 따라 설정하는 방법\n",
      "2020. 6. 9. — Chrome 정보 클릭. 83. 어쩌고 버전입니다. 크롬드라이버 다운로드 사이트로 갑니다. https://chromedriver.chromium.org/downloads 여기서 버전에 ...\n",
      "================================\n",
      "ChromeDriver - GitHub\n",
      "이 페이지에 관한 정보가 없습니다.\n",
      "이유 알아보기\n",
      "================================\n",
      "chrome/test/chromedriver - chromium/src - Git at Google\n",
      "ChromeDriver is a standalone server which communicates with the WebDriver client via the WebDriver wire protocol, which is essentially synchronous JSON ...\n",
      "================================\n",
      "ChromeDriver Storage\n",
      "Name, Last modified, Size, ETag. [DIR], 2.0, -, -, -. [DIR], 2.1, -, -, -. [DIR], 2.10, -, -, -. [DIR], 2.11, -, -, -. [DIR], 2.12, -, -, -. [DIR], 2.13, -, -, -. [DIR], 2.14, -, -, -. [DIR] ...\n",
      "================================\n",
      "나만의 웹 크롤러 만들기(7): 창없는 크롬으로 크롤링하기 ...\n",
      "2017. 9. 27. — # chromdriver(windows는 chromedriver.exe)의 절대경로로 바꿔주세요! driver = webdriver.Chrome('chromedriver') driver.get('http:// ...\n",
      "================================\n"
     ]
    }
   ],
   "source": [
    "for div in divs:\n",
    "    title = div.find_element_by_css_selector('.LC20lb.DKV0Md').text\n",
    "    content = div.find_element_by_css_selector('.aCOpRe').text\n",
    "    print(title)\n",
    "    print(content)\n",
    "    print('================================')"
   ]
  },
  {
   "cell_type": "code",
   "execution_count": 21,
   "metadata": {},
   "outputs": [],
   "source": [
    "driver.close()"
   ]
  }
 ]
}